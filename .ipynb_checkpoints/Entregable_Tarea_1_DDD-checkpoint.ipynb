{
 "cells": [
  {
   "cell_type": "markdown",
   "metadata": {
    "id": "PAui1F5Youxz"
   },
   "source": [
    "<center><img src=\"data:image/png;base64,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\" title=\"Title text\" /></center>\n",
    "\n",
    "\n",
    "\n",
    "<hr style=\"height:2px;border:none\"/>\n",
    "<h1 align='center'> INF-398 INTRODUCCIÓN AL APRENDIZAJE AUTOMÁTICO - 2023-1 </h1>\n",
    "\n",
    "<H3 align='center'> Tarea 1  </H3>\n",
    "<hr style=\"height:2px;border:none\"/>"
   ]
  },
  {
   "cell_type": "markdown",
   "metadata": {
    "id": "afvVkQDipqL3"
   },
   "source": [
    "**Temas**  \n",
    "* Manipulaciones en pandas y numpy, imputación de datos y preprocesamientos\n",
    "* Feature Engineering\n",
    "* Regresión\n",
    "* Clasificación\n",
    "* Regularización\n",
    "* SVM\n",
    "\n",
    "\n",
    "**Formalidades**  \n",
    "* Equipos de trabajo de 3 personas (*Los estudiantes deben estar preparados para presentar la tarea el día de la entrega*)\n",
    "* El entregable debe ser un _Jupyter Notebook_ incluyendo los códigos utilizados, los resultados, los gráficos realizados y comentarios. Debe seguir una estructura similar a un informe (se debe introducir los problemas a trabajar, presentar los resultados y discutirlos), se penalizará fuertemente ausencia de comentarios, explicaciones de gráficos, _etc_. Las preguntas que deben responder se encuentran especificadas explícitamente con letras, ejemplo a) b) c), por lo tanto cualquier pregunta que se encuentre incompleta será penalizada con descuento del puntaje. Recuerde que los códigos presentes en este documento son solo una guía de referencia, por lo tanto no necesariamente funcionan, usted debe mostrar todos sus conocimientos aprendidos a lo largo de la carrera para que su código funcione como se espera. Si lo prefiere puede entregar un _Jupyter Notebook_ por pregunta o uno por toda la tarea, con tal de que todos los entregables esten bien identificados y se encuentren en el mismo repositorio de _Github_.\n",
    "* Se debe preparar una presentación del trabajo realizado y sus hallazgos. El presentador será elegido aleatoriamente y deberá apoyarse en el _Jupyter Notebook_ que entregarán. \n",
    "* Formato de entrega: envı́o de link del repositorio en _Github_, al correo electrónico de los ayudantes (<sebastian.sanchezl@sansano.usm.cl>), en copia al profesor (<cvalle@inf.utfsm.cl>). Especificar el siguiente asunto: [INF-398-2023-1 Tarea 1]. Invitar como colaborador a los usuarios de github \"ssanchezl\" para poder acceder al repositorio en caso de ser privado.\n",
    "\n",
    "* Fecha de presentaciones 12 de Mayo, en horario de clases.\n",
    "* Fecha de entrega: 13 de Mayo. Hora límite de entrega: 12:00 p.m. Cualquier _commit_ luego de la hora límite no será evaluado. Se realizará descuento por atrasos en envío del mail igualmente.  \n",
    "\n",
    "<hr style=\"height:2px;border:none\"/>"
   ]
  },
  {
   "cell_type": "markdown",
   "metadata": {},
   "source": [
    "<hr style=\"height:2px;border:none\"/>\n",
    "\n",
    "Estudiantes a cargo del presente informe con sus respectivos roles USM:\n",
    "\n",
    "- **Diego Astaburuaga: 202010018-7**\n",
    "\n",
    "- **David Rivas: 202010014-4**\n",
    "\n",
    "- **Dominique Yessouroun: 201910005-k**\n",
    "\n",
    "<hr style=\"height:2px;border:none\"/>"
   ]
  },
  {
   "cell_type": "markdown",
   "metadata": {
    "id": "ma71e6Q9WQ3v"
   },
   "source": [
    "Se importan librerias necesarias para el proyecto."
   ]
  },
  {
   "cell_type": "code",
   "execution_count": 111,
   "metadata": {
    "id": "0PYCL-EyLDn0"
   },
   "outputs": [],
   "source": [
    "import numpy as np\n",
    "import pandas as pd\n",
    "import seaborn as sns\n",
    "import sklearn as sk\n",
    "from sklearn import preprocessing\n",
    "from sklearn.model_selection import train_test_split, cross_val_score, KFold, GridSearchCV\n",
    "from sklearn.linear_model import LinearRegression, SGDRegressor # Regresores lineales\n",
    "from sklearn.metrics import mean_squared_error, classification_report, confusion_matrix\n",
    "from sklearn.decomposition import PCA\n",
    "from sklearn.feature_selection import mutual_info_classif # Mutual information classification\n",
    "import matplotlib.pyplot as plt\n",
    "from matplotlib import dates as md\n",
    "\n",
    "# Other libraries\n",
    "from datetime import datetime #datetime structure\n",
    "from sklearn.naive_bayes import GaussianNB\n",
    "from sklearn.discriminant_analysis import LinearDiscriminantAnalysis\n",
    "from sklearn.linear_model import LogisticRegression\n",
    "from sklearn.svm import NuSVC\n",
    "\n",
    "pd.set_option('display.max_columns', None)\n",
    "pd.set_option('display.max_rows', None)\n",
    "pd.set_option('display.width', None)\n",
    "pd.set_option('display.max_colwidth', None)"
   ]
  },
  {
   "cell_type": "markdown",
   "metadata": {
    "id": "tgOo-Ccfr4kc"
   },
   "source": [
    "# 1. Regresión lineal para la predicción de la demanda de bicicletas compartidas en Seúl\n",
    "\n",
    "La regresión lineal es un modelo matemático que pertenece al aprendizaje supervisado, el cual intenta aplicar relaciones que predigan el resultado de un evento basándose en los datos de variables independientes. Llamaremos a este resultado: variable objetivo o _target_, y como es un modelo de regresión lineal la variable objetivo es una variable continua.\n",
    "\n",
    "> En realidad es una variable discreta, pero se considera de esta manera dado que se abordará como un problema de regresión. Si se considera como uno de clasificación, la magnitud de clases (miles) para cada entero posible no es recomendable de trabajar por la cantidad de observaciones.\n",
    "\n",
    "<center><img src=https://t4.ftcdn.net/jpg/02/32/47/13/360_F_232471334_vfDHKHeRHtwkn0zvd8SM98THwQeYDn8y.jpg></center>\n",
    "\n",
    "Los sistemas de bicicletas compartidas son un medio para alquilar bicicletas en el que el proceso de afiliación, alquiler y devolución se automatiza a través de una red de _quioscos o puntos de estacionamiento_ repartidos por toda la ciudad. Gracias a estos sistemas, los usuarios pueden alquilar una bicicleta en un lugar y devolverla en otro cuando lo necesiten.\n",
    "\n",
    "En esta pregunta se le proporcionan datos de alquiler de la cantidad de bicicletas arrendadas por hora durante dos años según variables climáticas y laborales.\n",
    "\n",
    "> Más adelante se verifica que en realidad corresponden a 365 días repartidos entre los años 2017 y 2018.\n",
    "\n",
    "Usted tiene separar el dataset en un conjunto de entrenamiento y en un conjunto de prueba, y el objetivo de esta pregunta será: **predecir el número total de bicicletas alquiladas en el conjunto de pruebas**.\n",
    "\n",
    "La base de datos y toda la información asociada a esta se puede encontrar en el siguiente link: https://www.kaggle.com/datasets/saurabhshahane/seoul-bike-sharing-demand-prediction."
   ]
  },
  {
   "cell_type": "markdown",
   "metadata": {
    "id": "ZwXkfql_NnIh"
   },
   "source": [
    "## 1.1 Manipulación y exploración del conjunto de datos\n",
    "\n",
    "Lo primero es obtener los datos, para esto se pueden descargar los archivos directamente de la página de Kaggle a través del link de la descripción de arriba.\n",
    "\n",
    "Existen distintas formas para obtener los datos, de las cuales usted debe elegir solo uno:\n",
    "\n",
    "1. Puede descargarlos y guardarlos en su directorio local y luego cargar los datos usando este notebook con Jupyter.\n",
    "\n",
    "2. Puede utilizar google colab. En este caso existen 2 formas de cargar los datos, montando su cuenta de google drive en el colab y guardar los datos en una carpeta de drive. La otra forma es cargar los datos de forma en la máquiva virtual que le asigna colab de manera **temporal**. Tenga cuidado si elige la forma temporal ya que si por alguna razón se desconecta del ambiente, deberá volver a descargar los datos.\n",
    "\n",
    "3. Existen muchas otras formas más pero usted puede obtener los datos con cualquier método que estime conveniente.\n",
    "\n",
    "\n",
    "También es posible descargarlos mediante la [API](https://github.com/Kaggle/kaggle-api#kaggle-api) de Kaggle siguiendo las instrucciones en la sección API credentials. Si desea utilizar google colab puede seguir este tutorial [Kaggle + Colab](https://galhever.medium.com/how-to-import-data-from-kaggle-to-google-colab-8160caa11e2)\n",
    "\n",
    "> En este acercamiento se elije la opción de descargar directamente el conjunto de datos y cargarlo en el repositorio."
   ]
  },
  {
   "cell_type": "markdown",
   "metadata": {
    "id": "bz9zyBxkXgdB"
   },
   "source": [
    "### 1.1.1 Exploración del conjunto de datos\n",
    "\n",
    "\n"
   ]
  },
  {
   "cell_type": "code",
   "execution_count": 112,
   "metadata": {
    "id": "_ueS8iujKrSc"
   },
   "outputs": [],
   "source": [
    "# Data descargada en el repositorio\n",
    "data_original = pd.read_csv('SeoulBikeData.csv', encoding= 'unicode_escape')"
   ]
  },
  {
   "cell_type": "markdown",
   "metadata": {},
   "source": [
    "Observamos de manera general los primeros y últimos datos."
   ]
  },
  {
   "cell_type": "code",
   "execution_count": 113,
   "metadata": {
    "id": "WLUKTAS7KP_Y"
   },
   "outputs": [
    {
     "data": {
      "text/html": [
       "<div>\n",
       "<style scoped>\n",
       "    .dataframe tbody tr th:only-of-type {\n",
       "        vertical-align: middle;\n",
       "    }\n",
       "\n",
       "    .dataframe tbody tr th {\n",
       "        vertical-align: top;\n",
       "    }\n",
       "\n",
       "    .dataframe thead th {\n",
       "        text-align: right;\n",
       "    }\n",
       "</style>\n",
       "<table border=\"1\" class=\"dataframe\">\n",
       "  <thead>\n",
       "    <tr style=\"text-align: right;\">\n",
       "      <th></th>\n",
       "      <th>Date</th>\n",
       "      <th>Rented Bike Count</th>\n",
       "      <th>Hour</th>\n",
       "      <th>Temperature(°C)</th>\n",
       "      <th>Humidity(%)</th>\n",
       "      <th>Wind speed (m/s)</th>\n",
       "      <th>Visibility (10m)</th>\n",
       "      <th>Dew point temperature(°C)</th>\n",
       "      <th>Solar Radiation (MJ/m2)</th>\n",
       "      <th>Rainfall(mm)</th>\n",
       "      <th>Snowfall (cm)</th>\n",
       "      <th>Seasons</th>\n",
       "      <th>Holiday</th>\n",
       "      <th>Functioning Day</th>\n",
       "    </tr>\n",
       "  </thead>\n",
       "  <tbody>\n",
       "    <tr>\n",
       "      <th>0</th>\n",
       "      <td>01/12/2017</td>\n",
       "      <td>254</td>\n",
       "      <td>0</td>\n",
       "      <td>-5.2</td>\n",
       "      <td>37</td>\n",
       "      <td>2.2</td>\n",
       "      <td>2000</td>\n",
       "      <td>-17.6</td>\n",
       "      <td>0.0</td>\n",
       "      <td>0.0</td>\n",
       "      <td>0.0</td>\n",
       "      <td>Winter</td>\n",
       "      <td>No Holiday</td>\n",
       "      <td>Yes</td>\n",
       "    </tr>\n",
       "    <tr>\n",
       "      <th>1</th>\n",
       "      <td>01/12/2017</td>\n",
       "      <td>204</td>\n",
       "      <td>1</td>\n",
       "      <td>-5.5</td>\n",
       "      <td>38</td>\n",
       "      <td>0.8</td>\n",
       "      <td>2000</td>\n",
       "      <td>-17.6</td>\n",
       "      <td>0.0</td>\n",
       "      <td>0.0</td>\n",
       "      <td>0.0</td>\n",
       "      <td>Winter</td>\n",
       "      <td>No Holiday</td>\n",
       "      <td>Yes</td>\n",
       "    </tr>\n",
       "    <tr>\n",
       "      <th>2</th>\n",
       "      <td>01/12/2017</td>\n",
       "      <td>173</td>\n",
       "      <td>2</td>\n",
       "      <td>-6.0</td>\n",
       "      <td>39</td>\n",
       "      <td>1.0</td>\n",
       "      <td>2000</td>\n",
       "      <td>-17.7</td>\n",
       "      <td>0.0</td>\n",
       "      <td>0.0</td>\n",
       "      <td>0.0</td>\n",
       "      <td>Winter</td>\n",
       "      <td>No Holiday</td>\n",
       "      <td>Yes</td>\n",
       "    </tr>\n",
       "    <tr>\n",
       "      <th>3</th>\n",
       "      <td>01/12/2017</td>\n",
       "      <td>107</td>\n",
       "      <td>3</td>\n",
       "      <td>-6.2</td>\n",
       "      <td>40</td>\n",
       "      <td>0.9</td>\n",
       "      <td>2000</td>\n",
       "      <td>-17.6</td>\n",
       "      <td>0.0</td>\n",
       "      <td>0.0</td>\n",
       "      <td>0.0</td>\n",
       "      <td>Winter</td>\n",
       "      <td>No Holiday</td>\n",
       "      <td>Yes</td>\n",
       "    </tr>\n",
       "    <tr>\n",
       "      <th>4</th>\n",
       "      <td>01/12/2017</td>\n",
       "      <td>78</td>\n",
       "      <td>4</td>\n",
       "      <td>-6.0</td>\n",
       "      <td>36</td>\n",
       "      <td>2.3</td>\n",
       "      <td>2000</td>\n",
       "      <td>-18.6</td>\n",
       "      <td>0.0</td>\n",
       "      <td>0.0</td>\n",
       "      <td>0.0</td>\n",
       "      <td>Winter</td>\n",
       "      <td>No Holiday</td>\n",
       "      <td>Yes</td>\n",
       "    </tr>\n",
       "  </tbody>\n",
       "</table>\n",
       "</div>"
      ],
      "text/plain": [
       "         Date  Rented Bike Count  Hour  Temperature(°C)  Humidity(%)  \\\n",
       "0  01/12/2017                254     0             -5.2           37   \n",
       "1  01/12/2017                204     1             -5.5           38   \n",
       "2  01/12/2017                173     2             -6.0           39   \n",
       "3  01/12/2017                107     3             -6.2           40   \n",
       "4  01/12/2017                 78     4             -6.0           36   \n",
       "\n",
       "   Wind speed (m/s)  Visibility (10m)  Dew point temperature(°C)  \\\n",
       "0               2.2              2000                      -17.6   \n",
       "1               0.8              2000                      -17.6   \n",
       "2               1.0              2000                      -17.7   \n",
       "3               0.9              2000                      -17.6   \n",
       "4               2.3              2000                      -18.6   \n",
       "\n",
       "   Solar Radiation (MJ/m2)  Rainfall(mm)  Snowfall (cm) Seasons     Holiday  \\\n",
       "0                      0.0           0.0            0.0  Winter  No Holiday   \n",
       "1                      0.0           0.0            0.0  Winter  No Holiday   \n",
       "2                      0.0           0.0            0.0  Winter  No Holiday   \n",
       "3                      0.0           0.0            0.0  Winter  No Holiday   \n",
       "4                      0.0           0.0            0.0  Winter  No Holiday   \n",
       "\n",
       "  Functioning Day  \n",
       "0             Yes  \n",
       "1             Yes  \n",
       "2             Yes  \n",
       "3             Yes  \n",
       "4             Yes  "
      ]
     },
     "execution_count": 113,
     "metadata": {},
     "output_type": "execute_result"
    }
   ],
   "source": [
    "data_original.head()"
   ]
  },
  {
   "cell_type": "code",
   "execution_count": 114,
   "metadata": {},
   "outputs": [
    {
     "data": {
      "text/html": [
       "<div>\n",
       "<style scoped>\n",
       "    .dataframe tbody tr th:only-of-type {\n",
       "        vertical-align: middle;\n",
       "    }\n",
       "\n",
       "    .dataframe tbody tr th {\n",
       "        vertical-align: top;\n",
       "    }\n",
       "\n",
       "    .dataframe thead th {\n",
       "        text-align: right;\n",
       "    }\n",
       "</style>\n",
       "<table border=\"1\" class=\"dataframe\">\n",
       "  <thead>\n",
       "    <tr style=\"text-align: right;\">\n",
       "      <th></th>\n",
       "      <th>Date</th>\n",
       "      <th>Rented Bike Count</th>\n",
       "      <th>Hour</th>\n",
       "      <th>Temperature(°C)</th>\n",
       "      <th>Humidity(%)</th>\n",
       "      <th>Wind speed (m/s)</th>\n",
       "      <th>Visibility (10m)</th>\n",
       "      <th>Dew point temperature(°C)</th>\n",
       "      <th>Solar Radiation (MJ/m2)</th>\n",
       "      <th>Rainfall(mm)</th>\n",
       "      <th>Snowfall (cm)</th>\n",
       "      <th>Seasons</th>\n",
       "      <th>Holiday</th>\n",
       "      <th>Functioning Day</th>\n",
       "    </tr>\n",
       "  </thead>\n",
       "  <tbody>\n",
       "    <tr>\n",
       "      <th>8755</th>\n",
       "      <td>30/11/2018</td>\n",
       "      <td>1003</td>\n",
       "      <td>19</td>\n",
       "      <td>4.2</td>\n",
       "      <td>34</td>\n",
       "      <td>2.6</td>\n",
       "      <td>1894</td>\n",
       "      <td>-10.3</td>\n",
       "      <td>0.0</td>\n",
       "      <td>0.0</td>\n",
       "      <td>0.0</td>\n",
       "      <td>Autumn</td>\n",
       "      <td>No Holiday</td>\n",
       "      <td>Yes</td>\n",
       "    </tr>\n",
       "    <tr>\n",
       "      <th>8756</th>\n",
       "      <td>30/11/2018</td>\n",
       "      <td>764</td>\n",
       "      <td>20</td>\n",
       "      <td>3.4</td>\n",
       "      <td>37</td>\n",
       "      <td>2.3</td>\n",
       "      <td>2000</td>\n",
       "      <td>-9.9</td>\n",
       "      <td>0.0</td>\n",
       "      <td>0.0</td>\n",
       "      <td>0.0</td>\n",
       "      <td>Autumn</td>\n",
       "      <td>No Holiday</td>\n",
       "      <td>Yes</td>\n",
       "    </tr>\n",
       "    <tr>\n",
       "      <th>8757</th>\n",
       "      <td>30/11/2018</td>\n",
       "      <td>694</td>\n",
       "      <td>21</td>\n",
       "      <td>2.6</td>\n",
       "      <td>39</td>\n",
       "      <td>0.3</td>\n",
       "      <td>1968</td>\n",
       "      <td>-9.9</td>\n",
       "      <td>0.0</td>\n",
       "      <td>0.0</td>\n",
       "      <td>0.0</td>\n",
       "      <td>Autumn</td>\n",
       "      <td>No Holiday</td>\n",
       "      <td>Yes</td>\n",
       "    </tr>\n",
       "    <tr>\n",
       "      <th>8758</th>\n",
       "      <td>30/11/2018</td>\n",
       "      <td>712</td>\n",
       "      <td>22</td>\n",
       "      <td>2.1</td>\n",
       "      <td>41</td>\n",
       "      <td>1.0</td>\n",
       "      <td>1859</td>\n",
       "      <td>-9.8</td>\n",
       "      <td>0.0</td>\n",
       "      <td>0.0</td>\n",
       "      <td>0.0</td>\n",
       "      <td>Autumn</td>\n",
       "      <td>No Holiday</td>\n",
       "      <td>Yes</td>\n",
       "    </tr>\n",
       "    <tr>\n",
       "      <th>8759</th>\n",
       "      <td>30/11/2018</td>\n",
       "      <td>584</td>\n",
       "      <td>23</td>\n",
       "      <td>1.9</td>\n",
       "      <td>43</td>\n",
       "      <td>1.3</td>\n",
       "      <td>1909</td>\n",
       "      <td>-9.3</td>\n",
       "      <td>0.0</td>\n",
       "      <td>0.0</td>\n",
       "      <td>0.0</td>\n",
       "      <td>Autumn</td>\n",
       "      <td>No Holiday</td>\n",
       "      <td>Yes</td>\n",
       "    </tr>\n",
       "  </tbody>\n",
       "</table>\n",
       "</div>"
      ],
      "text/plain": [
       "            Date  Rented Bike Count  Hour  Temperature(°C)  Humidity(%)  \\\n",
       "8755  30/11/2018               1003    19              4.2           34   \n",
       "8756  30/11/2018                764    20              3.4           37   \n",
       "8757  30/11/2018                694    21              2.6           39   \n",
       "8758  30/11/2018                712    22              2.1           41   \n",
       "8759  30/11/2018                584    23              1.9           43   \n",
       "\n",
       "      Wind speed (m/s)  Visibility (10m)  Dew point temperature(°C)  \\\n",
       "8755               2.6              1894                      -10.3   \n",
       "8756               2.3              2000                       -9.9   \n",
       "8757               0.3              1968                       -9.9   \n",
       "8758               1.0              1859                       -9.8   \n",
       "8759               1.3              1909                       -9.3   \n",
       "\n",
       "      Solar Radiation (MJ/m2)  Rainfall(mm)  Snowfall (cm) Seasons  \\\n",
       "8755                      0.0           0.0            0.0  Autumn   \n",
       "8756                      0.0           0.0            0.0  Autumn   \n",
       "8757                      0.0           0.0            0.0  Autumn   \n",
       "8758                      0.0           0.0            0.0  Autumn   \n",
       "8759                      0.0           0.0            0.0  Autumn   \n",
       "\n",
       "         Holiday Functioning Day  \n",
       "8755  No Holiday             Yes  \n",
       "8756  No Holiday             Yes  \n",
       "8757  No Holiday             Yes  \n",
       "8758  No Holiday             Yes  \n",
       "8759  No Holiday             Yes  "
      ]
     },
     "execution_count": 114,
     "metadata": {},
     "output_type": "execute_result"
    }
   ],
   "source": [
    "data_original.tail()"
   ]
  },
  {
   "cell_type": "markdown",
   "metadata": {
    "id": "Kf6OuaXU6lAv"
   },
   "source": [
    "Explore el conjunto de datos y responda  brevemente las siguiente preguntas:\n",
    "\n",
    "> a) ¿Cuáles variables poseen valores numéricos y cuáles poseen valores categóricos?\n",
    "\n",
    "> b) ¿Qué aspecto tienen en común las variables _Date_ y _Season_?\n",
    "\n",
    "> c) Revise si faltan valores en los conjuntos de datos de prueba y de entrenamiento."
   ]
  },
  {
   "cell_type": "markdown",
   "metadata": {},
   "source": [
    "Para responder las preguntas se realizará un análisis exploratorio general a las variables y datos. Se responderán las preguntas de forma ordenada."
   ]
  },
  {
   "cell_type": "code",
   "execution_count": 115,
   "metadata": {
    "id": "ItJ9oQzALZHU"
   },
   "outputs": [
    {
     "name": "stdout",
     "output_type": "stream",
     "text": [
      "Total Rows and Columns in DataFrame is : (8760, 14) \n",
      "\n"
     ]
    },
    {
     "data": {
      "text/html": [
       "<div>\n",
       "<style scoped>\n",
       "    .dataframe tbody tr th:only-of-type {\n",
       "        vertical-align: middle;\n",
       "    }\n",
       "\n",
       "    .dataframe tbody tr th {\n",
       "        vertical-align: top;\n",
       "    }\n",
       "\n",
       "    .dataframe thead th {\n",
       "        text-align: right;\n",
       "    }\n",
       "</style>\n",
       "<table border=\"1\" class=\"dataframe\">\n",
       "  <thead>\n",
       "    <tr style=\"text-align: right;\">\n",
       "      <th></th>\n",
       "      <th>DataType</th>\n",
       "      <th>Non-null_Values</th>\n",
       "      <th>Unique_Values</th>\n",
       "      <th>NaN_Values</th>\n",
       "      <th>NaN_Values_Percentage</th>\n",
       "    </tr>\n",
       "  </thead>\n",
       "  <tbody>\n",
       "    <tr>\n",
       "      <th>Date</th>\n",
       "      <td>object</td>\n",
       "      <td>8760</td>\n",
       "      <td>365</td>\n",
       "      <td>0</td>\n",
       "      <td>0.0</td>\n",
       "    </tr>\n",
       "    <tr>\n",
       "      <th>Rented Bike Count</th>\n",
       "      <td>int64</td>\n",
       "      <td>8760</td>\n",
       "      <td>2166</td>\n",
       "      <td>0</td>\n",
       "      <td>0.0</td>\n",
       "    </tr>\n",
       "    <tr>\n",
       "      <th>Hour</th>\n",
       "      <td>int64</td>\n",
       "      <td>8760</td>\n",
       "      <td>24</td>\n",
       "      <td>0</td>\n",
       "      <td>0.0</td>\n",
       "    </tr>\n",
       "    <tr>\n",
       "      <th>Temperature(°C)</th>\n",
       "      <td>float64</td>\n",
       "      <td>8760</td>\n",
       "      <td>546</td>\n",
       "      <td>0</td>\n",
       "      <td>0.0</td>\n",
       "    </tr>\n",
       "    <tr>\n",
       "      <th>Humidity(%)</th>\n",
       "      <td>int64</td>\n",
       "      <td>8760</td>\n",
       "      <td>90</td>\n",
       "      <td>0</td>\n",
       "      <td>0.0</td>\n",
       "    </tr>\n",
       "    <tr>\n",
       "      <th>Wind speed (m/s)</th>\n",
       "      <td>float64</td>\n",
       "      <td>8760</td>\n",
       "      <td>65</td>\n",
       "      <td>0</td>\n",
       "      <td>0.0</td>\n",
       "    </tr>\n",
       "    <tr>\n",
       "      <th>Visibility (10m)</th>\n",
       "      <td>int64</td>\n",
       "      <td>8760</td>\n",
       "      <td>1789</td>\n",
       "      <td>0</td>\n",
       "      <td>0.0</td>\n",
       "    </tr>\n",
       "    <tr>\n",
       "      <th>Dew point temperature(°C)</th>\n",
       "      <td>float64</td>\n",
       "      <td>8760</td>\n",
       "      <td>556</td>\n",
       "      <td>0</td>\n",
       "      <td>0.0</td>\n",
       "    </tr>\n",
       "    <tr>\n",
       "      <th>Solar Radiation (MJ/m2)</th>\n",
       "      <td>float64</td>\n",
       "      <td>8760</td>\n",
       "      <td>345</td>\n",
       "      <td>0</td>\n",
       "      <td>0.0</td>\n",
       "    </tr>\n",
       "    <tr>\n",
       "      <th>Rainfall(mm)</th>\n",
       "      <td>float64</td>\n",
       "      <td>8760</td>\n",
       "      <td>61</td>\n",
       "      <td>0</td>\n",
       "      <td>0.0</td>\n",
       "    </tr>\n",
       "    <tr>\n",
       "      <th>Snowfall (cm)</th>\n",
       "      <td>float64</td>\n",
       "      <td>8760</td>\n",
       "      <td>51</td>\n",
       "      <td>0</td>\n",
       "      <td>0.0</td>\n",
       "    </tr>\n",
       "    <tr>\n",
       "      <th>Seasons</th>\n",
       "      <td>object</td>\n",
       "      <td>8760</td>\n",
       "      <td>4</td>\n",
       "      <td>0</td>\n",
       "      <td>0.0</td>\n",
       "    </tr>\n",
       "    <tr>\n",
       "      <th>Holiday</th>\n",
       "      <td>object</td>\n",
       "      <td>8760</td>\n",
       "      <td>2</td>\n",
       "      <td>0</td>\n",
       "      <td>0.0</td>\n",
       "    </tr>\n",
       "    <tr>\n",
       "      <th>Functioning Day</th>\n",
       "      <td>object</td>\n",
       "      <td>8760</td>\n",
       "      <td>2</td>\n",
       "      <td>0</td>\n",
       "      <td>0.0</td>\n",
       "    </tr>\n",
       "  </tbody>\n",
       "</table>\n",
       "</div>"
      ],
      "text/plain": [
       "                          DataType  Non-null_Values  Unique_Values  \\\n",
       "Date                        object             8760            365   \n",
       "Rented Bike Count            int64             8760           2166   \n",
       "Hour                         int64             8760             24   \n",
       "Temperature(°C)            float64             8760            546   \n",
       "Humidity(%)                  int64             8760             90   \n",
       "Wind speed (m/s)           float64             8760             65   \n",
       "Visibility (10m)             int64             8760           1789   \n",
       "Dew point temperature(°C)  float64             8760            556   \n",
       "Solar Radiation (MJ/m2)    float64             8760            345   \n",
       "Rainfall(mm)               float64             8760             61   \n",
       "Snowfall (cm)              float64             8760             51   \n",
       "Seasons                     object             8760              4   \n",
       "Holiday                     object             8760              2   \n",
       "Functioning Day             object             8760              2   \n",
       "\n",
       "                           NaN_Values  NaN_Values_Percentage  \n",
       "Date                                0                    0.0  \n",
       "Rented Bike Count                   0                    0.0  \n",
       "Hour                                0                    0.0  \n",
       "Temperature(°C)                     0                    0.0  \n",
       "Humidity(%)                         0                    0.0  \n",
       "Wind speed (m/s)                    0                    0.0  \n",
       "Visibility (10m)                    0                    0.0  \n",
       "Dew point temperature(°C)           0                    0.0  \n",
       "Solar Radiation (MJ/m2)             0                    0.0  \n",
       "Rainfall(mm)                        0                    0.0  \n",
       "Snowfall (cm)                       0                    0.0  \n",
       "Seasons                             0                    0.0  \n",
       "Holiday                             0                    0.0  \n",
       "Functioning Day                     0                    0.0  "
      ]
     },
     "execution_count": 115,
     "metadata": {},
     "output_type": "execute_result"
    }
   ],
   "source": [
    "# Generic function that performs a brief diagnosis on a dataframe\n",
    "def datainfo(df):\n",
    "    temp_ps = pd.DataFrame(index = df.columns)\n",
    "    temp_ps['DataType'] = df.dtypes\n",
    "    temp_ps[\"Non-null_Values\"] = df.count()\n",
    "    temp_ps['Unique_Values'] = df.nunique()\n",
    "    temp_ps['NaN_Values'] = df.isnull().sum()\n",
    "    temp_ps['NaN_Values_Percentage'] = (temp_ps['NaN_Values']/len(df))*100 \n",
    "    return temp_ps\n",
    "\n",
    "# Shape of the data.\n",
    "print(\"Total Rows and Columns in DataFrame is :\", data_original.shape,\"\\n\") \n",
    "\n",
    "# On the original dataframe \n",
    "info = datainfo(data_original)\n",
    "info"
   ]
  },
  {
   "cell_type": "code",
   "execution_count": 116,
   "metadata": {},
   "outputs": [
    {
     "name": "stdout",
     "output_type": "stream",
     "text": [
      "a) Respuesta:\n",
      " Numeric variables:\n",
      "   1. (int) Rented Bike Count\n",
      "   2. (int) Hour\n",
      "   3. (int) Humidity(%)\n",
      "   4. (int) Visibility (10m)\n",
      "   5. (float) Temperature(°C)\n",
      "   6. (float) Wind speed (m/s)\n",
      "   7. (float) Dew point temperature(°C)\n",
      "   8. (float) Solar Radiation (MJ/m2)\n",
      "   9. (float) Rainfall(mm)\n",
      "   10. (float) Snowfall (cm)\n",
      "\n",
      "\n",
      " Categoric variables:\n",
      "   1. Date\n",
      "   2. Seasons\n",
      "   3. Holiday\n",
      "   4. Functioning Day\n"
     ]
    }
   ],
   "source": [
    "# Selecting the numeric variables\n",
    "numericas_int = list(info[info['DataType'] == 'int64'].index)\n",
    "numericas_float = list(info[info['DataType'] == 'float64'].index)\n",
    "\n",
    "print('a) Respuesta:\\n Numeric variables:')\n",
    "total_int = 1\n",
    "for i,variable in enumerate(numericas_int):\n",
    "    print(f'   {i+1}. (int) {variable}')\n",
    "    total = i + 1\n",
    "for i,variable in enumerate(numericas_float):\n",
    "    print(f'   {total+i+1}. (float) {variable}')\n",
    "print('\\n')\n",
    "\n",
    "# Selecting the categoric variables\n",
    "categoricas = list(info[info['DataType'] == 'object'].index) \n",
    "print(' Categoric variables:')\n",
    "for i,variable in enumerate(categoricas):\n",
    "    print(f'   {i+1}. {variable}')"
   ]
  },
  {
   "cell_type": "markdown",
   "metadata": {},
   "source": [
    "b) `Respuesta`: Entre las variables \"_Date_\" y \"_Season_\" existe una relación de dependencia directa dado que las estaciones dependen del día y mes en el que nos encontremos. Se puede recuperar la variable \"_Season_\" a través de la variable \"_Date_\", pero no viceversa. Cabe destacar que \"_Season_\" se puede interpretar como una clasificación de \"_Date_\" por períodos. (Esto se verificará más adelante).\n",
    "\n",
    "c) `Respuesta`: No faltarán valores en los conjuntos de datos de prueba y entrenamiento ya que el conjunto completo no posee valores NaN en ninguna de sus variables."
   ]
  },
  {
   "cell_type": "markdown",
   "metadata": {},
   "source": [
    "Revisemos que las observaciones están efectivamente registradas por hora sin haber valores faltantes."
   ]
  },
  {
   "cell_type": "code",
   "execution_count": 117,
   "metadata": {},
   "outputs": [
    {
     "name": "stdout",
     "output_type": "stream",
     "text": [
      "days with 24 hour: 365\n",
      "Incomplete days: 0\n"
     ]
    }
   ],
   "source": [
    "dates = data_original['Date'].unique()\n",
    "\n",
    "cant_complete_days = 0\n",
    "incomplete_days = []\n",
    "# Check day with data for any hour (0,1,...,23)\n",
    "for date in dates:\n",
    "    count = data_original[data_original['Date'] == date]['Hour'].value_counts()\n",
    "    if len(count) == 24:\n",
    "        cant_complete_days += 1\n",
    "    else:\n",
    "        incomplete_days.append(date)\n",
    "print(f'days with 24 hour: {cant_complete_days}')\n",
    "print(f'Incomplete days: {len(dates) - cant_complete_days}')\n",
    "for date in incomplete_days:\n",
    "    print(f'- {date}')"
   ]
  },
  {
   "cell_type": "markdown",
   "metadata": {},
   "source": [
    "Revisamos si las variables \"Functioning Day\", \"_Holiday?\" y \"Season\" son diarias, es decir, si es que no hay días 'mixtos' en su categoría de estas variables. Entendiendose como días 'mixtos' aquellos donde en un mismo día dadas distintas horas hay distintos valores para las variables anteriores."
   ]
  },
  {
   "cell_type": "code",
   "execution_count": 118,
   "metadata": {},
   "outputs": [
    {
     "name": "stdout",
     "output_type": "stream",
     "text": [
      "Checking the completeness of \"Functioning Day\"\n",
      "Complete days: 364\n",
      "Mixed days: 1\n",
      "- 06/10/2018\n",
      "---------------------------------------------------\n",
      "Checking the completeness of \"Holiday\"\n",
      "Complete days: 365\n",
      "Mixed days: 0\n",
      "---------------------------------------------------\n",
      "Checking the completeness of \"Seasons\"\n",
      "Complete days: 365\n",
      "Mixed days: 0\n",
      "---------------------------------------------------\n"
     ]
    }
   ],
   "source": [
    "dates = data_original['Date'].unique()\n",
    "\n",
    "# Verify the last condition\n",
    "for verify in ['Functioning Day', 'Holiday', 'Seasons']:\n",
    "    print(f'Checking the completeness of \"{verify}\"')\n",
    "    cant_complete = 0\n",
    "    mixed = []\n",
    "    for date in dates:\n",
    "        count = data_original[data_original['Date'] == date][verify].value_counts()\n",
    "        if len(count) == 1:\n",
    "            cant_complete += 1\n",
    "        else:\n",
    "            # Same date in different hour have different value on feature\n",
    "            mixed.append(date)\n",
    "    print(f'Complete days: {cant_complete}')\n",
    "    print(f'Mixed days: {len(dates) - cant_complete}')\n",
    "    for date in mixed:\n",
    "        print(f'- {date}')\n",
    "    print('---------------------------------------------------')"
   ]
  },
  {
   "cell_type": "code",
   "execution_count": 119,
   "metadata": {},
   "outputs": [
    {
     "data": {
      "text/html": [
       "<div>\n",
       "<style scoped>\n",
       "    .dataframe tbody tr th:only-of-type {\n",
       "        vertical-align: middle;\n",
       "    }\n",
       "\n",
       "    .dataframe tbody tr th {\n",
       "        vertical-align: top;\n",
       "    }\n",
       "\n",
       "    .dataframe thead th {\n",
       "        text-align: right;\n",
       "    }\n",
       "</style>\n",
       "<table border=\"1\" class=\"dataframe\">\n",
       "  <thead>\n",
       "    <tr style=\"text-align: right;\">\n",
       "      <th></th>\n",
       "      <th>Hour</th>\n",
       "      <th>Functioning Day</th>\n",
       "    </tr>\n",
       "  </thead>\n",
       "  <tbody>\n",
       "    <tr>\n",
       "      <th>7416</th>\n",
       "      <td>0</td>\n",
       "      <td>No</td>\n",
       "    </tr>\n",
       "    <tr>\n",
       "      <th>7417</th>\n",
       "      <td>1</td>\n",
       "      <td>No</td>\n",
       "    </tr>\n",
       "    <tr>\n",
       "      <th>7418</th>\n",
       "      <td>2</td>\n",
       "      <td>No</td>\n",
       "    </tr>\n",
       "    <tr>\n",
       "      <th>7419</th>\n",
       "      <td>3</td>\n",
       "      <td>No</td>\n",
       "    </tr>\n",
       "    <tr>\n",
       "      <th>7420</th>\n",
       "      <td>4</td>\n",
       "      <td>No</td>\n",
       "    </tr>\n",
       "    <tr>\n",
       "      <th>7421</th>\n",
       "      <td>5</td>\n",
       "      <td>No</td>\n",
       "    </tr>\n",
       "    <tr>\n",
       "      <th>7422</th>\n",
       "      <td>6</td>\n",
       "      <td>No</td>\n",
       "    </tr>\n",
       "    <tr>\n",
       "      <th>7423</th>\n",
       "      <td>7</td>\n",
       "      <td>Yes</td>\n",
       "    </tr>\n",
       "    <tr>\n",
       "      <th>7424</th>\n",
       "      <td>8</td>\n",
       "      <td>Yes</td>\n",
       "    </tr>\n",
       "    <tr>\n",
       "      <th>7425</th>\n",
       "      <td>9</td>\n",
       "      <td>Yes</td>\n",
       "    </tr>\n",
       "    <tr>\n",
       "      <th>7426</th>\n",
       "      <td>10</td>\n",
       "      <td>Yes</td>\n",
       "    </tr>\n",
       "    <tr>\n",
       "      <th>7427</th>\n",
       "      <td>11</td>\n",
       "      <td>Yes</td>\n",
       "    </tr>\n",
       "    <tr>\n",
       "      <th>7428</th>\n",
       "      <td>12</td>\n",
       "      <td>Yes</td>\n",
       "    </tr>\n",
       "    <tr>\n",
       "      <th>7429</th>\n",
       "      <td>13</td>\n",
       "      <td>Yes</td>\n",
       "    </tr>\n",
       "    <tr>\n",
       "      <th>7430</th>\n",
       "      <td>14</td>\n",
       "      <td>Yes</td>\n",
       "    </tr>\n",
       "    <tr>\n",
       "      <th>7431</th>\n",
       "      <td>15</td>\n",
       "      <td>Yes</td>\n",
       "    </tr>\n",
       "    <tr>\n",
       "      <th>7432</th>\n",
       "      <td>16</td>\n",
       "      <td>Yes</td>\n",
       "    </tr>\n",
       "    <tr>\n",
       "      <th>7433</th>\n",
       "      <td>17</td>\n",
       "      <td>Yes</td>\n",
       "    </tr>\n",
       "    <tr>\n",
       "      <th>7434</th>\n",
       "      <td>18</td>\n",
       "      <td>Yes</td>\n",
       "    </tr>\n",
       "    <tr>\n",
       "      <th>7435</th>\n",
       "      <td>19</td>\n",
       "      <td>Yes</td>\n",
       "    </tr>\n",
       "    <tr>\n",
       "      <th>7436</th>\n",
       "      <td>20</td>\n",
       "      <td>Yes</td>\n",
       "    </tr>\n",
       "    <tr>\n",
       "      <th>7437</th>\n",
       "      <td>21</td>\n",
       "      <td>Yes</td>\n",
       "    </tr>\n",
       "    <tr>\n",
       "      <th>7438</th>\n",
       "      <td>22</td>\n",
       "      <td>Yes</td>\n",
       "    </tr>\n",
       "    <tr>\n",
       "      <th>7439</th>\n",
       "      <td>23</td>\n",
       "      <td>Yes</td>\n",
       "    </tr>\n",
       "  </tbody>\n",
       "</table>\n",
       "</div>"
      ],
      "text/plain": [
       "      Hour Functioning Day\n",
       "7416     0              No\n",
       "7417     1              No\n",
       "7418     2              No\n",
       "7419     3              No\n",
       "7420     4              No\n",
       "7421     5              No\n",
       "7422     6              No\n",
       "7423     7             Yes\n",
       "7424     8             Yes\n",
       "7425     9             Yes\n",
       "7426    10             Yes\n",
       "7427    11             Yes\n",
       "7428    12             Yes\n",
       "7429    13             Yes\n",
       "7430    14             Yes\n",
       "7431    15             Yes\n",
       "7432    16             Yes\n",
       "7433    17             Yes\n",
       "7434    18             Yes\n",
       "7435    19             Yes\n",
       "7436    20             Yes\n",
       "7437    21             Yes\n",
       "7438    22             Yes\n",
       "7439    23             Yes"
      ]
     },
     "execution_count": 119,
     "metadata": {},
     "output_type": "execute_result"
    }
   ],
   "source": [
    "# Observe the unique mixed day\n",
    "data_original[data_original['Date'] == '06/10/2018'][['Hour','Functioning Day']]"
   ]
  },
  {
   "cell_type": "markdown",
   "metadata": {},
   "source": [
    "Lo anterior nos dice que todos los datos con la misma fecha poseen el mismo valor en \"_Holiday_\" y en \"_Seasons_\". Sin embargo, para \"_Functioning Day_\" existe un día mixto (06/10/2018), donde el servicio no estaba funcionando hasta las 7am.\n",
    "\n",
    "> Se realizó una breve busqueda acerca de qué pudo ocurrir ese día y no se encontró nada significativo relevante al sistema de alquiler de bicicletas, salvo una noticia de Seúl en la cual se informa que el ex-presidente fue arrestado por corrupción el día 05/10/2018.\n",
    "\n",
    "Dado esto, se puede reducir el dataframe a una observación por fecha sumando la variable \"_Rented Bike Count_\" y manteniendo la relación con la variable \"_Holiday_\" y \"_Seasons_\", pero no \"_Functioning Day_\". Exploremos más esta última variable."
   ]
  },
  {
   "cell_type": "code",
   "execution_count": 120,
   "metadata": {},
   "outputs": [
    {
     "data": {
      "image/png": "[encoded data removed]",
      "text/plain": [
       "<Figure size 1000x500 with 1 Axes>"
      ]
     },
     "metadata": {},
     "output_type": "display_data"
    }
   ],
   "source": [
    "def barplots(x,y,hue):\n",
    "    plt.figure(figsize=(10,5))\n",
    "    sns.set_palette(\"husl\")\n",
    "    sns.barplot(x=x,y=y,hue=hue,data=data_original);\n",
    "    plt.title(\"Rented Bike Count vs Hour\")\n",
    "\n",
    "\n",
    "barplots('Hour','Rented Bike Count','Functioning Day')"
   ]
  },
  {
   "cell_type": "markdown",
   "metadata": {},
   "source": [
    "Notamos que existen 'peaks' en las horas 8 y 18, las que quizás podrían corresponder con el horario laboral de Séul durante la epoca en la cual se tomaron los datos.\n",
    "\n",
    "Además, se observa que no existe representación de los casos cuando \"_Functioning Day_\" == \"No\", por lo que se infiere que en estos casos la variable \"_Rented Bike Count_\" debe ser 0. Para verificar esto se utiliza el siguiente código:"
   ]
  },
  {
   "cell_type": "code",
   "execution_count": 121,
   "metadata": {},
   "outputs": [
    {
     "name": "stdout",
     "output_type": "stream",
     "text": [
      "Functioning Day:\n",
      "Yes    8465\n",
      "No      295\n",
      "Name: Functioning Day, dtype: int64\n",
      "\n",
      "\"Rented Bike Count\" if \"Functioning Day\" == \"No\":\n",
      "0    295\n",
      "Name: Rented Bike Count, dtype: int64\n"
     ]
    }
   ],
   "source": [
    "conteo = data_original['Functioning Day'].value_counts()\n",
    "print(f'Functioning Day:')\n",
    "print(f'{conteo}\\n')\n",
    "\n",
    "print('\"Rented Bike Count\" if \"Functioning Day\" == \"No\":')\n",
    "print(data_original[data_original['Functioning Day'] == 'No']['Rented Bike Count'].value_counts())"
   ]
  },
  {
   "cell_type": "markdown",
   "metadata": {},
   "source": [
    "Con esto se obtiene que todos aquellos días donde \"_Functioning Day_\" == \"No\" no existe renta de bicicletas.\n",
    "\n",
    "Veamos si todas las observaciones donde hay 0 arriendos son dado que \"_Functioning Day_\" == \"No\"."
   ]
  },
  {
   "cell_type": "code",
   "execution_count": 122,
   "metadata": {},
   "outputs": [
    {
     "name": "stdout",
     "output_type": "stream",
     "text": [
      "\"Functioning Day\" if \"Rented Bike Count\" == 0\n",
      "No    295\n",
      "Name: Functioning Day, dtype: int64\n"
     ]
    }
   ],
   "source": [
    "print('\"Functioning Day\" if \"Rented Bike Count\" == 0')\n",
    "print(data_original[data_original['Rented Bike Count'] == 0]['Functioning Day'].value_counts())"
   ]
  },
  {
   "cell_type": "markdown",
   "metadata": {},
   "source": [
    "Así, vemos que \"_Rented Bike Count_\" == 0 si y solo si \"_Functioning Day_\" == \"No\". Por lo tanto se afirma que esta columna es determinisitica, es decir que conociendo este único valor, se puede saber si las ventas son 0 o no.\n",
    "\n",
    "Debido a esta carácteristica, se buscará entrenar un modelo que sólo trabaje con datos con \"Functioning Day\" == \"Yes\", con la salvedad de que se debe tener en cuenta de que si dicha carácteristica se tiene con valor \"No\", se debe asumir que la renta será 0. Esto tiene sentido dado que buscamos predecir la renta de bicicletas solamente en los días donde realmente se trabaja, ya que si el servicio no está activo es claro que no hay rentas, de esta forma el modelo será más preciso al momento de predecir datos en los días de donde hay rentas ya que no se verá sesgado al tratar de predecir que \"Rented Bike Count\" == 0 si y solo si \"Functioning Day\" == \"No\", ya que esto lo hacemos de ante mano.\n",
    "\n",
    "Teniendo esto en mente, se elimininarán las observaciones con \"Functioning Day\" == \"No\" dado que no aportan al objetivo del modelo que se busca entrenar (no busca predecir ni entender los días donde no se trabaja)."
   ]
  },
  {
   "cell_type": "code",
   "execution_count": 123,
   "metadata": {},
   "outputs": [],
   "source": [
    "# Create a copy of the original dataframe to study and edit.\n",
    "data = data_original.copy()"
   ]
  },
  {
   "cell_type": "code",
   "execution_count": 124,
   "metadata": {},
   "outputs": [
    {
     "name": "stdout",
     "output_type": "stream",
     "text": [
      "Total Rows and Columns in DataFrame is : (8465, 13) \n",
      "\n"
     ]
    },
    {
     "data": {
      "text/html": [
       "<div>\n",
       "<style scoped>\n",
       "    .dataframe tbody tr th:only-of-type {\n",
       "        vertical-align: middle;\n",
       "    }\n",
       "\n",
       "    .dataframe tbody tr th {\n",
       "        vertical-align: top;\n",
       "    }\n",
       "\n",
       "    .dataframe thead th {\n",
       "        text-align: right;\n",
       "    }\n",
       "</style>\n",
       "<table border=\"1\" class=\"dataframe\">\n",
       "  <thead>\n",
       "    <tr style=\"text-align: right;\">\n",
       "      <th></th>\n",
       "      <th>Date</th>\n",
       "      <th>Rented Bike Count</th>\n",
       "      <th>Hour</th>\n",
       "      <th>Temperature(°C)</th>\n",
       "      <th>Humidity(%)</th>\n",
       "      <th>Wind speed (m/s)</th>\n",
       "      <th>Visibility (10m)</th>\n",
       "      <th>Dew point temperature(°C)</th>\n",
       "      <th>Solar Radiation (MJ/m2)</th>\n",
       "      <th>Rainfall(mm)</th>\n",
       "      <th>Snowfall (cm)</th>\n",
       "      <th>Seasons</th>\n",
       "      <th>Holiday</th>\n",
       "    </tr>\n",
       "  </thead>\n",
       "  <tbody>\n",
       "    <tr>\n",
       "      <th>8460</th>\n",
       "      <td>30/11/2018</td>\n",
       "      <td>1003</td>\n",
       "      <td>19</td>\n",
       "      <td>4.2</td>\n",
       "      <td>34</td>\n",
       "      <td>2.6</td>\n",
       "      <td>1894</td>\n",
       "      <td>-10.3</td>\n",
       "      <td>0.0</td>\n",
       "      <td>0.0</td>\n",
       "      <td>0.0</td>\n",
       "      <td>Autumn</td>\n",
       "      <td>No Holiday</td>\n",
       "    </tr>\n",
       "    <tr>\n",
       "      <th>8461</th>\n",
       "      <td>30/11/2018</td>\n",
       "      <td>764</td>\n",
       "      <td>20</td>\n",
       "      <td>3.4</td>\n",
       "      <td>37</td>\n",
       "      <td>2.3</td>\n",
       "      <td>2000</td>\n",
       "      <td>-9.9</td>\n",
       "      <td>0.0</td>\n",
       "      <td>0.0</td>\n",
       "      <td>0.0</td>\n",
       "      <td>Autumn</td>\n",
       "      <td>No Holiday</td>\n",
       "    </tr>\n",
       "    <tr>\n",
       "      <th>8462</th>\n",
       "      <td>30/11/2018</td>\n",
       "      <td>694</td>\n",
       "      <td>21</td>\n",
       "      <td>2.6</td>\n",
       "      <td>39</td>\n",
       "      <td>0.3</td>\n",
       "      <td>1968</td>\n",
       "      <td>-9.9</td>\n",
       "      <td>0.0</td>\n",
       "      <td>0.0</td>\n",
       "      <td>0.0</td>\n",
       "      <td>Autumn</td>\n",
       "      <td>No Holiday</td>\n",
       "    </tr>\n",
       "    <tr>\n",
       "      <th>8463</th>\n",
       "      <td>30/11/2018</td>\n",
       "      <td>712</td>\n",
       "      <td>22</td>\n",
       "      <td>2.1</td>\n",
       "      <td>41</td>\n",
       "      <td>1.0</td>\n",
       "      <td>1859</td>\n",
       "      <td>-9.8</td>\n",
       "      <td>0.0</td>\n",
       "      <td>0.0</td>\n",
       "      <td>0.0</td>\n",
       "      <td>Autumn</td>\n",
       "      <td>No Holiday</td>\n",
       "    </tr>\n",
       "    <tr>\n",
       "      <th>8464</th>\n",
       "      <td>30/11/2018</td>\n",
       "      <td>584</td>\n",
       "      <td>23</td>\n",
       "      <td>1.9</td>\n",
       "      <td>43</td>\n",
       "      <td>1.3</td>\n",
       "      <td>1909</td>\n",
       "      <td>-9.3</td>\n",
       "      <td>0.0</td>\n",
       "      <td>0.0</td>\n",
       "      <td>0.0</td>\n",
       "      <td>Autumn</td>\n",
       "      <td>No Holiday</td>\n",
       "    </tr>\n",
       "  </tbody>\n",
       "</table>\n",
       "</div>"
      ],
      "text/plain": [
       "            Date  Rented Bike Count  Hour  Temperature(°C)  Humidity(%)  \\\n",
       "8460  30/11/2018               1003    19              4.2           34   \n",
       "8461  30/11/2018                764    20              3.4           37   \n",
       "8462  30/11/2018                694    21              2.6           39   \n",
       "8463  30/11/2018                712    22              2.1           41   \n",
       "8464  30/11/2018                584    23              1.9           43   \n",
       "\n",
       "      Wind speed (m/s)  Visibility (10m)  Dew point temperature(°C)  \\\n",
       "8460               2.6              1894                      -10.3   \n",
       "8461               2.3              2000                       -9.9   \n",
       "8462               0.3              1968                       -9.9   \n",
       "8463               1.0              1859                       -9.8   \n",
       "8464               1.3              1909                       -9.3   \n",
       "\n",
       "      Solar Radiation (MJ/m2)  Rainfall(mm)  Snowfall (cm) Seasons     Holiday  \n",
       "8460                      0.0           0.0            0.0  Autumn  No Holiday  \n",
       "8461                      0.0           0.0            0.0  Autumn  No Holiday  \n",
       "8462                      0.0           0.0            0.0  Autumn  No Holiday  \n",
       "8463                      0.0           0.0            0.0  Autumn  No Holiday  \n",
       "8464                      0.0           0.0            0.0  Autumn  No Holiday  "
      ]
     },
     "execution_count": 124,
     "metadata": {},
     "output_type": "execute_result"
    }
   ],
   "source": [
    "# Eliminar observaciones con \"Functioning Day\" == \"No\" (i.e. \"Rented Bike Count\" == 0)\n",
    "data = data_original.drop(data_original[data_original['Functioning Day'] == 'No'].index) \n",
    "\n",
    "# Eliminar columna \"Functioning Day\"\n",
    "data = data.drop(['Functioning Day'], axis = 1)\n",
    "\n",
    "# Shape of the data.\n",
    "print(\"Total Rows and Columns in DataFrame is :\", data.shape,\"\\n\") \n",
    "\n",
    "data.reset_index(drop=True, inplace=True)\n",
    "\n",
    "data.tail()"
   ]
  },
  {
   "cell_type": "markdown",
   "metadata": {},
   "source": [
    "### 1.1.2 Exploración de Features\n",
    "\n",
    "> a) Revise detalladamente las variables: 'Date', 'Holiday', 'Seasons' y 'Rented Bike Count' del conjunto de datos cuente y grafique su histograma.\n",
    "\n",
    "Una vez analizado lo anterior responda las siguientes preguntas:\n",
    "\n",
    "> b) ¿La gente arrienda más bicicletas en vacaciones o en días de trabajo?\n",
    "\n",
    "> c) ¿Se arriendan más bicicletas los fines de semana o durante la semana?\n",
    "\n",
    "> d) ¿De qué forma afecta el clima al arriendo de bicicletas?\n",
    "\n",
    "Para las preguntas b), c) y d) apóyese de los gráficos."
   ]
  },
  {
   "cell_type": "markdown",
   "metadata": {},
   "source": [
    "> Para responder a) se realiza un análisis descrito a continuación."
   ]
  },
  {
   "cell_type": "markdown",
   "metadata": {},
   "source": [
    "Creamos un dataframe con solo una observación por fecha, con la columna \"_Rented Bike Count_\" como la suma de todos los arriendos por hora en el día y las variables \"_Holiday_\" y \"Season\""
   ]
  },
  {
   "cell_type": "code",
   "execution_count": 125,
   "metadata": {},
   "outputs": [
    {
     "name": "stdout",
     "output_type": "stream",
     "text": [
      "Total Rows and Columns in DataFrame is : (353, 4) \n",
      "\n"
     ]
    },
    {
     "data": {
      "text/html": [
       "<div>\n",
       "<style scoped>\n",
       "    .dataframe tbody tr th:only-of-type {\n",
       "        vertical-align: middle;\n",
       "    }\n",
       "\n",
       "    .dataframe tbody tr th {\n",
       "        vertical-align: top;\n",
       "    }\n",
       "\n",
       "    .dataframe thead th {\n",
       "        text-align: right;\n",
       "    }\n",
       "</style>\n",
       "<table border=\"1\" class=\"dataframe\">\n",
       "  <thead>\n",
       "    <tr style=\"text-align: right;\">\n",
       "      <th></th>\n",
       "      <th>Date</th>\n",
       "      <th>Rented Bike Count</th>\n",
       "      <th>Holiday</th>\n",
       "      <th>Seasons</th>\n",
       "    </tr>\n",
       "  </thead>\n",
       "  <tbody>\n",
       "    <tr>\n",
       "      <th>0</th>\n",
       "      <td>2017-12-01</td>\n",
       "      <td>9539</td>\n",
       "      <td>No Holiday</td>\n",
       "      <td>Winter</td>\n",
       "    </tr>\n",
       "    <tr>\n",
       "      <th>1</th>\n",
       "      <td>2017-12-02</td>\n",
       "      <td>8523</td>\n",
       "      <td>No Holiday</td>\n",
       "      <td>Winter</td>\n",
       "    </tr>\n",
       "    <tr>\n",
       "      <th>2</th>\n",
       "      <td>2017-12-03</td>\n",
       "      <td>7222</td>\n",
       "      <td>No Holiday</td>\n",
       "      <td>Winter</td>\n",
       "    </tr>\n",
       "    <tr>\n",
       "      <th>3</th>\n",
       "      <td>2017-12-04</td>\n",
       "      <td>8729</td>\n",
       "      <td>No Holiday</td>\n",
       "      <td>Winter</td>\n",
       "    </tr>\n",
       "    <tr>\n",
       "      <th>4</th>\n",
       "      <td>2017-12-05</td>\n",
       "      <td>8307</td>\n",
       "      <td>No Holiday</td>\n",
       "      <td>Winter</td>\n",
       "    </tr>\n",
       "  </tbody>\n",
       "</table>\n",
       "</div>"
      ],
      "text/plain": [
       "        Date  Rented Bike Count     Holiday Seasons\n",
       "0 2017-12-01               9539  No Holiday  Winter\n",
       "1 2017-12-02               8523  No Holiday  Winter\n",
       "2 2017-12-03               7222  No Holiday  Winter\n",
       "3 2017-12-04               8729  No Holiday  Winter\n",
       "4 2017-12-05               8307  No Holiday  Winter"
      ]
     },
     "execution_count": 125,
     "metadata": {},
     "output_type": "execute_result"
    }
   ],
   "source": [
    "# Transform the object date to datetime\n",
    "data['Date'] = pd.to_datetime(data['Date'], format='%d/%m/%Y')\n",
    "\n",
    "# Auxiliar df to explore data\n",
    "mini_data_diario = data.loc[:, ['Date','Rented Bike Count']].groupby(pd.Grouper(key='Date')).sum()\n",
    "mini_data_diario = mini_data_diario.reset_index()\n",
    "mini_data_diario.head()\n",
    "\n",
    "holiday = []\n",
    "season = []\n",
    "# The holiday and season columns are added\n",
    "for date in mini_data_diario['Date']:\n",
    "    holiday.append(list(data[data['Date'] == date]['Holiday'])[0])\n",
    "    season.append(list(data[data['Date'] == date]['Seasons'])[0])\n",
    "\n",
    "mini_data_diario['Holiday'] = holiday\n",
    "mini_data_diario['Seasons'] = season\n",
    "\n",
    "# Shape of the data.\n",
    "print(\"Total Rows and Columns in DataFrame is :\", mini_data_diario.shape,\"\\n\") \n",
    "\n",
    "mini_data_diario.head()"
   ]
  },
  {
   "cell_type": "code",
   "execution_count": 126,
   "metadata": {},
   "outputs": [
    {
     "data": {
      "text/html": [
       "<div>\n",
       "<style scoped>\n",
       "    .dataframe tbody tr th:only-of-type {\n",
       "        vertical-align: middle;\n",
       "    }\n",
       "\n",
       "    .dataframe tbody tr th {\n",
       "        vertical-align: top;\n",
       "    }\n",
       "\n",
       "    .dataframe thead th {\n",
       "        text-align: right;\n",
       "    }\n",
       "</style>\n",
       "<table border=\"1\" class=\"dataframe\">\n",
       "  <thead>\n",
       "    <tr style=\"text-align: right;\">\n",
       "      <th></th>\n",
       "      <th>DataType</th>\n",
       "      <th>Non-null_Values</th>\n",
       "      <th>Unique_Values</th>\n",
       "      <th>NaN_Values</th>\n",
       "      <th>NaN_Values_Percentage</th>\n",
       "    </tr>\n",
       "  </thead>\n",
       "  <tbody>\n",
       "    <tr>\n",
       "      <th>Date</th>\n",
       "      <td>datetime64[ns]</td>\n",
       "      <td>353</td>\n",
       "      <td>353</td>\n",
       "      <td>0</td>\n",
       "      <td>0.0</td>\n",
       "    </tr>\n",
       "    <tr>\n",
       "      <th>Rented Bike Count</th>\n",
       "      <td>int64</td>\n",
       "      <td>353</td>\n",
       "      <td>352</td>\n",
       "      <td>0</td>\n",
       "      <td>0.0</td>\n",
       "    </tr>\n",
       "    <tr>\n",
       "      <th>Holiday</th>\n",
       "      <td>object</td>\n",
       "      <td>353</td>\n",
       "      <td>2</td>\n",
       "      <td>0</td>\n",
       "      <td>0.0</td>\n",
       "    </tr>\n",
       "    <tr>\n",
       "      <th>Seasons</th>\n",
       "      <td>object</td>\n",
       "      <td>353</td>\n",
       "      <td>4</td>\n",
       "      <td>0</td>\n",
       "      <td>0.0</td>\n",
       "    </tr>\n",
       "  </tbody>\n",
       "</table>\n",
       "</div>"
      ],
      "text/plain": [
       "                         DataType  Non-null_Values  Unique_Values  NaN_Values  \\\n",
       "Date               datetime64[ns]              353            353           0   \n",
       "Rented Bike Count           int64              353            352           0   \n",
       "Holiday                    object              353              2           0   \n",
       "Seasons                    object              353              4           0   \n",
       "\n",
       "                   NaN_Values_Percentage  \n",
       "Date                                 0.0  \n",
       "Rented Bike Count                    0.0  \n",
       "Holiday                              0.0  \n",
       "Seasons                              0.0  "
      ]
     },
     "execution_count": 126,
     "metadata": {},
     "output_type": "execute_result"
    }
   ],
   "source": [
    "datainfo(mini_data_diario)"
   ]
  },
  {
   "cell_type": "markdown",
   "metadata": {},
   "source": [
    "De esta forma obtenemos un df que contiene la información para cada día lo que permite el estudio de las ventas por días sin importar las horas, lo que simplifica el calculo para evaluar cuantas bícicletas se venden según estas carácteristicas y luego calcular el promedio.\n",
    "\n",
    "Dado que antes vimos que no existen datos mixtos excepto para la variable _Functioning Day_, se justifica agrupar todas las horas y sumar la cantidad de bicicletas en una misma observación por día manteniendo las variables de _Holiday_ y _Seasons_."
   ]
  },
  {
   "cell_type": "code",
   "execution_count": 127,
   "metadata": {},
   "outputs": [
    {
     "data": {
      "image/png": "[encoded data removed]",
      "text/plain": [
       "<Figure size 1000x300 with 1 Axes>"
      ]
     },
     "metadata": {},
     "output_type": "display_data"
    },
    {
     "data": {
      "image/png": "[encoded data removed]",
      "text/plain": [
       "<Figure size 1000x300 with 1 Axes>"
      ]
     },
     "metadata": {},
     "output_type": "display_data"
    }
   ],
   "source": [
    "dates = mini_data_diario['Date'].unique()\n",
    "# Graph of each distribution of the features Holiday and Seasons.\n",
    "for verify in ['Holiday', 'Seasons']:\n",
    "    verify_diario =[]\n",
    "    for date in dates:\n",
    "        verify_diario.append(list(mini_data_diario[mini_data_diario['Date'] == date][verify])[0])\n",
    "        \n",
    "    # Option of graphs    \n",
    "    fig, ax=plt.subplots(1, 1, figsize=(10, 3))  \n",
    "    ax.xaxis.set_major_locator(md.MonthLocator())\n",
    "    ax.xaxis.set_major_formatter(md.DateFormatter('%b'))\n",
    "\n",
    "    plt.plot(dates, verify_diario)\n",
    "    plt.xlabel('Fechas')\n",
    "    plt.ylabel(verify)\n",
    "    plt.title(f'Gráfico de {verify} por fecha')\n",
    "    plt.show()"
   ]
  },
  {
   "cell_type": "markdown",
   "metadata": {},
   "source": [
    "Desde la distribución de \"_Holiday_\" == \"Yes\", deducimos que esta variable hace referencia a los días feriados; que son aislados. Además, notamos que la variable \"_Season_\" particiona 'continuamente' las fechas."
   ]
  },
  {
   "cell_type": "code",
   "execution_count": 128,
   "metadata": {},
   "outputs": [
    {
     "data": {
      "image/png": "[encoded data removed]",
      "text/plain": [
       "<Figure size 1200x500 with 1 Axes>"
      ]
     },
     "metadata": {},
     "output_type": "display_data"
    }
   ],
   "source": [
    "# Graph of the \"Rented bike count\" by date based on the mini_data_diario\n",
    "fig, ax=plt.subplots(1, 1, figsize=(12, 5))  \n",
    "ax.xaxis.set_major_locator(md.MonthLocator())\n",
    "ax.xaxis.set_major_formatter(md.DateFormatter('%b'))\n",
    "\n",
    "plt.plot(mini_data_diario['Date'], mini_data_diario['Rented Bike Count'])\n",
    "plt.xlabel('Fechas')\n",
    "plt.ylabel(\"Rented Bike Count\")\n",
    "plt.title(f'Gráfico de arriendos por fecha')\n",
    "plt.show()"
   ]
  },
  {
   "cell_type": "markdown",
   "metadata": {},
   "source": [
    "Agregamos una columna a los dataframes con la variable \"_Weekday_\", que indica si la fecha corresponde a un día de semana o fin de semana."
   ]
  },
  {
   "cell_type": "code",
   "execution_count": 129,
   "metadata": {},
   "outputs": [],
   "source": [
    "# Agregar una columna que indica si la fecha corresponde a un día de la semana o un fin de semana\n",
    "data['Weekday'] = data['Date'].dt.weekday.apply(lambda x: 'Weekday' if x < 5 else 'No Weekday')\n",
    "mini_data_diario['Weekday'] = mini_data_diario['Date'].dt.weekday.apply(lambda x: 'Weekday' if x < 5 else 'No Weekday')"
   ]
  },
  {
   "cell_type": "code",
   "execution_count": 130,
   "metadata": {
    "id": "BN-iZBaFyIxH"
   },
   "outputs": [
    {
     "data": {
      "image/png": "[encoded data removed]",
      "text/plain": [
       "<Figure size 640x480 with 1 Axes>"
      ]
     },
     "metadata": {},
     "output_type": "display_data"
    },
    {
     "data": {
      "image/png": "[encoded data removed]",
      "text/plain": [
       "<Figure size 640x480 with 1 Axes>"
      ]
     },
     "metadata": {},
     "output_type": "display_data"
    },
    {
     "data": {
      "image/png": "[encoded data removed]",
      "text/plain": [
       "<Figure size 640x480 with 1 Axes>"
      ]
     },
     "metadata": {},
     "output_type": "display_data"
    }
   ],
   "source": [
    "cat_features = ['Holiday', 'Weekday', 'Seasons']\n",
    "for i in cat_features:\n",
    "    sns.countplot(x = i, data=mini_data_diario)\n",
    "    plt.title(f\"Histograma {i}\")\n",
    "    plt.show()"
   ]
  },
  {
   "cell_type": "markdown",
   "metadata": {},
   "source": [
    "De estos histogramas notamos el desbalance en las variables \"Holiday\" y \"Weekday\", donde claramente hay muchos más días no feriados."
   ]
  },
  {
   "cell_type": "code",
   "execution_count": 131,
   "metadata": {},
   "outputs": [
    {
     "data": {
      "text/html": [
       "<div>\n",
       "<style scoped>\n",
       "    .dataframe tbody tr th:only-of-type {\n",
       "        vertical-align: middle;\n",
       "    }\n",
       "\n",
       "    .dataframe tbody tr th {\n",
       "        vertical-align: top;\n",
       "    }\n",
       "\n",
       "    .dataframe thead th {\n",
       "        text-align: right;\n",
       "    }\n",
       "</style>\n",
       "<table border=\"1\" class=\"dataframe\">\n",
       "  <thead>\n",
       "    <tr style=\"text-align: right;\">\n",
       "      <th></th>\n",
       "      <th>Rented Bike Count</th>\n",
       "    </tr>\n",
       "    <tr>\n",
       "      <th>Holiday</th>\n",
       "      <th></th>\n",
       "    </tr>\n",
       "  </thead>\n",
       "  <tbody>\n",
       "    <tr>\n",
       "      <th>No Holiday</th>\n",
       "      <td>5956419</td>\n",
       "    </tr>\n",
       "    <tr>\n",
       "      <th>Holiday</th>\n",
       "      <td>215895</td>\n",
       "    </tr>\n",
       "  </tbody>\n",
       "</table>\n",
       "</div>"
      ],
      "text/plain": [
       "            Rented Bike Count\n",
       "Holiday                      \n",
       "No Holiday            5956419\n",
       "Holiday                215895"
      ]
     },
     "execution_count": 131,
     "metadata": {},
     "output_type": "execute_result"
    }
   ],
   "source": [
    "# Sum of \"_Rented bike count_\" by feature Holiday.\n",
    "sum_holiday = mini_data_diario.loc[:, ['Holiday','Rented Bike Count']].groupby(pd.Grouper(key='Holiday')).sum()\n",
    "sum_holiday"
   ]
  },
  {
   "cell_type": "code",
   "execution_count": 132,
   "metadata": {},
   "outputs": [
    {
     "data": {
      "text/html": [
       "<div>\n",
       "<style scoped>\n",
       "    .dataframe tbody tr th:only-of-type {\n",
       "        vertical-align: middle;\n",
       "    }\n",
       "\n",
       "    .dataframe tbody tr th {\n",
       "        vertical-align: top;\n",
       "    }\n",
       "\n",
       "    .dataframe thead th {\n",
       "        text-align: right;\n",
       "    }\n",
       "</style>\n",
       "<table border=\"1\" class=\"dataframe\">\n",
       "  <thead>\n",
       "    <tr style=\"text-align: right;\">\n",
       "      <th></th>\n",
       "      <th>Rented Bike Count</th>\n",
       "    </tr>\n",
       "    <tr>\n",
       "      <th>Weekday</th>\n",
       "      <th></th>\n",
       "    </tr>\n",
       "  </thead>\n",
       "  <tbody>\n",
       "    <tr>\n",
       "      <th>Weekday</th>\n",
       "      <td>4506628</td>\n",
       "    </tr>\n",
       "    <tr>\n",
       "      <th>No Weekday</th>\n",
       "      <td>1665686</td>\n",
       "    </tr>\n",
       "  </tbody>\n",
       "</table>\n",
       "</div>"
      ],
      "text/plain": [
       "            Rented Bike Count\n",
       "Weekday                      \n",
       "Weekday               4506628\n",
       "No Weekday            1665686"
      ]
     },
     "execution_count": 132,
     "metadata": {},
     "output_type": "execute_result"
    }
   ],
   "source": [
    "# Sum of \"_Rented bike count_\" by feature Weekday.\n",
    "sum_weekday = mini_data_diario.loc[:, ['Weekday','Rented Bike Count']].groupby(pd.Grouper(key='Weekday')).sum()\n",
    "sum_weekday"
   ]
  },
  {
   "cell_type": "code",
   "execution_count": 133,
   "metadata": {},
   "outputs": [
    {
     "data": {
      "text/html": [
       "<div>\n",
       "<style scoped>\n",
       "    .dataframe tbody tr th:only-of-type {\n",
       "        vertical-align: middle;\n",
       "    }\n",
       "\n",
       "    .dataframe tbody tr th {\n",
       "        vertical-align: top;\n",
       "    }\n",
       "\n",
       "    .dataframe thead th {\n",
       "        text-align: right;\n",
       "    }\n",
       "</style>\n",
       "<table border=\"1\" class=\"dataframe\">\n",
       "  <thead>\n",
       "    <tr style=\"text-align: right;\">\n",
       "      <th></th>\n",
       "      <th>Rented Bike Count</th>\n",
       "    </tr>\n",
       "    <tr>\n",
       "      <th>Seasons</th>\n",
       "      <th></th>\n",
       "    </tr>\n",
       "  </thead>\n",
       "  <tbody>\n",
       "    <tr>\n",
       "      <th>Winter</th>\n",
       "      <td>487169</td>\n",
       "    </tr>\n",
       "    <tr>\n",
       "      <th>Spring</th>\n",
       "      <td>1611909</td>\n",
       "    </tr>\n",
       "    <tr>\n",
       "      <th>Summer</th>\n",
       "      <td>2283234</td>\n",
       "    </tr>\n",
       "    <tr>\n",
       "      <th>Autumn</th>\n",
       "      <td>1790002</td>\n",
       "    </tr>\n",
       "  </tbody>\n",
       "</table>\n",
       "</div>"
      ],
      "text/plain": [
       "         Rented Bike Count\n",
       "Seasons                   \n",
       "Winter              487169\n",
       "Spring             1611909\n",
       "Summer             2283234\n",
       "Autumn             1790002"
      ]
     },
     "execution_count": 133,
     "metadata": {},
     "output_type": "execute_result"
    }
   ],
   "source": [
    "# Sum of \"_Rented bike count_\" by feature Seasons.\n",
    "sum_seasons = mini_data_diario.loc[:, ['Seasons','Rented Bike Count']].groupby(pd.Grouper(key='Seasons')).sum()\n",
    "sum_seasons"
   ]
  },
  {
   "cell_type": "code",
   "execution_count": 134,
   "metadata": {},
   "outputs": [
    {
     "data": {
      "text/html": [
       "<div>\n",
       "<style scoped>\n",
       "    .dataframe tbody tr th:only-of-type {\n",
       "        vertical-align: middle;\n",
       "    }\n",
       "\n",
       "    .dataframe tbody tr th {\n",
       "        vertical-align: top;\n",
       "    }\n",
       "\n",
       "    .dataframe thead th {\n",
       "        text-align: right;\n",
       "    }\n",
       "</style>\n",
       "<table border=\"1\" class=\"dataframe\">\n",
       "  <thead>\n",
       "    <tr style=\"text-align: right;\">\n",
       "      <th></th>\n",
       "      <th>feature</th>\n",
       "      <th>mean</th>\n",
       "      <th>std</th>\n",
       "      <th>max</th>\n",
       "      <th>min</th>\n",
       "    </tr>\n",
       "  </thead>\n",
       "  <tbody>\n",
       "    <tr>\n",
       "      <th>0</th>\n",
       "      <td>No Holiday</td>\n",
       "      <td>17727</td>\n",
       "      <td>9862</td>\n",
       "      <td>36149</td>\n",
       "      <td>977</td>\n",
       "    </tr>\n",
       "    <tr>\n",
       "      <th>1</th>\n",
       "      <td>Holiday</td>\n",
       "      <td>12700</td>\n",
       "      <td>10504</td>\n",
       "      <td>30498</td>\n",
       "      <td>2014</td>\n",
       "    </tr>\n",
       "    <tr>\n",
       "      <th>2</th>\n",
       "      <td>Winter</td>\n",
       "      <td>5413</td>\n",
       "      <td>1808</td>\n",
       "      <td>9539</td>\n",
       "      <td>2014</td>\n",
       "    </tr>\n",
       "    <tr>\n",
       "      <th>3</th>\n",
       "      <td>Spring</td>\n",
       "      <td>17910</td>\n",
       "      <td>8357</td>\n",
       "      <td>31681</td>\n",
       "      <td>977</td>\n",
       "    </tr>\n",
       "    <tr>\n",
       "      <th>4</th>\n",
       "      <td>Summer</td>\n",
       "      <td>24818</td>\n",
       "      <td>7297</td>\n",
       "      <td>36149</td>\n",
       "      <td>3231</td>\n",
       "    </tr>\n",
       "    <tr>\n",
       "      <th>5</th>\n",
       "      <td>Autumn</td>\n",
       "      <td>22099</td>\n",
       "      <td>6711</td>\n",
       "      <td>31809</td>\n",
       "      <td>1721</td>\n",
       "    </tr>\n",
       "    <tr>\n",
       "      <th>6</th>\n",
       "      <td>Weekday</td>\n",
       "      <td>17955</td>\n",
       "      <td>9960</td>\n",
       "      <td>36149</td>\n",
       "      <td>977</td>\n",
       "    </tr>\n",
       "    <tr>\n",
       "      <th>7</th>\n",
       "      <td>No Weekday</td>\n",
       "      <td>16330</td>\n",
       "      <td>9834</td>\n",
       "      <td>34360</td>\n",
       "      <td>2014</td>\n",
       "    </tr>\n",
       "  </tbody>\n",
       "</table>\n",
       "</div>"
      ],
      "text/plain": [
       "      feature   mean    std    max   min\n",
       "0  No Holiday  17727   9862  36149   977\n",
       "1     Holiday  12700  10504  30498  2014\n",
       "2      Winter   5413   1808   9539  2014\n",
       "3      Spring  17910   8357  31681   977\n",
       "4      Summer  24818   7297  36149  3231\n",
       "5      Autumn  22099   6711  31809  1721\n",
       "6     Weekday  17955   9960  36149   977\n",
       "7  No Weekday  16330   9834  34360  2014"
      ]
     },
     "execution_count": 134,
     "metadata": {},
     "output_type": "execute_result"
    }
   ],
   "source": [
    "columns = ['feature','mean', 'std', 'max', 'min']\n",
    "categories = []\n",
    "list_stats = []\n",
    "\n",
    "# Obtaining stats for each relevant possibility of feature\n",
    "for verify in ['Holiday', 'Seasons','Weekday']:\n",
    "    for cat in mini_data_diario[verify].unique():\n",
    "        categories.append(cat)\n",
    "        stats_cat = mini_data_diario[mini_data_diario[verify] == cat]['Rented Bike Count'].describe()\n",
    "        stats = [round(x) for x in stats_cat[['mean', 'std', 'max', 'min']].values]\n",
    "        list_stats.append(stats)\n",
    "\n",
    "DATA2= pd.DataFrame(categories)\n",
    "DATA3= pd.DataFrame(list_stats)\n",
    "data_stats = pd.concat([DATA2,DATA3], axis=1)\n",
    "data_stats.columns = columns\n",
    "data_stats"
   ]
  },
  {
   "cell_type": "code",
   "execution_count": 135,
   "metadata": {},
   "outputs": [
    {
     "data": {
      "image/png": "[encoded data removed]",
      "text/plain": [
       "<Figure size 640x480 with 1 Axes>"
      ]
     },
     "metadata": {},
     "output_type": "display_data"
    },
    {
     "data": {
      "image/png": "[encoded data removed]",
      "text/plain": [
       "<Figure size 640x480 with 1 Axes>"
      ]
     },
     "metadata": {},
     "output_type": "display_data"
    },
    {
     "data": {
      "image/png": "[encoded data removed]",
      "text/plain": [
       "<Figure size 640x480 with 1 Axes>"
      ]
     },
     "metadata": {},
     "output_type": "display_data"
    }
   ],
   "source": [
    "# Comparative graphs\n",
    "\n",
    "sns.barplot(data=data_stats.iloc[[0,1],:], x='feature', y='mean')\n",
    "plt.show()\n",
    "sns.barplot(data=data_stats.iloc[[6,7],:], x='feature', y='mean')\n",
    "plt.show()\n",
    "sns.barplot(data=data_stats.iloc[[2,3,4,5],:], x='feature', y='mean')\n",
    "plt.show()"
   ]
  },
  {
   "cell_type": "code",
   "execution_count": 136,
   "metadata": {},
   "outputs": [
    {
     "data": {
      "text/plain": [
       "count    8465.000000\n",
       "mean      729.156999\n",
       "std       642.351166\n",
       "min         2.000000\n",
       "25%       214.000000\n",
       "50%       542.000000\n",
       "75%      1084.000000\n",
       "max      3556.000000\n",
       "Name: Rented Bike Count, dtype: float64"
      ]
     },
     "execution_count": 136,
     "metadata": {},
     "output_type": "execute_result"
    }
   ],
   "source": [
    "# About Rented Bike Count\n",
    "data['Rented Bike Count'].describe()"
   ]
  },
  {
   "cell_type": "markdown",
   "metadata": {},
   "source": [
    "a) `Respuesta`: Para cada valor de \"_Date_\" existen 24 datos, uno correspondiente a cada hora del dia desde 0 a 23. Se mostró que tanto las variables \"_Holiday_\" y \"_Seasons_\" son únicas en relación a la variable \"_Date_\", es decir que para una misma fecha, estos features se mantienen estáticos, además se comprobó que \"_Seasons_\" corresponde a agrupaciones de fechas en bloques.\n",
    "\n",
    "\"_Date_\" indica la fecha que va desde 01-12-2017 hasta 30-11-2018 siendo exactamente un año de datos. \"_Holiday_\" cuenta con dos posibles valores \"_Holiday_\" y \"_No Holiday_\" que indican si son días feriados o no. \"_Seasons_\" cuenta con cuatro posibles valores: \"_Winter_\", \"_Spring_\", \"_Summer_\", \"_Autumn_\" que corresponden a los meses de Invierno, Primavera, Verano y Otoño respectivamente. La variable \"_Rented Bike Count_\" es una variable entera que indica cuantas bicicletas se arrendaron en la fecha y hora indicadas con estádisticos básicos presentados anteriormente.\n",
    "\n",
    "\n",
    "b) `Respuesta`: Si nos fijamos en la cantidad neta de bicicletas arrendadas durante vacaciones y días de trabajo, notamos que en los días de trabajo se arrendaron bastante más (casi el triple). Sin embargo, del histograma de la variable \"_Holiday_\", notamos una gran diferencia entre días de vacaciones y de trabajo, por lo que para realizar la justa comparación sobre cuándo la gente arrienda más bicicletas se calculó el promedio de arriendos por día para cada caso, obteniendo que en promedio hay un mayor arriendo en días de trabajo.\n",
    "\n",
    "c) `Respuesta`: Si nos fijamos en la cantidad neta de bicicletas arrendadas, notamos que en los días de semana se arrendaron bastante más (casi el triple). Sin embargo, del histograma de la variable _Weekday_, notamos una gran diferencia entre días de vacaciones y de trabajo, por lo que para realizar la justa comparación sobre cuándo la gente arrienda más bicicletas se calculó el promedio de arriendos por día para cada caso, obteniendo que en promedio hay un mayor arriendo los días de semana.\n",
    "\n",
    "d) `Respuesta`: <span style=\"color:red\">Nota</span>: Dado el contexto del problema, se entiende por clima a la variable _Seasons_, aún cuando existen otras variables que se podrían relacionar al clima como _Temperature(°C)_ y _Humidity(%)_.\n",
    "\n",
    "Si nos fijamos en la cantidad neta de bicicletas arrendadas, notamos que en verano se arrendaron más, le sigue otoño, bien de cerca sigue primavera y en invierno bajan considerablemente los arriendos. Al contrario de las variables anteriores, del histograma de la variable _Seasons_, casi no notamos diferencias entre las estaciones. Sin emabrgo, de todas maneras se calculó el promedio de arriendos por día para cada estación, obteniendo la misma secuencia de estaciones.\n",
    "De lo anterior se concluye que la gente arrienda más bicicletas en climas cálidos.\n"
   ]
  },
  {
   "cell_type": "markdown",
   "metadata": {
    "id": "kHhuVI7N0j9t"
   },
   "source": [
    "> e) Grafique el promedio de bicicletas arrendadas por estación ('Seasons').\n",
    "\n",
    "`Respuesta`: Ya se hizo.\n",
    "\n",
    "Responda las siguientes preguntas:\n",
    "\n",
    "> f) ¿Cuáles son las estaciones en las que más se arriendan bicicletas?\n",
    "\n",
    "`Respuesta`: Ordenando de mayor a menor: Verano, Otoño, Primavera, Invierno.\n",
    "\n",
    "> g) Transforme la fecha en variables numéricas, es decir, si _Date_ es 01/12/2017, entonces obtenga _Año_=2017, _mes_=12, _día_=1. Agreguelas al dataframe.\n",
    "\n",
    "`Respuesta`: El siguiente código realiza lo pedido, entendiendo como _día_ a _dayofweek_ considerando lo siguiente que se pide."
   ]
  },
  {
   "cell_type": "code",
   "execution_count": 137,
   "metadata": {
    "id": "fGaZCXER93ob"
   },
   "outputs": [
    {
     "data": {
      "text/html": [
       "<div>\n",
       "<style scoped>\n",
       "    .dataframe tbody tr th:only-of-type {\n",
       "        vertical-align: middle;\n",
       "    }\n",
       "\n",
       "    .dataframe tbody tr th {\n",
       "        vertical-align: top;\n",
       "    }\n",
       "\n",
       "    .dataframe thead th {\n",
       "        text-align: right;\n",
       "    }\n",
       "</style>\n",
       "<table border=\"1\" class=\"dataframe\">\n",
       "  <thead>\n",
       "    <tr style=\"text-align: right;\">\n",
       "      <th></th>\n",
       "      <th>Rented Bike Count</th>\n",
       "      <th>Hour</th>\n",
       "      <th>Temperature(°C)</th>\n",
       "      <th>Humidity(%)</th>\n",
       "      <th>Wind speed (m/s)</th>\n",
       "      <th>Visibility (10m)</th>\n",
       "      <th>Dew point temperature(°C)</th>\n",
       "      <th>Solar Radiation (MJ/m2)</th>\n",
       "      <th>Rainfall(mm)</th>\n",
       "      <th>Snowfall (cm)</th>\n",
       "      <th>Seasons</th>\n",
       "      <th>Holiday</th>\n",
       "      <th>Weekday</th>\n",
       "      <th>Year</th>\n",
       "      <th>Month</th>\n",
       "      <th>Day</th>\n",
       "      <th>Dayofweek</th>\n",
       "    </tr>\n",
       "  </thead>\n",
       "  <tbody>\n",
       "    <tr>\n",
       "      <th>0</th>\n",
       "      <td>254</td>\n",
       "      <td>0</td>\n",
       "      <td>-5.2</td>\n",
       "      <td>37</td>\n",
       "      <td>2.2</td>\n",
       "      <td>2000</td>\n",
       "      <td>-17.6</td>\n",
       "      <td>0.0</td>\n",
       "      <td>0.0</td>\n",
       "      <td>0.0</td>\n",
       "      <td>Winter</td>\n",
       "      <td>No Holiday</td>\n",
       "      <td>Weekday</td>\n",
       "      <td>2017</td>\n",
       "      <td>12</td>\n",
       "      <td>1</td>\n",
       "      <td>4</td>\n",
       "    </tr>\n",
       "    <tr>\n",
       "      <th>1</th>\n",
       "      <td>204</td>\n",
       "      <td>1</td>\n",
       "      <td>-5.5</td>\n",
       "      <td>38</td>\n",
       "      <td>0.8</td>\n",
       "      <td>2000</td>\n",
       "      <td>-17.6</td>\n",
       "      <td>0.0</td>\n",
       "      <td>0.0</td>\n",
       "      <td>0.0</td>\n",
       "      <td>Winter</td>\n",
       "      <td>No Holiday</td>\n",
       "      <td>Weekday</td>\n",
       "      <td>2017</td>\n",
       "      <td>12</td>\n",
       "      <td>1</td>\n",
       "      <td>4</td>\n",
       "    </tr>\n",
       "    <tr>\n",
       "      <th>2</th>\n",
       "      <td>173</td>\n",
       "      <td>2</td>\n",
       "      <td>-6.0</td>\n",
       "      <td>39</td>\n",
       "      <td>1.0</td>\n",
       "      <td>2000</td>\n",
       "      <td>-17.7</td>\n",
       "      <td>0.0</td>\n",
       "      <td>0.0</td>\n",
       "      <td>0.0</td>\n",
       "      <td>Winter</td>\n",
       "      <td>No Holiday</td>\n",
       "      <td>Weekday</td>\n",
       "      <td>2017</td>\n",
       "      <td>12</td>\n",
       "      <td>1</td>\n",
       "      <td>4</td>\n",
       "    </tr>\n",
       "    <tr>\n",
       "      <th>3</th>\n",
       "      <td>107</td>\n",
       "      <td>3</td>\n",
       "      <td>-6.2</td>\n",
       "      <td>40</td>\n",
       "      <td>0.9</td>\n",
       "      <td>2000</td>\n",
       "      <td>-17.6</td>\n",
       "      <td>0.0</td>\n",
       "      <td>0.0</td>\n",
       "      <td>0.0</td>\n",
       "      <td>Winter</td>\n",
       "      <td>No Holiday</td>\n",
       "      <td>Weekday</td>\n",
       "      <td>2017</td>\n",
       "      <td>12</td>\n",
       "      <td>1</td>\n",
       "      <td>4</td>\n",
       "    </tr>\n",
       "    <tr>\n",
       "      <th>4</th>\n",
       "      <td>78</td>\n",
       "      <td>4</td>\n",
       "      <td>-6.0</td>\n",
       "      <td>36</td>\n",
       "      <td>2.3</td>\n",
       "      <td>2000</td>\n",
       "      <td>-18.6</td>\n",
       "      <td>0.0</td>\n",
       "      <td>0.0</td>\n",
       "      <td>0.0</td>\n",
       "      <td>Winter</td>\n",
       "      <td>No Holiday</td>\n",
       "      <td>Weekday</td>\n",
       "      <td>2017</td>\n",
       "      <td>12</td>\n",
       "      <td>1</td>\n",
       "      <td>4</td>\n",
       "    </tr>\n",
       "  </tbody>\n",
       "</table>\n",
       "</div>"
      ],
      "text/plain": [
       "   Rented Bike Count  Hour  Temperature(°C)  Humidity(%)  Wind speed (m/s)  \\\n",
       "0                254     0             -5.2           37               2.2   \n",
       "1                204     1             -5.5           38               0.8   \n",
       "2                173     2             -6.0           39               1.0   \n",
       "3                107     3             -6.2           40               0.9   \n",
       "4                 78     4             -6.0           36               2.3   \n",
       "\n",
       "   Visibility (10m)  Dew point temperature(°C)  Solar Radiation (MJ/m2)  \\\n",
       "0              2000                      -17.6                      0.0   \n",
       "1              2000                      -17.6                      0.0   \n",
       "2              2000                      -17.7                      0.0   \n",
       "3              2000                      -17.6                      0.0   \n",
       "4              2000                      -18.6                      0.0   \n",
       "\n",
       "   Rainfall(mm)  Snowfall (cm) Seasons     Holiday  Weekday  Year  Month  Day  \\\n",
       "0           0.0            0.0  Winter  No Holiday  Weekday  2017     12    1   \n",
       "1           0.0            0.0  Winter  No Holiday  Weekday  2017     12    1   \n",
       "2           0.0            0.0  Winter  No Holiday  Weekday  2017     12    1   \n",
       "3           0.0            0.0  Winter  No Holiday  Weekday  2017     12    1   \n",
       "4           0.0            0.0  Winter  No Holiday  Weekday  2017     12    1   \n",
       "\n",
       "   Dayofweek  \n",
       "0          4  \n",
       "1          4  \n",
       "2          4  \n",
       "3          4  \n",
       "4          4  "
      ]
     },
     "execution_count": 137,
     "metadata": {},
     "output_type": "execute_result"
    }
   ],
   "source": [
    "# Transform of the variable Date to Year, Month and DayofWeek\n",
    "\n",
    "data['Year'] = data['Date'].dt.year\n",
    "data['Month'] = data['Date'].dt.month\n",
    "data['Day'] = data['Date'].dt.day\n",
    "data['Dayofweek'] = data['Date'].dt.dayofweek  # 5 y 6 son weekend\n",
    "data.drop('Date', axis=1, inplace=True)\n",
    "\n",
    "data.head()"
   ]
  },
  {
   "cell_type": "markdown",
   "metadata": {
    "id": "rootH3kyYMnl"
   },
   "source": [
    "> h) Grafique y analice de forma general la correlación entre las variables **numéricas**. "
   ]
  },
  {
   "cell_type": "code",
   "execution_count": 138,
   "metadata": {
    "id": "IrxKb6LtYU7H",
    "scrolled": true
   },
   "outputs": [
    {
     "data": {
      "text/html": [
       "<div>\n",
       "<style scoped>\n",
       "    .dataframe tbody tr th:only-of-type {\n",
       "        vertical-align: middle;\n",
       "    }\n",
       "\n",
       "    .dataframe tbody tr th {\n",
       "        vertical-align: top;\n",
       "    }\n",
       "\n",
       "    .dataframe thead th {\n",
       "        text-align: right;\n",
       "    }\n",
       "</style>\n",
       "<table border=\"1\" class=\"dataframe\">\n",
       "  <thead>\n",
       "    <tr style=\"text-align: right;\">\n",
       "      <th></th>\n",
       "      <th>DataType</th>\n",
       "      <th>Non-null_Values</th>\n",
       "      <th>Unique_Values</th>\n",
       "      <th>NaN_Values</th>\n",
       "      <th>NaN_Values_Percentage</th>\n",
       "    </tr>\n",
       "  </thead>\n",
       "  <tbody>\n",
       "    <tr>\n",
       "      <th>Rented Bike Count</th>\n",
       "      <td>int64</td>\n",
       "      <td>8465</td>\n",
       "      <td>2165</td>\n",
       "      <td>0</td>\n",
       "      <td>0.0</td>\n",
       "    </tr>\n",
       "    <tr>\n",
       "      <th>Hour</th>\n",
       "      <td>int64</td>\n",
       "      <td>8465</td>\n",
       "      <td>24</td>\n",
       "      <td>0</td>\n",
       "      <td>0.0</td>\n",
       "    </tr>\n",
       "    <tr>\n",
       "      <th>Temperature(°C)</th>\n",
       "      <td>float64</td>\n",
       "      <td>8465</td>\n",
       "      <td>546</td>\n",
       "      <td>0</td>\n",
       "      <td>0.0</td>\n",
       "    </tr>\n",
       "    <tr>\n",
       "      <th>Humidity(%)</th>\n",
       "      <td>int64</td>\n",
       "      <td>8465</td>\n",
       "      <td>90</td>\n",
       "      <td>0</td>\n",
       "      <td>0.0</td>\n",
       "    </tr>\n",
       "    <tr>\n",
       "      <th>Wind speed (m/s)</th>\n",
       "      <td>float64</td>\n",
       "      <td>8465</td>\n",
       "      <td>65</td>\n",
       "      <td>0</td>\n",
       "      <td>0.0</td>\n",
       "    </tr>\n",
       "    <tr>\n",
       "      <th>Visibility (10m)</th>\n",
       "      <td>int64</td>\n",
       "      <td>8465</td>\n",
       "      <td>1780</td>\n",
       "      <td>0</td>\n",
       "      <td>0.0</td>\n",
       "    </tr>\n",
       "    <tr>\n",
       "      <th>Dew point temperature(°C)</th>\n",
       "      <td>float64</td>\n",
       "      <td>8465</td>\n",
       "      <td>556</td>\n",
       "      <td>0</td>\n",
       "      <td>0.0</td>\n",
       "    </tr>\n",
       "    <tr>\n",
       "      <th>Solar Radiation (MJ/m2)</th>\n",
       "      <td>float64</td>\n",
       "      <td>8465</td>\n",
       "      <td>345</td>\n",
       "      <td>0</td>\n",
       "      <td>0.0</td>\n",
       "    </tr>\n",
       "    <tr>\n",
       "      <th>Rainfall(mm)</th>\n",
       "      <td>float64</td>\n",
       "      <td>8465</td>\n",
       "      <td>61</td>\n",
       "      <td>0</td>\n",
       "      <td>0.0</td>\n",
       "    </tr>\n",
       "    <tr>\n",
       "      <th>Snowfall (cm)</th>\n",
       "      <td>float64</td>\n",
       "      <td>8465</td>\n",
       "      <td>51</td>\n",
       "      <td>0</td>\n",
       "      <td>0.0</td>\n",
       "    </tr>\n",
       "    <tr>\n",
       "      <th>Seasons</th>\n",
       "      <td>object</td>\n",
       "      <td>8465</td>\n",
       "      <td>4</td>\n",
       "      <td>0</td>\n",
       "      <td>0.0</td>\n",
       "    </tr>\n",
       "    <tr>\n",
       "      <th>Holiday</th>\n",
       "      <td>object</td>\n",
       "      <td>8465</td>\n",
       "      <td>2</td>\n",
       "      <td>0</td>\n",
       "      <td>0.0</td>\n",
       "    </tr>\n",
       "    <tr>\n",
       "      <th>Weekday</th>\n",
       "      <td>object</td>\n",
       "      <td>8465</td>\n",
       "      <td>2</td>\n",
       "      <td>0</td>\n",
       "      <td>0.0</td>\n",
       "    </tr>\n",
       "    <tr>\n",
       "      <th>Year</th>\n",
       "      <td>int64</td>\n",
       "      <td>8465</td>\n",
       "      <td>2</td>\n",
       "      <td>0</td>\n",
       "      <td>0.0</td>\n",
       "    </tr>\n",
       "    <tr>\n",
       "      <th>Month</th>\n",
       "      <td>int64</td>\n",
       "      <td>8465</td>\n",
       "      <td>12</td>\n",
       "      <td>0</td>\n",
       "      <td>0.0</td>\n",
       "    </tr>\n",
       "    <tr>\n",
       "      <th>Day</th>\n",
       "      <td>int64</td>\n",
       "      <td>8465</td>\n",
       "      <td>31</td>\n",
       "      <td>0</td>\n",
       "      <td>0.0</td>\n",
       "    </tr>\n",
       "    <tr>\n",
       "      <th>Dayofweek</th>\n",
       "      <td>int64</td>\n",
       "      <td>8465</td>\n",
       "      <td>7</td>\n",
       "      <td>0</td>\n",
       "      <td>0.0</td>\n",
       "    </tr>\n",
       "  </tbody>\n",
       "</table>\n",
       "</div>"
      ],
      "text/plain": [
       "                          DataType  Non-null_Values  Unique_Values  \\\n",
       "Rented Bike Count            int64             8465           2165   \n",
       "Hour                         int64             8465             24   \n",
       "Temperature(°C)            float64             8465            546   \n",
       "Humidity(%)                  int64             8465             90   \n",
       "Wind speed (m/s)           float64             8465             65   \n",
       "Visibility (10m)             int64             8465           1780   \n",
       "Dew point temperature(°C)  float64             8465            556   \n",
       "Solar Radiation (MJ/m2)    float64             8465            345   \n",
       "Rainfall(mm)               float64             8465             61   \n",
       "Snowfall (cm)              float64             8465             51   \n",
       "Seasons                     object             8465              4   \n",
       "Holiday                     object             8465              2   \n",
       "Weekday                     object             8465              2   \n",
       "Year                         int64             8465              2   \n",
       "Month                        int64             8465             12   \n",
       "Day                          int64             8465             31   \n",
       "Dayofweek                    int64             8465              7   \n",
       "\n",
       "                           NaN_Values  NaN_Values_Percentage  \n",
       "Rented Bike Count                   0                    0.0  \n",
       "Hour                                0                    0.0  \n",
       "Temperature(°C)                     0                    0.0  \n",
       "Humidity(%)                         0                    0.0  \n",
       "Wind speed (m/s)                    0                    0.0  \n",
       "Visibility (10m)                    0                    0.0  \n",
       "Dew point temperature(°C)           0                    0.0  \n",
       "Solar Radiation (MJ/m2)             0                    0.0  \n",
       "Rainfall(mm)                        0                    0.0  \n",
       "Snowfall (cm)                       0                    0.0  \n",
       "Seasons                             0                    0.0  \n",
       "Holiday                             0                    0.0  \n",
       "Weekday                             0                    0.0  \n",
       "Year                                0                    0.0  \n",
       "Month                               0                    0.0  \n",
       "Day                                 0                    0.0  \n",
       "Dayofweek                           0                    0.0  "
      ]
     },
     "execution_count": 138,
     "metadata": {},
     "output_type": "execute_result"
    }
   ],
   "source": [
    "info = datainfo(data)\n",
    "info"
   ]
  },
  {
   "cell_type": "markdown",
   "metadata": {},
   "source": [
    "**Correlation analysis:** Se recuerda que la correlación entre variables indica entre valores entre -1 a 1 el nivel de relación **lineal** entre las variables, -1 indica una relación lineal inversa perfecta (mientras una crece la otra decrece), 1 indica la relación lineal directa perfecta (si una crece la otra también) mientras que 0 indica la ausencia de relación directa, lo cual no quiere decir que no exista otro tipo de relación."
   ]
  },
  {
   "cell_type": "code",
   "execution_count": 139,
   "metadata": {},
   "outputs": [
    {
     "data": {
      "text/plain": [
       "<Axes: >"
      ]
     },
     "execution_count": 139,
     "metadata": {},
     "output_type": "execute_result"
    },
    {
     "data": {
      "image/png": "[encoded data removed]",
      "text/plain": [
       "<Figure size 1200x1200 with 2 Axes>"
      ]
     },
     "metadata": {},
     "output_type": "display_data"
    }
   ],
   "source": [
    "# Using the numerical values\n",
    "\n",
    "numericas = list(info[info['DataType'] == 'int64'].index) + list(info[info['DataType'] == 'float64'].index)\n",
    "\n",
    "data_corr= data[numericas].corr()       \n",
    "plt.figure(figsize=(12,12))\n",
    "\n",
    "sns.heatmap(data_corr, cmap='coolwarm', linewidths=0.1, annot=True, linecolor='white')"
   ]
  },
  {
   "cell_type": "markdown",
   "metadata": {},
   "source": [
    "Ordenando en orden de mayor a valor en valor absoluto las correlaciones se presenta las primeras correlaciones más altas entre los features."
   ]
  },
  {
   "cell_type": "code",
   "execution_count": 140,
   "metadata": {},
   "outputs": [
    {
     "data": {
      "text/html": [
       "<div>\n",
       "<style scoped>\n",
       "    .dataframe tbody tr th:only-of-type {\n",
       "        vertical-align: middle;\n",
       "    }\n",
       "\n",
       "    .dataframe tbody tr th {\n",
       "        vertical-align: top;\n",
       "    }\n",
       "\n",
       "    .dataframe thead th {\n",
       "        text-align: right;\n",
       "    }\n",
       "</style>\n",
       "<table border=\"1\" class=\"dataframe\">\n",
       "  <thead>\n",
       "    <tr style=\"text-align: right;\">\n",
       "      <th></th>\n",
       "      <th>Variable 1</th>\n",
       "      <th>Variable 2</th>\n",
       "      <th>Correlación</th>\n",
       "    </tr>\n",
       "  </thead>\n",
       "  <tbody>\n",
       "    <tr>\n",
       "      <th>77</th>\n",
       "      <td>Temperature(°C)</td>\n",
       "      <td>Dew point temperature(°C)</td>\n",
       "      <td>0.914467</td>\n",
       "    </tr>\n",
       "    <tr>\n",
       "      <th>7</th>\n",
       "      <td>Rented Bike Count</td>\n",
       "      <td>Temperature(°C)</td>\n",
       "      <td>0.562740</td>\n",
       "    </tr>\n",
       "    <tr>\n",
       "      <th>25</th>\n",
       "      <td>Humidity(%)</td>\n",
       "      <td>Visibility (10m)</td>\n",
       "      <td>-0.548542</td>\n",
       "    </tr>\n",
       "    <tr>\n",
       "      <th>32</th>\n",
       "      <td>Humidity(%)</td>\n",
       "      <td>Dew point temperature(°C)</td>\n",
       "      <td>0.539402</td>\n",
       "    </tr>\n",
       "    <tr>\n",
       "      <th>46</th>\n",
       "      <td>Year</td>\n",
       "      <td>Month</td>\n",
       "      <td>-0.500050</td>\n",
       "    </tr>\n",
       "    <tr>\n",
       "      <th>33</th>\n",
       "      <td>Humidity(%)</td>\n",
       "      <td>Solar Radiation (MJ/m2)</td>\n",
       "      <td>-0.457273</td>\n",
       "    </tr>\n",
       "    <tr>\n",
       "      <th>0</th>\n",
       "      <td>Rented Bike Count</td>\n",
       "      <td>Hour</td>\n",
       "      <td>0.425256</td>\n",
       "    </tr>\n",
       "    <tr>\n",
       "      <th>9</th>\n",
       "      <td>Rented Bike Count</td>\n",
       "      <td>Dew point temperature(°C)</td>\n",
       "      <td>0.400263</td>\n",
       "    </tr>\n",
       "  </tbody>\n",
       "</table>\n",
       "</div>"
      ],
      "text/plain": [
       "           Variable 1                 Variable 2  Correlación\n",
       "77    Temperature(°C)  Dew point temperature(°C)     0.914467\n",
       "7   Rented Bike Count            Temperature(°C)     0.562740\n",
       "25        Humidity(%)           Visibility (10m)    -0.548542\n",
       "32        Humidity(%)  Dew point temperature(°C)     0.539402\n",
       "46               Year                      Month    -0.500050\n",
       "33        Humidity(%)    Solar Radiation (MJ/m2)    -0.457273\n",
       "0   Rented Bike Count                       Hour     0.425256\n",
       "9   Rented Bike Count  Dew point temperature(°C)     0.400263"
      ]
     },
     "execution_count": 140,
     "metadata": {},
     "output_type": "execute_result"
    }
   ],
   "source": [
    "# List with all possible combination between variables\n",
    "variable_combinations = [(i, j) for idx, i in enumerate(data_corr.columns) for j in data_corr.columns[idx+1:]]\n",
    "\n",
    "# List with correlation between pairs\n",
    "correlations = [data_corr.loc[i, j] for i, j in variable_combinations]\n",
    "\n",
    "# Df with both information\n",
    "new_df = pd.DataFrame({'Variable 1': [i for i, j in variable_combinations],\n",
    "                       'Variable 2': [j for i, j in variable_combinations],\n",
    "                       'Correlación': correlations})\n",
    "\n",
    "# Sort df by absolute value\n",
    "new_df = new_df.iloc[(-new_df['Correlación'].abs()).argsort()]\n",
    "\n",
    "new_df.head(8)\n"
   ]
  },
  {
   "cell_type": "code",
   "execution_count": 141,
   "metadata": {},
   "outputs": [
    {
     "data": {
      "text/html": [
       "<div>\n",
       "<style scoped>\n",
       "    .dataframe tbody tr th:only-of-type {\n",
       "        vertical-align: middle;\n",
       "    }\n",
       "\n",
       "    .dataframe tbody tr th {\n",
       "        vertical-align: top;\n",
       "    }\n",
       "\n",
       "    .dataframe thead th {\n",
       "        text-align: right;\n",
       "    }\n",
       "</style>\n",
       "<table border=\"1\" class=\"dataframe\">\n",
       "  <thead>\n",
       "    <tr style=\"text-align: right;\">\n",
       "      <th></th>\n",
       "      <th>Variable 1</th>\n",
       "      <th>Variable 2</th>\n",
       "      <th>Correlación</th>\n",
       "    </tr>\n",
       "  </thead>\n",
       "  <tbody>\n",
       "    <tr>\n",
       "      <th>7</th>\n",
       "      <td>Rented Bike Count</td>\n",
       "      <td>Temperature(°C)</td>\n",
       "      <td>0.562740</td>\n",
       "    </tr>\n",
       "    <tr>\n",
       "      <th>0</th>\n",
       "      <td>Rented Bike Count</td>\n",
       "      <td>Hour</td>\n",
       "      <td>0.425256</td>\n",
       "    </tr>\n",
       "    <tr>\n",
       "      <th>9</th>\n",
       "      <td>Rented Bike Count</td>\n",
       "      <td>Dew point temperature(°C)</td>\n",
       "      <td>0.400263</td>\n",
       "    </tr>\n",
       "    <tr>\n",
       "      <th>10</th>\n",
       "      <td>Rented Bike Count</td>\n",
       "      <td>Solar Radiation (MJ/m2)</td>\n",
       "      <td>0.273862</td>\n",
       "    </tr>\n",
       "    <tr>\n",
       "      <th>3</th>\n",
       "      <td>Rented Bike Count</td>\n",
       "      <td>Year</td>\n",
       "      <td>0.232004</td>\n",
       "    </tr>\n",
       "  </tbody>\n",
       "</table>\n",
       "</div>"
      ],
      "text/plain": [
       "           Variable 1                 Variable 2  Correlación\n",
       "7   Rented Bike Count            Temperature(°C)     0.562740\n",
       "0   Rented Bike Count                       Hour     0.425256\n",
       "9   Rented Bike Count  Dew point temperature(°C)     0.400263\n",
       "10  Rented Bike Count    Solar Radiation (MJ/m2)     0.273862\n",
       "3   Rented Bike Count                       Year     0.232004"
      ]
     },
     "execution_count": 141,
     "metadata": {},
     "output_type": "execute_result"
    }
   ],
   "source": [
    "new_df[new_df['Variable 1'] == 'Rented Bike Count'].head()"
   ]
  },
  {
   "cell_type": "markdown",
   "metadata": {},
   "source": [
    "h) `Respuesta`: Notamos que las variables \"_Temperature(°C)_\" y \"_Dew point temperature(°C)_\" están altamente correlacionadas ($0.91$), seguidas por las variable \"_Temperatura(°C)_\" y nuestro target (_\"Rented Bike Count\"_) con $0.5$ app. Además existen otras variables medianamente correlacionadas como \"_Humidity_(%)\" con \"_Visibility (10m)_\" y \"_Humidity(%)_\" con \"_Dew point temperature(°C)_\". Se observa una correlación entre el mes y el año."
   ]
  },
  {
   "cell_type": "markdown",
   "metadata": {},
   "source": [
    "> i) Escriba sus conclusiones sobre los resultados encontrados en la correlación en la pregunta h)\n",
    "\n",
    "i) `Conclusiones`: La alta correlación entre \"_Temperature(°C)_\" y \"_Dew point temperature(°C)_\" puede conducir a problemas de multicolinealidad y afectar la precisión y fiabilidad del modelo de regresión. Dado que la variable \"_Temperatura(°C)_\" está más correlacionada con nuestro target que \"_Dew point temperature(°C)_\", es que eliminamos la variable \"_Dew point temperature(°C)_\".\n",
    "\n",
    "La última lista acerca de las correlaciones con \"_Rented Bike Count_\" entrega información valiosa y concuerda con lo que uno puede esperarse en la cotidianindad al menos de forma intuitiva. Esto falla en la correlación con la variable \"_Year_\", la cual se deduce que sólo se debe al período al cual pertenencen los datos.\n",
    "\n",
    "Por otro lado, note que existe una correlación relativamente alta entre \"_mounth_\" y \"_year_\", la cual tiene que ver explicitamente con el período en el cual se tomarón los datos, donde todos los valores de Diciembre pertenecen a 2017 mientras que el resto de meses pertenecen a 2018."
   ]
  },
  {
   "cell_type": "code",
   "execution_count": 142,
   "metadata": {},
   "outputs": [],
   "source": [
    "# Eliminar \"Dew point temperature(°C)\"\n",
    "data.drop(columns=['Dew point temperature(°C)'], inplace=True)"
   ]
  },
  {
   "cell_type": "markdown",
   "metadata": {
    "id": "meYTfx4TZkXb"
   },
   "source": [
    "### 1.1.3 Separación de conjuntos"
   ]
  },
  {
   "cell_type": "markdown",
   "metadata": {
    "id": "g06GKfmsZwAq"
   },
   "source": [
    "> a) Divida el dataset en features _X_ y target _y_, además divida el dataset en un subconjunto de entrenamiento y otro de prueba."
   ]
  },
  {
   "cell_type": "code",
   "execution_count": 143,
   "metadata": {
    "id": "VQOD1Q7paNHL"
   },
   "outputs": [],
   "source": [
    "# a) Respuesta\n",
    "\n",
    "X=data.drop('Rented Bike Count',axis=1)\n",
    "y=data['Rented Bike Count']\n",
    "\n",
    "X_train, X_test, y_train, y_test = train_test_split(X, y, test_size=0.2)"
   ]
  },
  {
   "cell_type": "markdown",
   "metadata": {},
   "source": [
    "\n",
    "> b) ¿Para qué es el parámetro stratify?"
   ]
  },
  {
   "cell_type": "code",
   "execution_count": 144,
   "metadata": {},
   "outputs": [
    {
     "name": "stdout",
     "output_type": "stream",
     "text": [
      "Percentage of classes with one member: 0.27\n"
     ]
    }
   ],
   "source": [
    "conteo = data['Rented Bike Count'].value_counts()\n",
    "\n",
    "cant_total = 0\n",
    "cant_ones = 0\n",
    "cant_zeros = 0\n",
    "for valor, frecuencia in conteo.items():\n",
    "    cant_total += 1\n",
    "    if frecuencia == 1:\n",
    "        cant_ones += 1\n",
    "\n",
    "print(f\"Percentage of classes with one member: {round(cant_ones/cant_total,2)}\")"
   ]
  },
  {
   "cell_type": "markdown",
   "metadata": {},
   "source": [
    "\n",
    "b) `Respuesta`: Se utiliza para asegurarse de que la proporción de clases en el conjunto de datos original se mantenga en los subconjuntos de entrenamiento y prueba. Es útil cuando el conjunto de datos original está desequilibrado, es decir, hay una clase que tiene muchas más muestras que las demás. Esto ayuda a garantizar que el modelo entrenado en el subconjunto de entrenamiento sea capaz de generalizar bien a los datos no vistos del subconjunto de prueba.\n",
    "\n",
    "No utilizamos esta función dado que queremos hacer regresión lineal, por lo que nuestro target se toma como variable continua, por lo que no hay clases que estratiificar.\n",
    "\n",
    "Dado que alrededor de un cuarto de las clases tienen valores únicos, no tiene sentido utilizar \"_Stratify_\" para mantener las proporciones de las clases, por otro se deja como trabajo a futuro considerar la opción de agrupar las clases en conjuntos más grandes para evitar el problema de tener clases con pocos representantes. De esta forma se puede investigar si gracias a esto el modelo logra predecir de mejor forma identificando carácteristicas en común entre las clases."
   ]
  },
  {
   "cell_type": "markdown",
   "metadata": {
    "id": "rSOWDLcXWLH4"
   },
   "source": [
    "> c) Aplique Label Encoding a las variables _Seasons_ y _Holiday_ en el conjunto de entrenamiento y responda para qué sirve y como se usa.\n",
    "\n",
    "c) `Respuesta`: se utiliza para convertir variables categóricas en variables numéricas. Esta técnica asigna un número entero a cada categoría distinta de la variable categórica, de forma que las categorías similares tengan números similares. La función fit_transform() ajusta el encoder a los datos y transforma los datos categóricos en numéricos, mientras que transform() se utiliza para aplicar una transformación ya ajustada a un nuevo conjunto de datos, es decir, después de que el modelo se haya ajustado con fit_transform(), podemos aplicar la transformación ajustada a nuevos datos utilizando transform().\n",
    "\n",
    "> d) Aplique la transformación aprendida por el Label Encoder al conjunto de prueba.\n",
    "\n",
    "d) `Respuesta`: Se aplica mediante el siguiete código."
   ]
  },
  {
   "cell_type": "code",
   "execution_count": 145,
   "metadata": {
    "scrolled": true
   },
   "outputs": [
    {
     "data": {
      "text/html": [
       "<div>\n",
       "<style scoped>\n",
       "    .dataframe tbody tr th:only-of-type {\n",
       "        vertical-align: middle;\n",
       "    }\n",
       "\n",
       "    .dataframe tbody tr th {\n",
       "        vertical-align: top;\n",
       "    }\n",
       "\n",
       "    .dataframe thead th {\n",
       "        text-align: right;\n",
       "    }\n",
       "</style>\n",
       "<table border=\"1\" class=\"dataframe\">\n",
       "  <thead>\n",
       "    <tr style=\"text-align: right;\">\n",
       "      <th></th>\n",
       "      <th>DataType</th>\n",
       "      <th>Non-null_Values</th>\n",
       "      <th>Unique_Values</th>\n",
       "      <th>NaN_Values</th>\n",
       "      <th>NaN_Values_Percentage</th>\n",
       "    </tr>\n",
       "  </thead>\n",
       "  <tbody>\n",
       "    <tr>\n",
       "      <th>Hour</th>\n",
       "      <td>int64</td>\n",
       "      <td>6772</td>\n",
       "      <td>24</td>\n",
       "      <td>0</td>\n",
       "      <td>0.0</td>\n",
       "    </tr>\n",
       "    <tr>\n",
       "      <th>Temperature(°C)</th>\n",
       "      <td>float64</td>\n",
       "      <td>6772</td>\n",
       "      <td>542</td>\n",
       "      <td>0</td>\n",
       "      <td>0.0</td>\n",
       "    </tr>\n",
       "    <tr>\n",
       "      <th>Humidity(%)</th>\n",
       "      <td>int64</td>\n",
       "      <td>6772</td>\n",
       "      <td>90</td>\n",
       "      <td>0</td>\n",
       "      <td>0.0</td>\n",
       "    </tr>\n",
       "    <tr>\n",
       "      <th>Wind speed (m/s)</th>\n",
       "      <td>float64</td>\n",
       "      <td>6772</td>\n",
       "      <td>61</td>\n",
       "      <td>0</td>\n",
       "      <td>0.0</td>\n",
       "    </tr>\n",
       "    <tr>\n",
       "      <th>Visibility (10m)</th>\n",
       "      <td>int64</td>\n",
       "      <td>6772</td>\n",
       "      <td>1703</td>\n",
       "      <td>0</td>\n",
       "      <td>0.0</td>\n",
       "    </tr>\n",
       "    <tr>\n",
       "      <th>Solar Radiation (MJ/m2)</th>\n",
       "      <td>float64</td>\n",
       "      <td>6772</td>\n",
       "      <td>340</td>\n",
       "      <td>0</td>\n",
       "      <td>0.0</td>\n",
       "    </tr>\n",
       "    <tr>\n",
       "      <th>Rainfall(mm)</th>\n",
       "      <td>float64</td>\n",
       "      <td>6772</td>\n",
       "      <td>56</td>\n",
       "      <td>0</td>\n",
       "      <td>0.0</td>\n",
       "    </tr>\n",
       "    <tr>\n",
       "      <th>Snowfall (cm)</th>\n",
       "      <td>float64</td>\n",
       "      <td>6772</td>\n",
       "      <td>49</td>\n",
       "      <td>0</td>\n",
       "      <td>0.0</td>\n",
       "    </tr>\n",
       "    <tr>\n",
       "      <th>Seasons</th>\n",
       "      <td>object</td>\n",
       "      <td>6772</td>\n",
       "      <td>4</td>\n",
       "      <td>0</td>\n",
       "      <td>0.0</td>\n",
       "    </tr>\n",
       "    <tr>\n",
       "      <th>Holiday</th>\n",
       "      <td>object</td>\n",
       "      <td>6772</td>\n",
       "      <td>2</td>\n",
       "      <td>0</td>\n",
       "      <td>0.0</td>\n",
       "    </tr>\n",
       "    <tr>\n",
       "      <th>Weekday</th>\n",
       "      <td>object</td>\n",
       "      <td>6772</td>\n",
       "      <td>2</td>\n",
       "      <td>0</td>\n",
       "      <td>0.0</td>\n",
       "    </tr>\n",
       "    <tr>\n",
       "      <th>Year</th>\n",
       "      <td>int64</td>\n",
       "      <td>6772</td>\n",
       "      <td>2</td>\n",
       "      <td>0</td>\n",
       "      <td>0.0</td>\n",
       "    </tr>\n",
       "    <tr>\n",
       "      <th>Month</th>\n",
       "      <td>int64</td>\n",
       "      <td>6772</td>\n",
       "      <td>12</td>\n",
       "      <td>0</td>\n",
       "      <td>0.0</td>\n",
       "    </tr>\n",
       "    <tr>\n",
       "      <th>Day</th>\n",
       "      <td>int64</td>\n",
       "      <td>6772</td>\n",
       "      <td>31</td>\n",
       "      <td>0</td>\n",
       "      <td>0.0</td>\n",
       "    </tr>\n",
       "    <tr>\n",
       "      <th>Dayofweek</th>\n",
       "      <td>int64</td>\n",
       "      <td>6772</td>\n",
       "      <td>7</td>\n",
       "      <td>0</td>\n",
       "      <td>0.0</td>\n",
       "    </tr>\n",
       "  </tbody>\n",
       "</table>\n",
       "</div>"
      ],
      "text/plain": [
       "                        DataType  Non-null_Values  Unique_Values  NaN_Values  \\\n",
       "Hour                       int64             6772             24           0   \n",
       "Temperature(°C)          float64             6772            542           0   \n",
       "Humidity(%)                int64             6772             90           0   \n",
       "Wind speed (m/s)         float64             6772             61           0   \n",
       "Visibility (10m)           int64             6772           1703           0   \n",
       "Solar Radiation (MJ/m2)  float64             6772            340           0   \n",
       "Rainfall(mm)             float64             6772             56           0   \n",
       "Snowfall (cm)            float64             6772             49           0   \n",
       "Seasons                   object             6772              4           0   \n",
       "Holiday                   object             6772              2           0   \n",
       "Weekday                   object             6772              2           0   \n",
       "Year                       int64             6772              2           0   \n",
       "Month                      int64             6772             12           0   \n",
       "Day                        int64             6772             31           0   \n",
       "Dayofweek                  int64             6772              7           0   \n",
       "\n",
       "                         NaN_Values_Percentage  \n",
       "Hour                                       0.0  \n",
       "Temperature(°C)                            0.0  \n",
       "Humidity(%)                                0.0  \n",
       "Wind speed (m/s)                           0.0  \n",
       "Visibility (10m)                           0.0  \n",
       "Solar Radiation (MJ/m2)                    0.0  \n",
       "Rainfall(mm)                               0.0  \n",
       "Snowfall (cm)                              0.0  \n",
       "Seasons                                    0.0  \n",
       "Holiday                                    0.0  \n",
       "Weekday                                    0.0  \n",
       "Year                                       0.0  \n",
       "Month                                      0.0  \n",
       "Day                                        0.0  \n",
       "Dayofweek                                  0.0  "
      ]
     },
     "execution_count": 145,
     "metadata": {},
     "output_type": "execute_result"
    }
   ],
   "source": [
    "datainfo(X_train)"
   ]
  },
  {
   "cell_type": "markdown",
   "metadata": {},
   "source": [
    "La función LabelEnconder asigna números a los posibles valores en el orden que aparecen, cómo en el conjunto de entrenamiento los datos no están necesariamente ordenados, tampoco lo estan las épocas del año en el orden que deberían, por lo tanto se necesita hacer este proceso de forma manual para preservar el correcto orden para más adelante."
   ]
  },
  {
   "cell_type": "code",
   "execution_count": 146,
   "metadata": {
    "id": "iUw2q8W5WHTH"
   },
   "outputs": [
    {
     "ename": "KeyError",
     "evalue": "'Functioning Day'",
     "output_type": "error",
     "traceback": [
      "\u001b[1;31m---------------------------------------------------------------------------\u001b[0m",
      "\u001b[1;31mKeyError\u001b[0m                                  Traceback (most recent call last)",
      "File \u001b[1;32m~\\anaconda3\\lib\\site-packages\\pandas\\core\\indexes\\base.py:3802\u001b[0m, in \u001b[0;36mIndex.get_loc\u001b[1;34m(self, key, method, tolerance)\u001b[0m\n\u001b[0;32m   3801\u001b[0m \u001b[38;5;28;01mtry\u001b[39;00m:\n\u001b[1;32m-> 3802\u001b[0m     \u001b[38;5;28;01mreturn\u001b[39;00m \u001b[38;5;28;43mself\u001b[39;49m\u001b[38;5;241;43m.\u001b[39;49m\u001b[43m_engine\u001b[49m\u001b[38;5;241;43m.\u001b[39;49m\u001b[43mget_loc\u001b[49m\u001b[43m(\u001b[49m\u001b[43mcasted_key\u001b[49m\u001b[43m)\u001b[49m\n\u001b[0;32m   3803\u001b[0m \u001b[38;5;28;01mexcept\u001b[39;00m \u001b[38;5;167;01mKeyError\u001b[39;00m \u001b[38;5;28;01mas\u001b[39;00m err:\n",
      "File \u001b[1;32m~\\anaconda3\\lib\\site-packages\\pandas\\_libs\\index.pyx:138\u001b[0m, in \u001b[0;36mpandas._libs.index.IndexEngine.get_loc\u001b[1;34m()\u001b[0m\n",
      "File \u001b[1;32m~\\anaconda3\\lib\\site-packages\\pandas\\_libs\\index.pyx:165\u001b[0m, in \u001b[0;36mpandas._libs.index.IndexEngine.get_loc\u001b[1;34m()\u001b[0m\n",
      "File \u001b[1;32mpandas\\_libs\\hashtable_class_helper.pxi:5745\u001b[0m, in \u001b[0;36mpandas._libs.hashtable.PyObjectHashTable.get_item\u001b[1;34m()\u001b[0m\n",
      "File \u001b[1;32mpandas\\_libs\\hashtable_class_helper.pxi:5753\u001b[0m, in \u001b[0;36mpandas._libs.hashtable.PyObjectHashTable.get_item\u001b[1;34m()\u001b[0m\n",
      "\u001b[1;31mKeyError\u001b[0m: 'Functioning Day'",
      "\nThe above exception was the direct cause of the following exception:\n",
      "\u001b[1;31mKeyError\u001b[0m                                  Traceback (most recent call last)",
      "Cell \u001b[1;32mIn[146], line 17\u001b[0m\n\u001b[0;32m     14\u001b[0m X_train[\u001b[38;5;124m\"\u001b[39m\u001b[38;5;124mWeekday\u001b[39m\u001b[38;5;124m\"\u001b[39m] \u001b[38;5;241m=\u001b[39m le\u001b[38;5;241m.\u001b[39mfit_transform(X_train[\u001b[38;5;124m\"\u001b[39m\u001b[38;5;124mWeekday\u001b[39m\u001b[38;5;124m\"\u001b[39m])\n\u001b[0;32m     15\u001b[0m X_test[\u001b[38;5;124m\"\u001b[39m\u001b[38;5;124mWeekday\u001b[39m\u001b[38;5;124m\"\u001b[39m] \u001b[38;5;241m=\u001b[39m le\u001b[38;5;241m.\u001b[39mtransform(X_test[\u001b[38;5;124m\"\u001b[39m\u001b[38;5;124mWeekday\u001b[39m\u001b[38;5;124m\"\u001b[39m])\n\u001b[1;32m---> 17\u001b[0m X_train[\u001b[38;5;124m\"\u001b[39m\u001b[38;5;124mFunctioning Day\u001b[39m\u001b[38;5;124m\"\u001b[39m] \u001b[38;5;241m=\u001b[39m le\u001b[38;5;241m.\u001b[39mfit_transform(\u001b[43mX_train\u001b[49m\u001b[43m[\u001b[49m\u001b[38;5;124;43m\"\u001b[39;49m\u001b[38;5;124;43mFunctioning Day\u001b[39;49m\u001b[38;5;124;43m\"\u001b[39;49m\u001b[43m]\u001b[49m)\n\u001b[0;32m     18\u001b[0m X_test[\u001b[38;5;124m\"\u001b[39m\u001b[38;5;124mFunctioning Day\u001b[39m\u001b[38;5;124m\"\u001b[39m] \u001b[38;5;241m=\u001b[39m le\u001b[38;5;241m.\u001b[39mtransform(X_test[\u001b[38;5;124m\"\u001b[39m\u001b[38;5;124mFunctioning Day\u001b[39m\u001b[38;5;124m\"\u001b[39m])\n\u001b[0;32m     20\u001b[0m X_train\u001b[38;5;241m.\u001b[39mhead()\n",
      "File \u001b[1;32m~\\anaconda3\\lib\\site-packages\\pandas\\core\\frame.py:3807\u001b[0m, in \u001b[0;36mDataFrame.__getitem__\u001b[1;34m(self, key)\u001b[0m\n\u001b[0;32m   3805\u001b[0m \u001b[38;5;28;01mif\u001b[39;00m \u001b[38;5;28mself\u001b[39m\u001b[38;5;241m.\u001b[39mcolumns\u001b[38;5;241m.\u001b[39mnlevels \u001b[38;5;241m>\u001b[39m \u001b[38;5;241m1\u001b[39m:\n\u001b[0;32m   3806\u001b[0m     \u001b[38;5;28;01mreturn\u001b[39;00m \u001b[38;5;28mself\u001b[39m\u001b[38;5;241m.\u001b[39m_getitem_multilevel(key)\n\u001b[1;32m-> 3807\u001b[0m indexer \u001b[38;5;241m=\u001b[39m \u001b[38;5;28;43mself\u001b[39;49m\u001b[38;5;241;43m.\u001b[39;49m\u001b[43mcolumns\u001b[49m\u001b[38;5;241;43m.\u001b[39;49m\u001b[43mget_loc\u001b[49m\u001b[43m(\u001b[49m\u001b[43mkey\u001b[49m\u001b[43m)\u001b[49m\n\u001b[0;32m   3808\u001b[0m \u001b[38;5;28;01mif\u001b[39;00m is_integer(indexer):\n\u001b[0;32m   3809\u001b[0m     indexer \u001b[38;5;241m=\u001b[39m [indexer]\n",
      "File \u001b[1;32m~\\anaconda3\\lib\\site-packages\\pandas\\core\\indexes\\base.py:3804\u001b[0m, in \u001b[0;36mIndex.get_loc\u001b[1;34m(self, key, method, tolerance)\u001b[0m\n\u001b[0;32m   3802\u001b[0m     \u001b[38;5;28;01mreturn\u001b[39;00m \u001b[38;5;28mself\u001b[39m\u001b[38;5;241m.\u001b[39m_engine\u001b[38;5;241m.\u001b[39mget_loc(casted_key)\n\u001b[0;32m   3803\u001b[0m \u001b[38;5;28;01mexcept\u001b[39;00m \u001b[38;5;167;01mKeyError\u001b[39;00m \u001b[38;5;28;01mas\u001b[39;00m err:\n\u001b[1;32m-> 3804\u001b[0m     \u001b[38;5;28;01mraise\u001b[39;00m \u001b[38;5;167;01mKeyError\u001b[39;00m(key) \u001b[38;5;28;01mfrom\u001b[39;00m \u001b[38;5;21;01merr\u001b[39;00m\n\u001b[0;32m   3805\u001b[0m \u001b[38;5;28;01mexcept\u001b[39;00m \u001b[38;5;167;01mTypeError\u001b[39;00m:\n\u001b[0;32m   3806\u001b[0m     \u001b[38;5;66;03m# If we have a listlike key, _check_indexing_error will raise\u001b[39;00m\n\u001b[0;32m   3807\u001b[0m     \u001b[38;5;66;03m#  InvalidIndexError. Otherwise we fall through and re-raise\u001b[39;00m\n\u001b[0;32m   3808\u001b[0m     \u001b[38;5;66;03m#  the TypeError.\u001b[39;00m\n\u001b[0;32m   3809\u001b[0m     \u001b[38;5;28mself\u001b[39m\u001b[38;5;241m.\u001b[39m_check_indexing_error(key)\n",
      "\u001b[1;31mKeyError\u001b[0m: 'Functioning Day'"
     ]
    }
   ],
   "source": [
    "le = preprocessing.LabelEncoder()\n",
    "\n",
    "# Applying Label Enconder over categoric variables\n",
    "\n",
    "# For x, we expect to keep the order of Seasons.\n",
    "le.fit(X_train[\"Seasons\"])\n",
    "le.classes_ = np.array(['Summer', 'Autumn', 'Winter', 'Spring'], dtype=object)\n",
    "X_train[\"Seasons\"] = le.transform(X_train[\"Seasons\"])\n",
    "X_test[\"Seasons\"] = le.transform(X_test[\"Seasons\"])\n",
    "\n",
    "X_train[\"Holiday\"] = le.fit_transform(X_train[\"Holiday\"])\n",
    "X_test[\"Holiday\"] = le.transform(X_test[\"Holiday\"])\n",
    "\n",
    "X_train[\"Weekday\"] = le.fit_transform(X_train[\"Weekday\"])\n",
    "X_test[\"Weekday\"] = le.transform(X_test[\"Weekday\"])\n",
    "\n",
    "X_train[\"Functioning Day\"] = le.fit_transform(X_train[\"Functioning Day\"])\n",
    "X_test[\"Functioning Day\"] = le.transform(X_test[\"Functioning Day\"])\n",
    "\n",
    "X_train.head()"
   ]
  },
  {
   "cell_type": "code",
   "execution_count": null,
   "metadata": {},
   "outputs": [],
   "source": [
    "datainfo(X_train)"
   ]
  },
  {
   "cell_type": "markdown",
   "metadata": {
    "id": "susLNAFn9zBw"
   },
   "source": [
    "> e) ¿Por qué no se aplica la transformación del Label Encoder directamente sobre el conjunto de datos completo?\n",
    "\n",
    "e) `Respuesta`: Al aplicar Label Encoder sobre el conjunto de datos completo estaríamos introduciendo información de los datos de prueba en los datos de entrenamiento, lo que podría resultar en un sesgo en el modelo, causando que este no sea generalizable a datos nuevos."
   ]
  },
  {
   "cell_type": "markdown",
   "metadata": {
    "id": "tAi_kFUa5RWh"
   },
   "source": [
    "## 1.2 Modelos de Regresión"
   ]
  },
  {
   "cell_type": "markdown",
   "metadata": {
    "id": "MCKBHS4B6ZfT"
   },
   "source": [
    "Primero entrenaremos un regresor lineal con los datos _en bruto_, ya que básicamente se transformaron las variables _Date_, _Seasons_ y _Holiday_ tal que todos los datos se puedan procesar por el regresor."
   ]
  },
  {
   "cell_type": "markdown",
   "metadata": {
    "id": "WehFicHT_do_"
   },
   "source": [
    "### 1.2.1 Modelo en bruto"
   ]
  },
  {
   "cell_type": "markdown",
   "metadata": {
    "id": "hY7LByBqDw2C"
   },
   "source": [
    "> a) Utilice LinearRegression para entrenar el regresor y posteriormente obtener predicciones utilizando el testset."
   ]
  },
  {
   "cell_type": "markdown",
   "metadata": {},
   "source": [
    "a) `Respuesta`: Código"
   ]
  },
  {
   "cell_type": "code",
   "execution_count": 147,
   "metadata": {
    "id": "se8UjYIuD4Sh"
   },
   "outputs": [],
   "source": [
    "reg = LinearRegression().fit(X_train, y_train)\n",
    "y_pred = reg.predict(X_test)"
   ]
  },
  {
   "cell_type": "markdown",
   "metadata": {
    "id": "h6Mb_OjkyU6h"
   },
   "source": [
    "> b) Obtenga el error cuadrático medio de la predicción sobre los datos del conjunto *X_test*\n",
    "\n",
    "b) `Respuesta`: Código"
   ]
  },
  {
   "cell_type": "code",
   "execution_count": 149,
   "metadata": {
    "id": "F1mUfVDdLLb4"
   },
   "outputs": [
    {
     "data": {
      "text/plain": [
       "210798.5675698519"
      ]
     },
     "execution_count": 149,
     "metadata": {},
     "output_type": "execute_result"
    }
   ],
   "source": [
    "model_bruto_error = mean_squared_error(y_test, y_pred)\n",
    "model_bruto_error"
   ]
  },
  {
   "cell_type": "markdown",
   "metadata": {
    "id": "aHANfCdoyxUW"
   },
   "source": [
    "> c) Grafique los resultados de la predicción (y_pred) versus los target de la prueba (y_test)\n",
    "\n",
    "c) `Respuesta`: Código"
   ]
  },
  {
   "cell_type": "code",
   "execution_count": 150,
   "metadata": {
    "id": "REjrBtlbywtI"
   },
   "outputs": [
    {
     "data": {
      "image/png": "[encoded data removed]",
      "text/plain": [
       "<Figure size 640x480 with 1 Axes>"
      ]
     },
     "metadata": {},
     "output_type": "display_data"
    }
   ],
   "source": [
    "plt.scatter(y_test, y_pred, s=10)\n",
    "\n",
    "# Recta identidad\n",
    "x = [min(y_test), max(y_test)]\n",
    "plt.plot(x, x, color='r')\n",
    "\n",
    "# Configuraciones de eje y etiquetas\n",
    "plt.axis('equal')\n",
    "\n",
    "plt.xlabel('Test')\n",
    "plt.ylabel('Prediction')\n",
    "plt.title('Test vs Prediction')\n",
    "\n",
    "plt.show()"
   ]
  },
  {
   "cell_type": "markdown",
   "metadata": {
    "id": "_eCbIBCuCPkK"
   },
   "source": [
    "### 1.2.2 Modelo preprocesado"
   ]
  },
  {
   "cell_type": "markdown",
   "metadata": {
    "id": "qlrJqqF1Ggv5"
   },
   "source": [
    "Variables cíclicas\n",
    "\n",
    "Si aplicaramos variables _Dummy_ o transformar con _One Hot Encoder_ a la fecha terminaríamos con 12 columnas para los meses, 7 columnas para los días de la semana y 24 columnas para la hora! En lugar de eso nos aprovecharemos de que todas estas variables son cíclicas, es decir, después de 23:00 hrs viene 00:00 hrs y el ciclo se vuelve a repetir, lo mismo para los meses del año y los días de la semana. Entonces podemos pensar en este ciclo como si fuera un _circulo_ utilizando el seno y el coseno de la fecha tenemos las coordenada de la fecha en el _circulo_. De esta forma las 23:00 y las 00:00 son cercanas en esta representación. Gracias a lo anterior nos quedamos con solo 2 columnas.\n",
    "\n",
    "$\\text{var}\\_\\text{cos} = \\cos(2π\\; \\text{var}/\\text{periodo})$\n",
    "\n",
    "$\\text{var}\\_\\text{sin} = \\sin(2π\\; \\text{var}/\\text{periodo})$\n",
    "\n",
    "> a) ¿Por qué no simplemente usar solo el seno o solo el coseno?"
   ]
  },
  {
   "cell_type": "markdown",
   "metadata": {},
   "source": [
    "<span style=\"color:red\">ChatGPT</span>: La combinación de la función coseno y la función seno para representar las 24 horas del día, podemos expresar cualquier posición de la hora en relación con el ciclo completo de 24 horas.\n",
    "\n",
    "demás, la combinación de la función coseno y la función seno nos permite representar la posición de la hora del día en un plano cartesiano, donde el eje horizontal representa la función coseno y el eje vertical representa la función seno"
   ]
  },
  {
   "cell_type": "code",
   "execution_count": 157,
   "metadata": {
    "id": "34gOfsesG_bi"
   },
   "outputs": [
    {
     "ename": "IndexError",
     "evalue": "only integers, slices (`:`), ellipsis (`...`), numpy.newaxis (`None`) and integer or boolean arrays are valid indices",
     "output_type": "error",
     "traceback": [
      "\u001b[1;31m---------------------------------------------------------------------------\u001b[0m",
      "\u001b[1;31mIndexError\u001b[0m                                Traceback (most recent call last)",
      "Cell \u001b[1;32mIn[157], line 1\u001b[0m\n\u001b[1;32m----> 1\u001b[0m X_train[\u001b[38;5;124m'\u001b[39m\u001b[38;5;124mHour_sin\u001b[39m\u001b[38;5;124m'\u001b[39m] \u001b[38;5;241m=\u001b[39m np\u001b[38;5;241m.\u001b[39msin(\u001b[38;5;241m2\u001b[39m \u001b[38;5;241m*\u001b[39m np\u001b[38;5;241m.\u001b[39mpi \u001b[38;5;241m*\u001b[39m \u001b[43mX_train\u001b[49m\u001b[43m[\u001b[49m\u001b[38;5;124;43m'\u001b[39;49m\u001b[38;5;124;43mHour\u001b[39;49m\u001b[38;5;124;43m'\u001b[39;49m\u001b[43m]\u001b[49m \u001b[38;5;241m/\u001b[39m \u001b[38;5;241m24\u001b[39m)\n\u001b[0;32m      2\u001b[0m X_train[\u001b[38;5;124m'\u001b[39m\u001b[38;5;124mHour_cos\u001b[39m\u001b[38;5;124m'\u001b[39m] \u001b[38;5;241m=\u001b[39m np\u001b[38;5;241m.\u001b[39mcos(\u001b[38;5;241m2\u001b[39m \u001b[38;5;241m*\u001b[39m np\u001b[38;5;241m.\u001b[39mpi \u001b[38;5;241m*\u001b[39m X_train[\u001b[38;5;124m'\u001b[39m\u001b[38;5;124mHour\u001b[39m\u001b[38;5;124m'\u001b[39m] \u001b[38;5;241m/\u001b[39m \u001b[38;5;241m24\u001b[39m)\n\u001b[0;32m      3\u001b[0m X_train[\u001b[38;5;124m'\u001b[39m\u001b[38;5;124mMonth_sin\u001b[39m\u001b[38;5;124m'\u001b[39m] \u001b[38;5;241m=\u001b[39m np\u001b[38;5;241m.\u001b[39msin(\u001b[38;5;241m2\u001b[39m \u001b[38;5;241m*\u001b[39m np\u001b[38;5;241m.\u001b[39mpi \u001b[38;5;241m*\u001b[39m X_train[\u001b[38;5;124m'\u001b[39m\u001b[38;5;124mMonth\u001b[39m\u001b[38;5;124m'\u001b[39m] \u001b[38;5;241m/\u001b[39m \u001b[38;5;241m12\u001b[39m)\n",
      "\u001b[1;31mIndexError\u001b[0m: only integers, slices (`:`), ellipsis (`...`), numpy.newaxis (`None`) and integer or boolean arrays are valid indices"
     ]
    }
   ],
   "source": [
    "X_train['Hour_sin'] = np.sin(2 * np.pi * X_train['Hour'] / 24)\n",
    "X_train['Hour_cos'] = np.cos(2 * np.pi * X_train['Hour'] / 24)\n",
    "X_train['Month_sin'] = np.sin(2 * np.pi * X_train['Month'] / 12)\n",
    "X_train['Month_cos'] = np.cos(2 * np.pi * X_train['Month'] / 12)\n",
    "X_train['Dayofweek_sin'] = np.sin(2 * np.pi * X_train['Dayofweek'] / 7)\n",
    "X_train['Dayofweek_cos'] = np.cos(2 * np.pi * X_train['Dayofweek'] / 7)\n",
    "X_train['Day_sin'] = np.sin(2 * np.pi * X_train['Day'] / 31)\n",
    "X_train['Day_cos'] = np.cos(2 * np.pi * X_train['Day'] / 31)\n",
    "\n",
    "X_test['Hour_sin'] = np.sin(2 * np.pi * X_test['Hour'] / 24)\n",
    "X_test['Hour_cos'] = np.cos(2 * np.pi * X_test['Hour'] / 24)\n",
    "X_test['Month_sin'] = np.sin(2 * np.pi * X_test['Month'] / 12)\n",
    "X_test['Month_cos'] = np.cos(2 * np.pi * X_test['Month'] / 12)\n",
    "X_test['Dayofweek_sin'] = np.sin(2 * np.pi * X_test['Dayofweek'] / 7)\n",
    "X_test['Dayofweek_cos'] = np.cos(2 * np.pi * X_test['Dayofweek'] / 7)\n",
    "X_test['Day_sin'] = np.sin(2 * np.pi * X_test['Day'] / 31)\n",
    "X_test['Day_cos'] = np.cos(2 * np.pi * X_test['Day'] / 31)\n",
    "\n",
    "X_train.drop(['Month', 'Hour', 'Dayofweek', 'Day'], axis=1, inplace=True)\n",
    "X_test.drop(['Month', 'Hour', 'Dayofweek', 'Day'], axis=1, inplace=True)"
   ]
  },
  {
   "cell_type": "markdown",
   "metadata": {
    "id": "Lu16autsXW4F"
   },
   "source": [
    "> b) Aplique la misma lógica de variable _cíclica_ a la variable _Season_.\n",
    "\n",
    "b) `Respuesta`: Aplicando lo anterior para un cíclo de 4."
   ]
  },
  {
   "cell_type": "code",
   "execution_count": 152,
   "metadata": {
    "id": "FLgmspozXS4P"
   },
   "outputs": [],
   "source": [
    "X_train['Season_sin'] = np.sin(2 * np.pi * X_train['Seasons'] / 4) \n",
    "X_train['Season_cos'] = np.cos(2 * np.pi * X_train['Seasons'] / 4)\n",
    "X_train.drop('Seasons', axis=1, inplace=True)\n",
    "\n",
    "X_test['Season_sin'] = np.sin(2 * np.pi * X_test['Seasons'] / 4) \n",
    "X_test['Season_cos'] = np.cos(2 * np.pi * X_test['Seasons'] / 4) \n",
    "X_test.drop('Seasons', axis=1, inplace=True)"
   ]
  },
  {
   "cell_type": "markdown",
   "metadata": {
    "id": "Xq2dyE2XYExy"
   },
   "source": [
    "Normalización de variables.\n",
    "\n",
    "> c) Transforme las variables para que estas sigan una distribución normal con media 0 y varianza 1.\n",
    "\n",
    "c) `Respuesta`: En el código se muestra como se normalizan.\n"
   ]
  },
  {
   "cell_type": "code",
   "execution_count": 153,
   "metadata": {},
   "outputs": [
    {
     "data": {
      "text/html": [
       "<div>\n",
       "<style scoped>\n",
       "    .dataframe tbody tr th:only-of-type {\n",
       "        vertical-align: middle;\n",
       "    }\n",
       "\n",
       "    .dataframe tbody tr th {\n",
       "        vertical-align: top;\n",
       "    }\n",
       "\n",
       "    .dataframe thead th {\n",
       "        text-align: right;\n",
       "    }\n",
       "</style>\n",
       "<table border=\"1\" class=\"dataframe\">\n",
       "  <thead>\n",
       "    <tr style=\"text-align: right;\">\n",
       "      <th></th>\n",
       "      <th>DataType</th>\n",
       "      <th>Non-null_Values</th>\n",
       "      <th>Unique_Values</th>\n",
       "      <th>NaN_Values</th>\n",
       "      <th>NaN_Values_Percentage</th>\n",
       "    </tr>\n",
       "  </thead>\n",
       "  <tbody>\n",
       "    <tr>\n",
       "      <th>Temperature(°C)</th>\n",
       "      <td>float64</td>\n",
       "      <td>6772</td>\n",
       "      <td>542</td>\n",
       "      <td>0</td>\n",
       "      <td>0.0</td>\n",
       "    </tr>\n",
       "    <tr>\n",
       "      <th>Humidity(%)</th>\n",
       "      <td>int64</td>\n",
       "      <td>6772</td>\n",
       "      <td>90</td>\n",
       "      <td>0</td>\n",
       "      <td>0.0</td>\n",
       "    </tr>\n",
       "    <tr>\n",
       "      <th>Wind speed (m/s)</th>\n",
       "      <td>float64</td>\n",
       "      <td>6772</td>\n",
       "      <td>61</td>\n",
       "      <td>0</td>\n",
       "      <td>0.0</td>\n",
       "    </tr>\n",
       "    <tr>\n",
       "      <th>Visibility (10m)</th>\n",
       "      <td>int64</td>\n",
       "      <td>6772</td>\n",
       "      <td>1703</td>\n",
       "      <td>0</td>\n",
       "      <td>0.0</td>\n",
       "    </tr>\n",
       "    <tr>\n",
       "      <th>Solar Radiation (MJ/m2)</th>\n",
       "      <td>float64</td>\n",
       "      <td>6772</td>\n",
       "      <td>340</td>\n",
       "      <td>0</td>\n",
       "      <td>0.0</td>\n",
       "    </tr>\n",
       "    <tr>\n",
       "      <th>Rainfall(mm)</th>\n",
       "      <td>float64</td>\n",
       "      <td>6772</td>\n",
       "      <td>56</td>\n",
       "      <td>0</td>\n",
       "      <td>0.0</td>\n",
       "    </tr>\n",
       "    <tr>\n",
       "      <th>Snowfall (cm)</th>\n",
       "      <td>float64</td>\n",
       "      <td>6772</td>\n",
       "      <td>49</td>\n",
       "      <td>0</td>\n",
       "      <td>0.0</td>\n",
       "    </tr>\n",
       "    <tr>\n",
       "      <th>Holiday</th>\n",
       "      <td>int32</td>\n",
       "      <td>6772</td>\n",
       "      <td>2</td>\n",
       "      <td>0</td>\n",
       "      <td>0.0</td>\n",
       "    </tr>\n",
       "    <tr>\n",
       "      <th>Weekday</th>\n",
       "      <td>int32</td>\n",
       "      <td>6772</td>\n",
       "      <td>2</td>\n",
       "      <td>0</td>\n",
       "      <td>0.0</td>\n",
       "    </tr>\n",
       "    <tr>\n",
       "      <th>Year</th>\n",
       "      <td>int64</td>\n",
       "      <td>6772</td>\n",
       "      <td>2</td>\n",
       "      <td>0</td>\n",
       "      <td>0.0</td>\n",
       "    </tr>\n",
       "    <tr>\n",
       "      <th>Hour_sin</th>\n",
       "      <td>float64</td>\n",
       "      <td>6772</td>\n",
       "      <td>21</td>\n",
       "      <td>0</td>\n",
       "      <td>0.0</td>\n",
       "    </tr>\n",
       "    <tr>\n",
       "      <th>Hour_cos</th>\n",
       "      <td>float64</td>\n",
       "      <td>6772</td>\n",
       "      <td>22</td>\n",
       "      <td>0</td>\n",
       "      <td>0.0</td>\n",
       "    </tr>\n",
       "    <tr>\n",
       "      <th>Month_sin</th>\n",
       "      <td>float64</td>\n",
       "      <td>6772</td>\n",
       "      <td>11</td>\n",
       "      <td>0</td>\n",
       "      <td>0.0</td>\n",
       "    </tr>\n",
       "    <tr>\n",
       "      <th>Month_cos</th>\n",
       "      <td>float64</td>\n",
       "      <td>6772</td>\n",
       "      <td>11</td>\n",
       "      <td>0</td>\n",
       "      <td>0.0</td>\n",
       "    </tr>\n",
       "    <tr>\n",
       "      <th>Dayofweek_sin</th>\n",
       "      <td>float64</td>\n",
       "      <td>6772</td>\n",
       "      <td>7</td>\n",
       "      <td>0</td>\n",
       "      <td>0.0</td>\n",
       "    </tr>\n",
       "    <tr>\n",
       "      <th>Dayofweek_cos</th>\n",
       "      <td>float64</td>\n",
       "      <td>6772</td>\n",
       "      <td>7</td>\n",
       "      <td>0</td>\n",
       "      <td>0.0</td>\n",
       "    </tr>\n",
       "    <tr>\n",
       "      <th>Day_sin</th>\n",
       "      <td>float64</td>\n",
       "      <td>6772</td>\n",
       "      <td>31</td>\n",
       "      <td>0</td>\n",
       "      <td>0.0</td>\n",
       "    </tr>\n",
       "    <tr>\n",
       "      <th>Day_cos</th>\n",
       "      <td>float64</td>\n",
       "      <td>6772</td>\n",
       "      <td>26</td>\n",
       "      <td>0</td>\n",
       "      <td>0.0</td>\n",
       "    </tr>\n",
       "    <tr>\n",
       "      <th>Season_sin</th>\n",
       "      <td>float64</td>\n",
       "      <td>6772</td>\n",
       "      <td>4</td>\n",
       "      <td>0</td>\n",
       "      <td>0.0</td>\n",
       "    </tr>\n",
       "    <tr>\n",
       "      <th>Season_cos</th>\n",
       "      <td>float64</td>\n",
       "      <td>6772</td>\n",
       "      <td>4</td>\n",
       "      <td>0</td>\n",
       "      <td>0.0</td>\n",
       "    </tr>\n",
       "  </tbody>\n",
       "</table>\n",
       "</div>"
      ],
      "text/plain": [
       "                        DataType  Non-null_Values  Unique_Values  NaN_Values  \\\n",
       "Temperature(°C)          float64             6772            542           0   \n",
       "Humidity(%)                int64             6772             90           0   \n",
       "Wind speed (m/s)         float64             6772             61           0   \n",
       "Visibility (10m)           int64             6772           1703           0   \n",
       "Solar Radiation (MJ/m2)  float64             6772            340           0   \n",
       "Rainfall(mm)             float64             6772             56           0   \n",
       "Snowfall (cm)            float64             6772             49           0   \n",
       "Holiday                    int32             6772              2           0   \n",
       "Weekday                    int32             6772              2           0   \n",
       "Year                       int64             6772              2           0   \n",
       "Hour_sin                 float64             6772             21           0   \n",
       "Hour_cos                 float64             6772             22           0   \n",
       "Month_sin                float64             6772             11           0   \n",
       "Month_cos                float64             6772             11           0   \n",
       "Dayofweek_sin            float64             6772              7           0   \n",
       "Dayofweek_cos            float64             6772              7           0   \n",
       "Day_sin                  float64             6772             31           0   \n",
       "Day_cos                  float64             6772             26           0   \n",
       "Season_sin               float64             6772              4           0   \n",
       "Season_cos               float64             6772              4           0   \n",
       "\n",
       "                         NaN_Values_Percentage  \n",
       "Temperature(°C)                            0.0  \n",
       "Humidity(%)                                0.0  \n",
       "Wind speed (m/s)                           0.0  \n",
       "Visibility (10m)                           0.0  \n",
       "Solar Radiation (MJ/m2)                    0.0  \n",
       "Rainfall(mm)                               0.0  \n",
       "Snowfall (cm)                              0.0  \n",
       "Holiday                                    0.0  \n",
       "Weekday                                    0.0  \n",
       "Year                                       0.0  \n",
       "Hour_sin                                   0.0  \n",
       "Hour_cos                                   0.0  \n",
       "Month_sin                                  0.0  \n",
       "Month_cos                                  0.0  \n",
       "Dayofweek_sin                              0.0  \n",
       "Dayofweek_cos                              0.0  \n",
       "Day_sin                                    0.0  \n",
       "Day_cos                                    0.0  \n",
       "Season_sin                                 0.0  \n",
       "Season_cos                                 0.0  "
      ]
     },
     "execution_count": 153,
     "metadata": {},
     "output_type": "execute_result"
    }
   ],
   "source": [
    "datainfo(X_train)"
   ]
  },
  {
   "cell_type": "code",
   "execution_count": 154,
   "metadata": {
    "id": "KclpuXuMU9mL"
   },
   "outputs": [],
   "source": [
    "X_scaler = preprocessing.StandardScaler()\n",
    "y_scaler = preprocessing.StandardScaler()\n",
    "\n",
    "cols_to_normalize = X_train.columns.tolist()\n",
    "\n",
    "X_train[cols_to_normalize] = X_scaler.fit_transform(X_train)\n",
    "y_train = y_scaler.fit_transform(np.array(y_train).reshape(-1, 1))\n",
    "\n",
    "X_test = X_scaler.transform(X_test)"
   ]
  },
  {
   "cell_type": "code",
   "execution_count": 155,
   "metadata": {},
   "outputs": [
    {
     "ename": "AttributeError",
     "evalue": "'numpy.ndarray' object has no attribute 'head'",
     "output_type": "error",
     "traceback": [
      "\u001b[1;31m---------------------------------------------------------------------------\u001b[0m",
      "\u001b[1;31mAttributeError\u001b[0m                            Traceback (most recent call last)",
      "Cell \u001b[1;32mIn[155], line 1\u001b[0m\n\u001b[1;32m----> 1\u001b[0m \u001b[43mX_test\u001b[49m\u001b[38;5;241;43m.\u001b[39;49m\u001b[43mhead\u001b[49m()\n",
      "\u001b[1;31mAttributeError\u001b[0m: 'numpy.ndarray' object has no attribute 'head'"
     ]
    }
   ],
   "source": [
    "X_test.head()"
   ]
  },
  {
   "cell_type": "markdown",
   "metadata": {
    "id": "tmtA_D3WBWnU"
   },
   "source": [
    "> d) Utilice LinearRegression para entrenar el regresor y posteriormente obtener predicciones utilizando el testset.\n",
    "\n",
    "d) `Respuesta`: Entrenando y obteniendo predicciones"
   ]
  },
  {
   "cell_type": "code",
   "execution_count": null,
   "metadata": {
    "id": "av26_PMxBFea"
   },
   "outputs": [],
   "source": [
    "reg = LinearRegression().fit(X_train, y_train)\n",
    "y_pred = reg.predict(X_test)"
   ]
  },
  {
   "cell_type": "markdown",
   "metadata": {
    "id": "GSMYcJftCxO3"
   },
   "source": [
    "> e) Obtenga la predicción del regresor ya entrenado sobre el conjunto de prueba, aplicando la transformación inversa para _volver a la escala original_ de bicicletas.\n",
    "\n",
    "e) `Respuesta`: Obteniendo la predicción"
   ]
  },
  {
   "cell_type": "code",
   "execution_count": null,
   "metadata": {
    "id": "ytHAjHNcBpKR"
   },
   "outputs": [],
   "source": [
    "y_pred = y_scaler.inverse_transform(y_pred)"
   ]
  },
  {
   "cell_type": "markdown",
   "metadata": {
    "id": "Npa8kFv3OOAI"
   },
   "source": [
    "> f) Calcule el error cuadrático medio en la escala original de bicicletas\n",
    "\n",
    "f) `Respuesta`: Calculando el error"
   ]
  },
  {
   "cell_type": "code",
   "execution_count": null,
   "metadata": {
    "id": "CCbijFJzOMUu",
    "scrolled": true
   },
   "outputs": [],
   "source": [
    "model_preprocess_error = mean_squared_error(y_test, y_pred)\n",
    "model_preprocess_error"
   ]
  },
  {
   "cell_type": "markdown",
   "metadata": {},
   "source": [
    "> g) ¿Mejoran los resultados con respecto al modelo entrenado sobre los datos en bruto?"
   ]
  },
  {
   "cell_type": "code",
   "execution_count": null,
   "metadata": {},
   "outputs": [],
   "source": [
    "improve_1 = (model_bruto_error-model_preprocess_error)/model_bruto_error\n",
    "print(\"g) Respuesta:\")\n",
    "if improve_1>0:\n",
    "    print(f\"Hubo mejora dado que el modelo bajo el error cuadratico medio en: {improve_1}% respecto al modelo anterior\")\n",
    "else:\n",
    "    print(f\"No hubo mejora considerando el error cuadratico medio, el error aumenta en: {-improve_1}% respecto al  modelo anterior\")"
   ]
  },
  {
   "cell_type": "markdown",
   "metadata": {
    "id": "FX70Cn26CmaE"
   },
   "source": [
    "> h) Grafique los resultados de la predicción (y_pred) versus los target de la prueba (y_test)\n",
    "\n",
    "h) `Respuesta`: Gráficando"
   ]
  },
  {
   "cell_type": "code",
   "execution_count": null,
   "metadata": {
    "id": "zbhcGM-nDYiP"
   },
   "outputs": [],
   "source": [
    "plt.scatter(y_test, y_pred, s=10)\n",
    "\n",
    "# Recta identidad\n",
    "x = [min(y_test), max(y_test)]\n",
    "plt.plot(x, x, color='r')\n",
    "\n",
    "# Configuraciones de eje y etiquetas\n",
    "plt.axis('equal')\n",
    "\n",
    "plt.xlabel('Test')\n",
    "plt.ylabel('Prediction')\n",
    "plt.title('Test vs Prediction')\n",
    "\n",
    "plt.show()"
   ]
  },
  {
   "cell_type": "markdown",
   "metadata": {
    "id": "HOEgddXyDft9"
   },
   "source": [
    "### 1.2.3 Modelo SGD"
   ]
  },
  {
   "cell_type": "markdown",
   "metadata": {
    "id": "kJ6O1hIgDjfg"
   },
   "source": [
    "En esta pregunta aplicaremos el modelo de regresión lineal utilizando el gradiente descendente estocástico (SGD), y para visualizar su rendimiento observaremos el error cuadrático medio a medida que el algoritmo SGD va iterando a través de las _epochs_. Para ello necesitamos separar una porción del conjunto de entrenamiento y así obtener el error de validación del modelo en ejemplos que no ha visto."
   ]
  },
  {
   "cell_type": "markdown",
   "metadata": {
    "id": "_Tbb4nm86cv2"
   },
   "source": [
    "> a) Separe el conjunto de entrenamiento en un subconjunto de entrenamiento y uno de validación.\n",
    "\n",
    "a) `Respuesta`: Separando el conjunto de entrenamiento en uno de entrenamiento y otro de validación utilizando train_test_split de forma conveniente:"
   ]
  },
  {
   "cell_type": "code",
   "execution_count": null,
   "metadata": {
    "id": "K1ZY46sgYBMN"
   },
   "outputs": [],
   "source": [
    "X_tr, X_val, y_tr, y_val = train_test_split(X_train, y_train, test_size=0.25)"
   ]
  },
  {
   "cell_type": "markdown",
   "metadata": {
    "id": "rzLZfYdR7sOM"
   },
   "source": [
    "Utilize la librería _sklearn_ para entrenar el modelo a través _SGDRegressor_ y responda las siguientes preguntas:\n",
    "\n",
    "> b) ¿Para qué sirve cada uno de los parametros que acepta _SGDRegressor_? Describa brevemente cada uno.\n",
    "\n",
    "b) `Respuesta`: https://scikit-learn.org/stable/modules/generated/sklearn.linear_model.SGDRegressor.html\n",
    "* **loss: str, default=’squared_error’.** Función de pérdida utilizada por el algoritmo para calcular el error entre las predicciones y los valores reales. Los valores permitidos son: 'squared_loss', 'huber', 'epsilon_insensitive' y 'squared_epsilon_insensitive'.\n",
    "\n",
    "* **penalty: {‘l2’, ‘l1’, ‘elasticnet’, None}, default=’l2’.** Tipo de regularización a aplicar. Los valores permitidos son: 'l2' (ridge), 'l1' (lasso), 'elasticnet' (combinación de ridge y lasso).\n",
    "\n",
    "* **alpha: float, default=0.0001.** Constante que multiplica el término de regularización.\n",
    "\n",
    "* **l1_ratio: float (0,1), default=0.15.** El parámetro de combinación de Elastic Net mixing. Solo se usa si 'penalty' == 'elasticnet'.\n",
    "\n",
    "* **fit_intercept: bool, default=True.** Si es que el intercepto debe ser estimado o no. Si no, se asume que la data ya está centrada.\n",
    "\n",
    "* **max_iter: int, default=1000.** Número máximo de iteraciones permitidas.\n",
    "\n",
    "* **tol: float or None, default=1e-3.** Tolerancia de convergencia. El algoritmo deja de iterar cuando la mejora de la función de pérdida es menor que tol.\n",
    "\n",
    "* **shuffle: bool, default=True.** Si es True, los datos de entrenamiento se barajan antes de cada iteración.\n",
    "\n",
    "* **verbose: int, default=0.** Si es mayor que 0, se muestra información sobre el progreso del entrenamiento.\n",
    "\n",
    "* **epsilon: float, default=0.1.** Límite de sensibilidad para la función de pérdida 'huber', 'epsilon_insensitive' y 'squared_epsilon_insensitive'\n",
    "\n",
    "* **random_state: int, RandomState instance, default=None.** Semilla aleatoria para la generación de números aleatorios.\n",
    "\n",
    "* **learning_rate: str, default=’invscaling’.** Esquema de tasa de aprendizaje. Los valores permitidos son: 'constant', 'optimal', 'invscaling' y 'adaptive'.\n",
    "\n",
    "* **eta0**: Tasa de aprendizaje inicial.\n",
    "\n",
    "* **power_t: float, default=0.25.** Exponente para 'learning_rate' == 'invscaling'.\n",
    "\n",
    "* **early_stopping: bool, default=False.** Detiene el entrenamiento antes de que el modelo alcance la convergencia si no hay mejora en la función de pérdida en un número determinado de iteraciones.\n",
    "\n",
    "* **validation_fraction: float (0,1), default=0.1.** Proporción del training set para tomar como validation set para el early_stopping. Solo se usa si \"early_stopping\" == 'True'.\n",
    "\n",
    "* **n_iter_no_change: int, default=5.** Número de iteraciones sin mejora a esperar antes del early stopping.\n",
    "\n",
    "* **warm_start: bool, default=False.** Permite continuar entrenando el modelo desde donde se quedó en la última llamada a fit(), en lugar de empezar desde cero en cada iteración. Esto puede ser útil para mejorar la eficiencia del proceso de entrenamiento y mejorar la convergencia del modelo.\n",
    "\n",
    "* **average: bool or int, default=False.** Indica si se debe calcular el promedio de los gradientes de cada iteración para actualizar los coeficientes del modelo. Si está establecido en True, se promedian los gradientes y se actualizan los coeficientes después de cada epoch, lo que puede mejorar la estabilidad del modelo.\n",
    "\n",
    "> c) Explique cuál es la función del parámetro alpha y compare, teóricamente, las variaciones de implementación del parámetro disponibles en el módulo, es decir, compare: _constant_ vs _optimal_ vs _invscaling_ vs _adaptive_.\n",
    "\n",
    "c) `Respuesta`: Un valor más alto de alpha resulta en una mayor regularización, lo que ayuda a prevenir el sobreajuste, pero también puede llevar a un sesgo elevado. Por otro lado, un valor más bajo de alpha resulta en una menor regularización y puede permitir un ajuste más preciso, pero también aumenta el riesgo de sobreajuste. \n",
    "\n",
    "* **\"constant\":** El valor de alpha se mantiene constante en todo el proceso de entrenamiento.\n",
    "* **\"optimal\":** Se calcula automáticamente el valor óptimo de alpha para minimizar la función de pérdida, utilizando una fórmula empírica basada en la magnitud de los datos de entrenamiento.\n",
    "* **\"invscaling\":** El valor de alpha disminuye gradualmente a medida que se realizan más iteraciones, según una función inversamente proporcional a la raíz cuadrada del número de iteraciones.\n",
    "* **\"adaptive\":** El valor de alpha se ajusta automáticamente en función de la magnitud de las últimas iteraciones. Si la pérdida no disminuye durante un número determinado de iteraciones, se reduce el valor de alpha para reducir la velocidad de aprendizaje.\n",
    "\n",
    "En general, la elección de la variante de alpha depende del problema y del conjunto de datos específicos. El valor \"optimal\" puede funcionar bien para conjuntos de datos pequeños, mientras que \"adaptive\" puede ser más útil para conjuntos de datos grandes y complejos. \"Invscaling\" puede ser útil para acelerar la convergencia al principio del entrenamiento, mientras que \"constant\" puede ser útil si se desea un control completo sobre el valor de alpha.\n",
    "\n",
    "Se agrega que utilizando \"constant\" es posible que no haya convergencia debido a que el estimador puede oscilar en torno a la solución sin alcanzar ningún criterio de convergencia."
   ]
  },
  {
   "cell_type": "markdown",
   "metadata": {
    "id": "XAdSvmSeANcK"
   },
   "source": [
    "Entrene el regresor SGD por 100 _epochs_ como máximo, utilizando *early_stoping* con una paciencia de 10 _epochs_. Grafique el error cuadrático medio por epoca y responda las siguientes preguntas:\n",
    "\n",
    "> d) ¿Para qué sirve el *early_stoping*?\n",
    "\n",
    "d) `Respuesta`: Sirve para detener el modelo en caso de que no haya una mejore en el error cuadratico, es decir, que despues de 10 _epochs_ no haya una bajada en el error.\n",
    "\n",
    "> e) ¿Cómo se interpretan los resultados del entrenamiento según las curvas obtenidas?\n",
    "\n",
    "    \n",
    "\n",
    "> f) ¿Cuántas _epochs_ duró su entrenamiento?"
   ]
  },
  {
   "cell_type": "code",
   "execution_count": null,
   "metadata": {
    "colab": {
     "base_uri": "https://localhost:8080/"
    },
    "id": "91VOi7s8LA3t",
    "outputId": "a9ceb7b5-58a2-47af-93e9-40c061e7ce35",
    "scrolled": true
   },
   "outputs": [],
   "source": [
    "reg = SGDRegressor(loss='squared_error', \n",
    "                   penalty=None,                    \n",
    "                   tol=0.001, \n",
    "                   shuffle=True,                                                        \n",
    "                   warm_start=True,\n",
    "                   #verbose=1,\n",
    "                   )\n",
    "\n",
    "y_tr = np.asarray(y_tr).ravel()\n",
    "y_test = np.asarray(y_test).ravel()\n",
    "\n",
    "tr_errors, val_errors = [], []\n",
    "\n",
    "# train the model using early stopping\n",
    "n_epochs = 100\n",
    "best_val_error = float('inf')\n",
    "patience = 10  # stop tring if validation error doesn't improve after 10 epochs\n",
    "epoch_since_best = 0\n",
    "for epoch in range(n_epochs):\n",
    "    \n",
    "    reg.partial_fit(X_tr, y_tr)\n",
    "    \n",
    "    # collect the train and validation errors after each epoch\n",
    "    y_tr_pred = reg.predict(X_tr)\n",
    "    y_val_pred = reg.predict(X_val)\n",
    "    tr_error = mean_squared_error(y_tr, y_tr_pred)\n",
    "    val_error = mean_squared_error(y_val, y_val_pred)\n",
    "    tr_errors.append(tr_error)\n",
    "    val_errors.append(val_error)\n",
    "    \n",
    "    # check if validation error has improved\n",
    "    if val_error < best_val_error:\n",
    "        best_val_error = val_error\n",
    "        epoch_since_best = 0\n",
    "    else:\n",
    "        epoch_since_best += 1\n",
    "        if epoch_since_best >= patience:\n",
    "            print(f\"Stopping training after {epoch+1} epochs\")\n",
    "            break    "
   ]
  },
  {
   "cell_type": "code",
   "execution_count": null,
   "metadata": {
    "id": "iH4VXigCOd75"
   },
   "outputs": [],
   "source": [
    "plt.plot(tr_errors, label='train error')\n",
    "plt.plot(val_errors, label='validation error')\n",
    "plt.legend()\n",
    "plt.show()"
   ]
  },
  {
   "cell_type": "markdown",
   "metadata": {},
   "source": [
    "e) `Respuesta`: Dada la aleatoriedad proveniente de utilizar SGD, existen casos donde la curva del error de validación queda por encima de la curva del error de entrenamiento y visceversa, también varía constantemente el número de epoch siendo un algoritmo poco estable en este sentido. Debido a que se espera que el error de entrenamiento sea menor al error de validación, se intuye que se deben realizar más iteraciones o aumentar la paciencia del modelo para lograr un ajuste deseado, esperando que este si disminuya el error en el conjunto de validación de manera más constante.\n",
    "\n",
    "Ademas se observa que una vez el error de validación alcanza un mínimo, se sigue iterando hasta que luego de 10 epoch no hayan mejoras, siendo el modelo final el entregado en la última iteración.\n",
    "\n",
    "f) `Respuesta`: El número de Epoch puede variar según se corra el código."
   ]
  },
  {
   "cell_type": "markdown",
   "metadata": {
    "id": "gSlESNsjFI3a"
   },
   "source": [
    "> g) Obtenga la predicción del regresor ya entrenado sobre el conjunto de prueba, aplicando la transformación inversa para _volver a la escala original_ de bicicletas."
   ]
  },
  {
   "cell_type": "code",
   "execution_count": null,
   "metadata": {},
   "outputs": [],
   "source": [
    "y_pred = reg.predict(X_test).reshape(-1, 1)"
   ]
  },
  {
   "cell_type": "code",
   "execution_count": null,
   "metadata": {
    "id": "5YER8G3EI8uK"
   },
   "outputs": [],
   "source": [
    "y_pred = y_scaler.inverse_transform(y_pred)"
   ]
  },
  {
   "cell_type": "markdown",
   "metadata": {},
   "source": [
    "g) `Respuesta`:"
   ]
  },
  {
   "cell_type": "code",
   "execution_count": null,
   "metadata": {
    "scrolled": true
   },
   "outputs": [],
   "source": [
    "y_pred"
   ]
  },
  {
   "cell_type": "markdown",
   "metadata": {
    "id": "y_DaYKo7SE9v"
   },
   "source": [
    "> h) Calcule el error cuadrático medio en la escala original de bicicletas"
   ]
  },
  {
   "cell_type": "markdown",
   "metadata": {},
   "source": [
    "h) `Respuesta`:"
   ]
  },
  {
   "cell_type": "code",
   "execution_count": null,
   "metadata": {
    "id": "Z2D6yXCORWrB"
   },
   "outputs": [],
   "source": [
    "model_SGD_preprocess_error = mean_squared_error(y_test, y_pred)\n",
    "model_SGD_preprocess_error"
   ]
  },
  {
   "cell_type": "markdown",
   "metadata": {
    "id": "uS21beTzST-k"
   },
   "source": [
    "> i) ¿Mejoran los resultados con respecto al modelo anterior?"
   ]
  },
  {
   "cell_type": "code",
   "execution_count": null,
   "metadata": {},
   "outputs": [],
   "source": [
    "improve_2 = (model_preprocess_error-model_SGD_preprocess_error)/model_preprocess_error\n",
    "print(\"i) Respuesta:\")\n",
    "if improve_2>0:\n",
    "    print(f\"Hubo mejora dado que el modelo bajó el error cuadratico medio en: {improve_2}% respecto al modelo anterior\")\n",
    "else:\n",
    "    print(f\"No hubo mejora considerando el error cuadratico medio, el error aumenta en: {-improve_2}% respecto al  modelo anterior\")"
   ]
  },
  {
   "cell_type": "markdown",
   "metadata": {},
   "source": [
    "> j) Grafique los resultados de la predicción (y_pred) versus los target de la prueba (y_test)"
   ]
  },
  {
   "cell_type": "code",
   "execution_count": null,
   "metadata": {
    "id": "lni-dzFsasoO",
    "scrolled": true
   },
   "outputs": [],
   "source": [
    "plt.scatter(y_test, y_pred, s=10)\n",
    "\n",
    "# Recta identidad\n",
    "x = [min(y_test), max(y_test)]\n",
    "plt.plot(x, x, color='r')\n",
    "\n",
    "# Configuraciones de eje y etiquetas\n",
    "plt.axis('equal')\n",
    "\n",
    "plt.xlabel('Test')\n",
    "plt.ylabel('Prediction')\n",
    "plt.title('Test vs Prediction')\n",
    "\n",
    "plt.show()"
   ]
  },
  {
   "cell_type": "code",
   "execution_count": null,
   "metadata": {},
   "outputs": [],
   "source": [
    "reg = SGDRegressor(loss='squared_error', \n",
    "                   penalty=None,                    \n",
    "                   tol=0.001, \n",
    "                   shuffle=True,                                                        \n",
    "                   warm_start=True,\n",
    "                   early_stopping=True,\n",
    "                   max_iter=100,\n",
    "                   n_iter_no_change=10\n",
    "                   #verbose=1,\n",
    "                   )\n",
    "\n",
    "reg.fit(X_tr, y_tr)\n",
    "y_pred = reg.predict(X_test).reshape(-1, 1)\n",
    "y_pred = y_scaler.inverse_transform(y_pred)\n",
    "\n",
    "model_SGD_preprocess_error = mean_squared_error(y_test, y_pred)\n",
    "\n",
    "improve_2 = (model_preprocess_error-model_SGD_preprocess_error)/model_preprocess_error\n",
    "print(\"i) Respuesta:\")\n",
    "if improve_2>0:\n",
    "    print(f\"Hubo mejora dado que el modelo bajó el error cuadratico medio en: {improve_2}% respecto al modelo anterior\")\n",
    "else:\n",
    "    print(f\"No hubo mejora considerando el error cuadratico medio, el error aumenta en: {-improve_2}% respecto al  modelo anterior\")"
   ]
  },
  {
   "cell_type": "markdown",
   "metadata": {},
   "source": [
    "### 1.2.4 Análisis extendido y comprimido"
   ]
  },
  {
   "cell_type": "markdown",
   "metadata": {},
   "source": [
    "Para buscar explorar otras opciones y hallar un error promedio que permita ver si realmente al cambiar de modelo existe una mejora o una bajada en el rendimiento al menos el promedio se realizará el mismo análisis anterior pero de forma más compacta."
   ]
  },
  {
   "cell_type": "markdown",
   "metadata": {},
   "source": [
    "**Creating data**"
   ]
  },
  {
   "cell_type": "code",
   "execution_count": null,
   "metadata": {},
   "outputs": [],
   "source": [
    "data = data_original.copy()\n",
    "\n",
    "data['Date'] = pd.to_datetime(data_original['Date'], format='%d/%m/%Y')\n",
    "\n",
    "# Agregar una columna que indica si la fecha corresponde a un día de la semana o un fin de semana\n",
    "data['Weekday'] = data['Date'].dt.weekday.apply(lambda x: 'Weekday' if x < 5 else 'No Weekday')\n",
    "\n",
    "data['Year'] = data['Date'].dt.year\n",
    "data['Month'] = data['Date'].dt.month\n",
    "data['Dayofweek'] = data['Date'].dt.dayofweek  # 5 y 6 son weekend\n",
    "\n",
    "data.drop('Date', axis=1, inplace=True)\n",
    "\n",
    "# Eliminar \"Dew point temperature(°C)\"\n",
    "data.drop(columns=['Dew point temperature(°C)'], inplace=True) \n",
    "\n",
    "X=data.drop('Rented Bike Count',axis=1)\n",
    "y=data['Rented Bike Count']"
   ]
  },
  {
   "cell_type": "markdown",
   "metadata": {},
   "source": [
    "*Functions to compress code*"
   ]
  },
  {
   "cell_type": "code",
   "execution_count": null,
   "metadata": {},
   "outputs": [],
   "source": [
    "def Modelo_en_bruto(X, y):\n",
    "    X_train, X_test, y_train, y_test = train_test_split(X, y, test_size=0.2)\n",
    "\n",
    "    le = preprocessing.LabelEncoder()\n",
    "\n",
    "    # Applying Label Enconder over categoric variables\n",
    "\n",
    "    # For x, we expect to keep the order of Seasons.\n",
    "    le.fit(X_train[\"Seasons\"])\n",
    "    le.classes_ = np.array(['Summer', 'Autumn', 'Winter', 'Spring'], dtype=object)\n",
    "    X_train[\"Seasons\"] = le.transform(X_train[\"Seasons\"])\n",
    "    X_test[\"Seasons\"] = le.transform(X_test[\"Seasons\"])\n",
    "\n",
    "    X_train[\"Holiday\"] = le.fit_transform(X_train[\"Holiday\"])\n",
    "    X_test[\"Holiday\"] = le.transform(X_test[\"Holiday\"])\n",
    "\n",
    "    X_train[\"Weekday\"] = le.fit_transform(X_train[\"Weekday\"])\n",
    "    X_test[\"Weekday\"] = le.transform(X_test[\"Weekday\"])\n",
    "\n",
    "    X_train[\"Functioning Day\"] = le.fit_transform(X_train[\"Functioning Day\"])\n",
    "    X_test[\"Functioning Day\"] = le.transform(X_test[\"Functioning Day\"])\n",
    "    return X_train, X_test, y_train, y_test\n",
    "\n",
    "def Modelo_preprocesado(X_train, X_test, y_train, y_test):\n",
    "    X_train['Hour_sin'] = np.sin(2 * np.pi * X_train['Hour'] / 24)\n",
    "    X_train['Hour_cos'] = np.cos(2 * np.pi * X_train['Hour'] / 24)\n",
    "    X_train['Month_sin'] = np.sin(2 * np.pi * X_train['Month'] / 12)\n",
    "    X_train['Month_cos'] = np.cos(2 * np.pi * X_train['Month'] / 12)\n",
    "    X_train['Dayofweek_sin'] = np.sin(2 * np.pi * X_train['Dayofweek'] / 7)\n",
    "    X_train['Dayofweek_cos'] = np.cos(2 * np.pi * X_train['Dayofweek'] / 7)\n",
    "\n",
    "    X_test['Hour_sin'] = np.sin(2 * np.pi * X_test['Hour'] / 24)\n",
    "    X_test['Hour_cos'] = np.cos(2 * np.pi * X_test['Hour'] / 24)\n",
    "    X_test['Month_sin'] = np.sin(2 * np.pi * X_test['Month'] / 12)\n",
    "    X_test['Month_cos'] = np.cos(2 * np.pi * X_test['Month'] / 12)\n",
    "    X_test['Dayofweek_sin'] = np.sin(2 * np.pi * X_test['Dayofweek'] / 7)\n",
    "    X_test['Dayofweek_cos'] = np.cos(2 * np.pi * X_test['Dayofweek'] / 7)\n",
    "\n",
    "    X_train.drop(['Month', 'Hour', 'Dayofweek'], axis=1, inplace=True)\n",
    "    X_test.drop(['Month', 'Hour', 'Dayofweek'], axis=1, inplace=True)\n",
    "    \n",
    "    X_train['Season_sin'] = np.sin(2 * np.pi * X_train['Seasons'] / 4) \n",
    "    X_train['Season_cos'] = np.cos(2 * np.pi * X_train['Seasons'] / 4)\n",
    "    X_train.drop('Seasons', axis=1, inplace=True)\n",
    "\n",
    "    X_test['Season_sin'] = np.sin(2 * np.pi * X_test['Seasons'] / 4) \n",
    "    X_test['Season_cos'] = np.cos(2 * np.pi * X_test['Seasons'] / 4) \n",
    "    X_test.drop('Seasons', axis=1, inplace=True)\n",
    "    \n",
    "    X_scaler = preprocessing.StandardScaler()\n",
    "    y_scaler = preprocessing.StandardScaler()\n",
    "\n",
    "\n",
    "    cols_to_normalize = X_train.columns.tolist()\n",
    "\n",
    "    X_train[cols_to_normalize] = X_scaler.fit_transform(X_train[cols_to_normalize])\n",
    "    y_train = y_scaler.fit_transform(np.array(y_train).reshape(-1, 1))\n",
    "\n",
    "    X_test[cols_to_normalize] = X_scaler.transform(X_test[cols_to_normalize])\n",
    "    return X_train, X_test, y_train, y_test\n",
    "\n",
    "def Modelo_SGD(X_train, y_train, X_test, y_test):\n",
    "    reg = SGDRegressor(loss='squared_error', \n",
    "                   penalty=None,                    \n",
    "                   tol=0.001, \n",
    "                   shuffle=True,\n",
    "                   max_iter=100, # Epoch \n",
    "                   early_stopping = True, # Default False\n",
    "                   n_iter_no_change=10, # Patience                                                  \n",
    "                   warm_start=True,\n",
    "                   average=True,\n",
    "                   #verbose=1\n",
    "                   )\n",
    "    reg.fit(X_train, np.asarray(y_train).ravel())\n",
    "    y_pred = y_scaler.inverse_transform(reg.predict(X_test).reshape(-1, 1))\n",
    "    model_SGD_preprocess_error = mean_squared_error(np.asarray(y_test).ravel(), y_pred)\n",
    "    return model_SGD_preprocess_error"
   ]
  },
  {
   "cell_type": "code",
   "execution_count": null,
   "metadata": {},
   "outputs": [],
   "source": [
    "k = 100 # Number to ponderate\n",
    "\n",
    "error_bruto = 0\n",
    "error_preprocesado = 0\n",
    "error_SGD = 0\n",
    "\n",
    "for i in range(k):\n",
    "    # Modelo en bruto\n",
    "    X_train, X_test, y_train, y_test = Modelo_en_bruto(X, y)\n",
    "    reg = LinearRegression().fit(X_train, y_train)\n",
    "    y_pred = reg.predict(X_test)\n",
    "    error_bruto += mean_squared_error(y_test, y_pred)\n",
    "    \n",
    "    # Modelo preprocesado\n",
    "    X_train, X_test, y_train, y_test = Modelo_preprocesado(X_train, X_test, y_train, y_test)\n",
    "    reg = LinearRegression().fit(X_train, y_train)\n",
    "    y_pred = y_scaler.inverse_transform(reg.predict(X_test))\n",
    "    error_preprocesado += mean_squared_error(y_test, y_pred)\n",
    "    \n",
    "    # Modelo SGD\n",
    "    error_SGD += Modelo_SGD(X_train, y_train, X_test, y_test)\n",
    "    \n",
    "# Ponderacion errores    \n",
    "error_bruto /= k\n",
    "error_preprocesado /= k\n",
    "error_SGD /= k\n",
    "\n",
    "print(f\"Error bruto ponderado: {error_bruto}\",\n",
    "      f\"\\nError preprocesado ponderado: {error_preprocesado}\",\n",
    "      f\"\\nError SGD ponderado: {error_SGD}\")"
   ]
  },
  {
   "cell_type": "markdown",
   "metadata": {},
   "source": [
    "Se observa que con cada modelo el error ponderado aumenta a medida se cambia el modelo."
   ]
  },
  {
   "cell_type": "markdown",
   "metadata": {
    "id": "yJCL43JRfk4J"
   },
   "source": [
    "## 1.3 Modelo con Regularización"
   ]
  },
  {
   "cell_type": "markdown",
   "metadata": {
    "id": "eoQTe0vNHmrK"
   },
   "source": [
    "### 1.3.1 Regularización Ridge y Lasso"
   ]
  },
  {
   "cell_type": "markdown",
   "metadata": {
    "id": "6MWQDDF-Hyzk"
   },
   "source": [
    "Agregue regularización Ridge al modelo SGD y entrénelo por 100 _epochs_ como máximo, utilizando early_stoping con un a paciencia de 10 _epochs_. Grafique el error cuadrático medio por _epoch_ y responda las siguientes preguntas:\n",
    "\n",
    "> a) ¿Qué son los llamados _hiperparámetros_ de un modelo y como se relacionan con el concepto de _hyper tuning_?\n",
    "\n",
    "a) `Respuesta`: Los _hiperparámetros_ de un modelo son los parámetros propios de la forma del modelo que se deben ajustar mediante el proceso denominado _hyper tuning_, utilizando un ejemplo, _hiperparámetros_ pueden ser el tipo de penalización utilizada o el _learning rate_ asociado. Estos pueden ser seleccionados mediante técnicas como _K fold cross validation_ en la cual se prueban distintas combinaciones de _hiperparámetros_ y se selecciona la mejor según algún criterio.\n",
    "\n",
    "> b) ¿Cuál es la motivación de agregar una penalización al modelo?\n",
    "\n",
    "b) `Respuesta`: La motivación para agregar una penalización al modelo proviene de que esta sirve para reducir el riesgo de _overfitting_ en un modelo, con llevando un riesgo en el aumento del sesgo, por lo cual no siempre es buena idea introducir una penalización, para evaluar si se debe utilizar y cual, se evaluan en el proceso de _hyper tuning_.\n",
    "\n",
    "> c) ¿De qué se compone la penalización mediante regularización Ridge?\n",
    "\n",
    "c) `Respuesta`: Se compone de sumar una penalización al vector de parámetros de tipo $L^2$ lo cual al igual que la regularización Lasso induce un sesgo en el modelo a favor de reducir la complejidad buscando mejorar su capacidad de generalización...\n",
    "\n",
    "> d) ¿Cómo funciona la regularización Lasso?\n",
    "\n",
    "d) `Respuesta`: Añade una penalización utilizando la norma $L^1$ generando un problema de optimización con reestricciones que no posee solución explicita y que se debe resolver con Solver. Este funciona mediante reestringir el espacio posible de selección de parámetros y por su forma ocaciona que algunos coeficientes de ciertas variables se vuelvan 0 disminuyendo la complejidad y por ende el overfitting.. \n",
    "\n",
    "> e) ¿Cuáles son las ventajas y desventajas de usar regularización Ridge versus Lasso?\n",
    "\n",
    "e) `Respuesta`: Una ventaja de la regresión Ridge, es que el vector de parametros optimo tiene formula explicita, lo que no se tiene para la regresión Lasso. Una ventaja de la regresión Lasso, es que al optimizar usualmente algunos coeficientes toman valor 0, lo cual puede ser útil para descartar features.\n",
    "\n",
    "Una desventaja común de la regularización L2 es que puede no ser efectiva en la selección de características importantes cuando hay muchas características irrelevantes en el conjunto de datos. Por otro lado, una desventaja de la regularización L1 es que puede ser más sensible a los valores atípicos (outliers) que la regularización L2.\n",
    "\n",
    "> f) Utilizando GridSearchCV optimize el hiperparámetro _learning rate_ para los valores 0.1, 0.01, 0.001.\n",
    "\n",
    "f) `Respuesta`: Se presenta el desarrollo mediante código.\n",
    "\n",
    "> g) Pruebe con distintos tipos de _learning rate_ 'constant', 'optimal', 'invscaling'.\n",
    "\n",
    "g) `Respuesta`: Se realiza en el código.\n",
    "\n",
    "> h) Optimize también los hiperparámetros de coeficiente de regularización de l2 y l1 para los valores 0.0001, 0.001, 0.01.\n",
    "\n",
    "h) `Respuesta`: Se realiza en el código.\n",
    "\n",
    "> **Nota:** Investigue y lea la documentación de SGDRegressor, de KFold y de GridSearchCV antes de modificar y ejecutar el código, recuerde que el código presentado en el notebook es solo una guía de referencia y no necesariamente funciona, usted puede modificar su propio código y explicar su funcionamiento."
   ]
  },
  {
   "cell_type": "markdown",
   "metadata": {},
   "source": [
    "Procesando la data nuevamente:"
   ]
  },
  {
   "cell_type": "code",
   "execution_count": null,
   "metadata": {},
   "outputs": [],
   "source": [
    "data = data_original.copy()\n",
    "\n",
    "data['Date'] = pd.to_datetime(data_original['Date'], format='%d/%m/%Y')\n",
    "\n",
    "# Agregar una columna que indica si la fecha corresponde a un día de la semana o un fin de semana\n",
    "data['Weekday'] = data['Date'].dt.weekday.apply(lambda x: 'Weekday' if x < 5 else 'No Weekday')\n",
    "\n",
    "data['Year'] = data['Date'].dt.year\n",
    "data['Month'] = data['Date'].dt.month\n",
    "data['Dayofweek'] = data['Date'].dt.dayofweek  # 5 y 6 son weekend\n",
    "\n",
    "data.drop('Date', axis=1, inplace=True)\n",
    "\n",
    "# Eliminar \"Dew point temperature(°C)\"\n",
    "data.drop(columns=['Dew point temperature(°C)'], inplace=True) \n",
    "\n",
    "X=data.drop('Rented Bike Count',axis=1)\n",
    "y=data['Rented Bike Count']\n",
    "\n",
    "X_train, X_test, y_train, y_test = Modelo_en_bruto(X, y)\n",
    "X_train, X_test, y_train, y_test = Modelo_preprocesado(X_train, X_test, y_train, y_test)"
   ]
  },
  {
   "cell_type": "code",
   "execution_count": null,
   "metadata": {
    "id": "rUBYCI0jL6Tz"
   },
   "outputs": [],
   "source": [
    "k=5\n",
    "cv_folds=KFold(n_splits=k, shuffle=True)"
   ]
  },
  {
   "cell_type": "code",
   "execution_count": null,
   "metadata": {
    "id": "4imROnlXdZhJ"
   },
   "outputs": [],
   "source": [
    "reg = SGDRegressor(loss='squared_error', \n",
    "                   #penalty='l2', # regularization therm ridge\n",
    "                   #alpha=0.0001, # regularization coeficient\n",
    "                   max_iter=100, #epochs\n",
    "                   early_stopping = True, # Default False\n",
    "                   n_iter_no_change=10, # Patience\n",
    "                   tol=0.001, \n",
    "                   shuffle=True,                                       \n",
    "                   #learning_rate='invscaling', # type of lr\n",
    "                   #eta0=0.01,    # learning rate coeficient\n",
    "                   power_t=0.25\n",
    "                   )"
   ]
  },
  {
   "cell_type": "code",
   "execution_count": null,
   "metadata": {
    "id": "L_nzYGAWZGWV"
   },
   "outputs": [],
   "source": [
    "param_grid = {'eta0': [0.1, 0.01, 0.001], # Respuesta f) \n",
    "              'penalty': ['l2', 'l1'], # Respuesta h)\n",
    "              'alpha': [0.0001, 0.001, 0.01], # Respuesta h)            \n",
    "              'learning_rate': ['constant', 'optimal', 'invscaling']} # Respuesta g) \n",
    "\n",
    "hypereg = GridSearchCV(reg, \n",
    "             param_grid, \n",
    "             scoring='neg_mean_squared_error',               \n",
    "             refit=True, \n",
    "             cv=cv_folds, \n",
    "             verbose=0, \n",
    "            )"
   ]
  },
  {
   "cell_type": "code",
   "execution_count": null,
   "metadata": {
    "id": "ddSWyyWGgb79"
   },
   "outputs": [],
   "source": [
    "hypereg.fit(X_train, np.asarray(y_train).ravel())"
   ]
  },
  {
   "cell_type": "markdown",
   "metadata": {
    "id": "8DDTqsCeTYCs"
   },
   "source": [
    "> i) Obtenga los resultados para cada hiperparámetro de la grilla."
   ]
  },
  {
   "cell_type": "code",
   "execution_count": null,
   "metadata": {
    "id": "GVw4SnJQTYUN"
   },
   "outputs": [],
   "source": [
    "pd.DataFrame(hypereg.cv_results_).sort_values(['rank_test_score'])"
   ]
  },
  {
   "cell_type": "code",
   "execution_count": null,
   "metadata": {},
   "outputs": [],
   "source": [
    "best_params = hypereg.cv_results_['params'][hypereg.cv_results_['rank_test_score'][0]]\n",
    "best_params"
   ]
  },
  {
   "cell_type": "code",
   "execution_count": null,
   "metadata": {},
   "outputs": [],
   "source": [
    "print(f\"Respuesta f): El valor optimizado para _eta0_ es: {best_params['eta0']}\")\n",
    "print(f\"Respuesta g): Learning rate seleccionado: {best_params['learning_rate']}\")\n",
    "print(f\"Respuesta h): Regularización seleccionada {best_params['penalty']} con factor alpha={best_params['alpha']}\")"
   ]
  },
  {
   "cell_type": "markdown",
   "metadata": {
    "id": "aPKiSNTBYXot"
   },
   "source": [
    "> j) Obtenga la predicción del regresor ya entrenado sobre el conjunto de prueba, aplicando la transformación inversa para _volver a la escala original_ de bicicletas."
   ]
  },
  {
   "cell_type": "code",
   "execution_count": null,
   "metadata": {
    "id": "uShQGyHHYX1-"
   },
   "outputs": [],
   "source": [
    "y_pred = hypereg.predict(X_test).reshape(-1, 1)\n",
    "\n",
    "y_pred = y_scaler.inverse_transform(y_pred)"
   ]
  },
  {
   "cell_type": "markdown",
   "metadata": {
    "id": "usk2GDO-Tsmy"
   },
   "source": [
    "> k) Calcule el error cuadrático medio en la escala original de bicicletas"
   ]
  },
  {
   "cell_type": "code",
   "execution_count": null,
   "metadata": {
    "id": "N8H1CN0oTsxG"
   },
   "outputs": [],
   "source": [
    "model_Regularization_error = mean_squared_error(y_test, y_pred)\n",
    "model_Regularization_error"
   ]
  },
  {
   "cell_type": "markdown",
   "metadata": {
    "id": "lKdGZ5slT59v"
   },
   "source": [
    "> l) ¿Mejoran los resultados con respecto a los modelo anteriores?"
   ]
  },
  {
   "cell_type": "code",
   "execution_count": null,
   "metadata": {},
   "outputs": [],
   "source": [
    "improve_3 = (model_SGD_preprocess_error-model_Regularization_error)/model_SGD_preprocess_error\n",
    "print(\"l) Respuesta:\")\n",
    "if improve_3>0:\n",
    "    print(f\"Hubo mejora dado que el modelo bajó el error cuadratico medio en: {improve_3}% respecto al modelo anterior\")\n",
    "else:\n",
    "    print(f\"No hubo mejora considerando el error cuadratico medio, el error aumenta en: {improve_3}% respecto al  modelo anterior\")"
   ]
  },
  {
   "cell_type": "markdown",
   "metadata": {},
   "source": [
    "> m) Grafique los resultados de la predicción (y_pred) versus los target de la prueba (y_test)"
   ]
  },
  {
   "cell_type": "code",
   "execution_count": null,
   "metadata": {
    "id": "00mlzpdCT8lb"
   },
   "outputs": [],
   "source": [
    "plt.scatter(y_test, y_pred, s=10)\n",
    "\n",
    "# Recta identidad\n",
    "x = [min(y_test), max(y_test)]\n",
    "plt.plot(x, x, color='r')\n",
    "\n",
    "# Configuraciones de eje y etiquetas\n",
    "plt.axis('equal')\n",
    "\n",
    "plt.xlabel('Test')\n",
    "plt.ylabel('Prediction')\n",
    "plt.title('Test vs Prediction')\n",
    "\n",
    "plt.show()"
   ]
  },
  {
   "cell_type": "markdown",
   "metadata": {
    "id": "8Y6DNuw9qDQS"
   },
   "source": [
    "## 1.4 Conclusiones:\n",
    "\n",
    "(Escriba aquí sus conclusiones de la pregunta 1: Regresión lineal para la predicción de la demanda de bicicletas compartidas en Seúl)"
   ]
  },
  {
   "cell_type": "markdown",
   "metadata": {
    "id": "FMBCbHCN5r7S"
   },
   "source": [
    "# 2. Clasificación de hongos\n",
    "\n"
   ]
  },
  {
   "cell_type": "markdown",
   "metadata": {
    "id": "UZbj_ChKFwXo"
   },
   "source": [
    "\n",
    "\n",
    "La tarea de clasificación se refiere a un problema en el que se tiene un conjunto de datos y se quiere predecir la clase a la que pertenece cada elemento del conjunto de datos.\n",
    "\n",
    "Para hacer esto, utilizaríamos un algoritmo de clasificación que examina las características de cada fruta en el conjunto de datos y aprende patrones que pueden ser utilizados para predecir su clase.\n",
    "\n",
    "Hay muchos algoritmos de clasificación diferentes que se pueden utilizar en el aprendizaje automático, por ejemplo la regresión logística, el SVM (máquina de soporte vectorial), Random Forest y redes neuronales, etcétera.\n",
    "\n",
    "Una vez que se entrena el modelo, se utiliza para predecir la clase de nuevos datos que no se incluyeron en el conjunto de datos original. Para medir el desempeño del modelo, se pueden utilizar diferentes métricas de evaluación, como la precisión, el recall y la F1-score.\n",
    "\n",
    "La tarea de clasificación es muy útil en muchas áreas, como la medicina, la banca, el comercio electrónico y la publicidad, ya que permite la automatización de tareas que antes requerían una gran cantidad de tiempo y recursos humanos.\n",
    "\n",
    "<center><img src=https://w0.peakpx.com/wallpaper/496/595/HD-wallpaper-red-mushroom-mushroom-red-beautiful.jpg></center>\n",
    "\n",
    "Este conjunto de datos incluye descripciones de muestras correspondientes a 23 especies de hongos de la familia Agaricus y Hongo Lepiota extraídas de la Guía de campo de hongos norteamericanos de la Audubon Society. Cada especie se identifica como definitivamente comestible, definitivamente venenosa o de comestibilidad desconocida y no recomendada. Esta última clase se ha combinado con la venenosa."
   ]
  },
  {
   "cell_type": "markdown",
   "metadata": {
    "id": "_G3OZUw38FcJ"
   },
   "source": [
    "## 2.1 Manipulación y exploración del conjunto de datos"
   ]
  },
  {
   "cell_type": "code",
   "execution_count": null,
   "metadata": {
    "id": "tO2RzdBgovmC"
   },
   "outputs": [],
   "source": [
    "data_mush = pd.read_csv('mushrooms.csv')"
   ]
  },
  {
   "cell_type": "code",
   "execution_count": null,
   "metadata": {
    "id": "HeWH4Rtvo2eK"
   },
   "outputs": [],
   "source": [
    "# Shape of the data.\n",
    "print(\"Total Rows and Columns in DataFrame is :\", data_mush.shape,\"\\n\") \n",
    "\n",
    "data_mush.head()"
   ]
  },
  {
   "cell_type": "code",
   "execution_count": null,
   "metadata": {
    "id": "zHMHTQQnqqts"
   },
   "outputs": [],
   "source": [
    "def datainfo():\n",
    "    temp_ps = pd.DataFrame(index=data_mush.columns)\n",
    "    temp_ps['DataType'] = data_mush.dtypes\n",
    "    temp_ps[\"Non-null_Values\"] = data_mush.count()\n",
    "    temp_ps['Unique_Values'] = data_mush.nunique()\n",
    "    temp_ps['NaN_Values'] = data_mush.isnull().sum()\n",
    "    temp_ps['NaN_Values_Percentage'] = (temp_ps['NaN_Values']/len(data_mush))*100 \n",
    "    return temp_ps\n",
    "\n",
    "info = datainfo()\n",
    "info"
   ]
  },
  {
   "cell_type": "markdown",
   "metadata": {},
   "source": [
    "Notamos que no faltan datos y que no hay incongruencias en ellos (no hay NaN). Además, todas las columnas presentes en la data son variables categóricas y estamos en presencia de 6 variables binarias, donde una de ellas es nuestro taget '_class_'."
   ]
  },
  {
   "cell_type": "markdown",
   "metadata": {
    "id": "v2kvhHwfygON"
   },
   "source": [
    "### 2.1.1 Exploración de features\n",
    "\n",
    "> a) ¿Por qué la variable _veil-type_ no aporta ningún valor al entrenamiento? Grafique, justifique y elimine la columna.\n",
    "\n",
    "a) `Respuesta`: Porque toma un único valor, es decir, es constante, por lo que no aporta nada al momento clasificar."
   ]
  },
  {
   "cell_type": "code",
   "execution_count": null,
   "metadata": {
    "id": "CwH3fAB8uVrs"
   },
   "outputs": [],
   "source": [
    "sns.countplot(x=\"veil-type\", data=data_mush)"
   ]
  },
  {
   "cell_type": "code",
   "execution_count": null,
   "metadata": {
    "id": "tvp6YJH4zDRm"
   },
   "outputs": [],
   "source": [
    "data_mush.drop('veil-type', axis=1, inplace=True)\n",
    "data_mush.head()"
   ]
  },
  {
   "cell_type": "markdown",
   "metadata": {
    "id": "d1RmGujEYLub"
   },
   "source": [
    "> b) Grafique la distribución de cada variable"
   ]
  },
  {
   "cell_type": "code",
   "execution_count": null,
   "metadata": {
    "id": "r0HBjhQ8zK5n"
   },
   "outputs": [],
   "source": [
    "for col in data_mush.columns:    \n",
    "    sns.catplot(x=col, kind=\"count\", data=data_mush, height=3, aspect=1.5)"
   ]
  },
  {
   "cell_type": "markdown",
   "metadata": {
    "id": "_A4vBrbujC62"
   },
   "source": [
    "> c) Separe el conjunto de datos en los subconjuntos de entrenamiento y prueba."
   ]
  },
  {
   "cell_type": "code",
   "execution_count": null,
   "metadata": {},
   "outputs": [],
   "source": [
    "train_set, test_set = train_test_split(data_mush, test_size=0.2, shuffle=True, stratify=None)\n",
    "\n",
    "# Shape of the data.\n",
    "print(\"Total Rows and Columns in train set is :\", train_set.shape) \n",
    "print(\"Total Rows and Columns in test set is :\", test_set.shape) \n",
    "\n",
    "train_set.head()"
   ]
  },
  {
   "cell_type": "markdown",
   "metadata": {},
   "source": [
    "> d) Codifique las variables de entrada para que puedan ser trabajadas en las siguientes preguntas.\n",
    "\n",
    "Puesto que todas las variables son categóricas, debemos codificarlas todas."
   ]
  },
  {
   "cell_type": "code",
   "execution_count": null,
   "metadata": {},
   "outputs": [],
   "source": [
    "# create a list to store the columns to be dropped\n",
    "drop_cols = []\n",
    "data_again = pd.concat([train_set, test_set])\n",
    "\n",
    "# iterate over columns and check for binary variables\n",
    "for col in data_again.columns:\n",
    "    if len(data_again[col].unique()) == 2:\n",
    "        # convert binary variables to 0/1\n",
    "        if col == 'class':\n",
    "            # mapear 'e' a 0 y 'p' a 1\n",
    "            data_again[col] = data_again[col].replace({'e': 0, 'p': 1})\n",
    "        else:\n",
    "            data_again[col] = pd.factorize(data_again[col])[0]\n",
    "    else:\n",
    "        # get dummies for categorical variables with more than 2 categories\n",
    "        data_again = pd.concat([data_again, pd.get_dummies(data_again[col], prefix=col)], axis=1)\n",
    "        # add the original column to the list of columns to be dropped\n",
    "        drop_cols.append(col)\n",
    "\n",
    "# drop the original categorical columns from the train and test sets\n",
    "data_again.drop(drop_cols, axis=1, inplace=True)\n",
    "\n",
    "train_set = data_again.iloc[:train_set.shape[0], :]\n",
    "test_set = data_again.iloc[-test_set.shape[0]:, :]\n",
    "\n",
    "# print the shapes of the train and test sets\n",
    "print('Train set shape:', train_set.shape)\n",
    "print('Test set shape:', test_set.shape)\n",
    "\n",
    "train_set.head()"
   ]
  },
  {
   "cell_type": "markdown",
   "metadata": {
    "id": "24H4pse5D0rh"
   },
   "source": [
    "> e) Separe los subconjuntos en _X_ e _y_"
   ]
  },
  {
   "cell_type": "code",
   "execution_count": null,
   "metadata": {
    "id": "zpRGMbAmapJb"
   },
   "outputs": [],
   "source": [
    "X_train = train_set.drop('class',axis=1)\n",
    "y_train = train_set['class']\n",
    "\n",
    "X_test = test_set.drop('class',axis=1)\n",
    "y_test = test_set['class']"
   ]
  },
  {
   "cell_type": "code",
   "execution_count": null,
   "metadata": {},
   "outputs": [],
   "source": [
    "# Shape of the data.\n",
    "print(\"Total Rows and Columns in X_train is :\", X_train.shape) \n",
    "print(\"Total Rows and Columns in y_train is :\", y_train.shape,\"\\n\") \n",
    "\n",
    "X_train.head()"
   ]
  },
  {
   "cell_type": "markdown",
   "metadata": {
    "id": "wOZyIyBi8qem"
   },
   "source": [
    "### 2.1.2 Principal Component Analisis\n",
    "\n",
    "PCA (Principal Component Analysis) es una técnica de reducción de dimensionalidad comúnmente usada en machine learning para reducir el número de características en el conjunto de datos conservando la información más importante.\n",
    "\n",
    "> a) Aplique PCA a los datos preprocesados para reducir el número de características a un conjunto más pequeño de componentes principales que capturen los patrones más importantes de los datos. Pruebe con n_components = n_features - k, donde k={1,10,50}, es decir, cree 3 posibles transformaciones de \"*X_train*\" y apliquelas sobre \"*X_test*\"."
   ]
  },
  {
   "cell_type": "markdown",
   "metadata": {
    "id": "ks2RQ2eMeT8U"
   },
   "source": [
    "**Nota:** En adelante se le llamará \"representación de los datos\" a las distintas _feature selection/extraction_, por ejemplo: una posible representación de los datos es aplicar PCA con las 80 componentes principales."
   ]
  },
  {
   "cell_type": "code",
   "execution_count": null,
   "metadata": {
    "id": "_G2xFi8So5-H"
   },
   "outputs": [],
   "source": [
    "n_features = X_train.shape[1]\n",
    "\n",
    "#----------Con k=1\n",
    "\n",
    "pca = PCA(n_components =  n_features-1)\n",
    "pca.fit(X_train)\n",
    "\n",
    "X_train_pca_1 = pca.transform(X_train)\n",
    "X_test_pca_1 = pca.transform(X_test)\n",
    "\n",
    "#----------Ahora con k=10\n",
    "\n",
    "pca = PCA(n_components=  n_features-10)\n",
    "pca.fit(X_train)\n",
    "\n",
    "X_train_pca_10 = pca.transform(X_train)\n",
    "X_test_pca_10 = pca.transform(X_test)\n",
    "\n",
    "#----------Ahora con k=50\n",
    "\n",
    "pca = PCA(n_components=  n_features-50)\n",
    "pca.fit(X_train)\n",
    "\n",
    "X_train_pca_50 = pca.transform(X_train)\n",
    "X_test_pca_50 = pca.transform(X_test)"
   ]
  },
  {
   "cell_type": "markdown",
   "metadata": {
    "id": "u3rcLNkJ8Mun"
   },
   "source": [
    "### 2.1.3 Mutual Information\n",
    "\n",
    "La información mutua es una medida de dependencia entre variables, se puede usar para medir el grado de asociación entre las _features_ y el _target_, y usar esta información para seleccionar las _features_ más relevantes para posteriormente realizar la clasificación. Al utilizar la información mutua para seleccionar las características más informativas, puede mejorar potencialmente el rendimiento de su modelo de aprendizaje automático reduciendo la cantidad de información irrelevante o redundante en el conjunto de datos.\n",
    "\n",
    "> a) Calcule la información mutua entre cada característica y la variable objetivo (comestible o venenoso) para medir el grado de asociación entre cada característica y la variable objetivo.\n",
    "\n",
    "> b) Seleccione las n características con las puntuaciones de información mutua más altas como entrada para un modelo de aprendizaje automático. Pruebe con n = n_features - k, para k={1,10,50}, es decir, cree 3 posibles transformaciones de \"X_train\" y apliquelas sobre \"X_test\".\n",
    "\n",
    "\n",
    "\n"
   ]
  },
  {
   "cell_type": "code",
   "execution_count": null,
   "metadata": {
    "id": "lqINeaZ3MdOJ"
   },
   "outputs": [],
   "source": [
    "mi = mutual_info_classif(X_train, y_train)\n",
    "len(mi)"
   ]
  },
  {
   "cell_type": "code",
   "execution_count": null,
   "metadata": {
    "id": "akk4t7pyNNBF"
   },
   "outputs": [],
   "source": [
    "# set k to the number of features you want to exclude\n",
    "k = [1,10,50]\n",
    "col = []\n",
    "for i in k:\n",
    "  # compute the number of features to select\n",
    "  n = n_features - i\n",
    "\n",
    "  # get the indices of the features sorted by mutual information score\n",
    "  sorted_indices = np.argsort(mi)\n",
    "\n",
    "  # select the top n features\n",
    "  selected_indices = sorted_indices[-n:]\n",
    "  col.append(selected_indices)\n",
    "\n",
    "X_train_mi_1 = X_train.iloc[:,col[0]]\n",
    "X_test_mi_1 = X_test.iloc[:,col[0]]\n",
    "\n",
    "# Shape of the data.\n",
    "print(\"Total Rows and Columns in DataFrame is :\", X_train_mi_1.shape) \n",
    "\n",
    "X_train_mi_10 = X_train.iloc[:,col[1]]\n",
    "X_test_mi_10 = X_test.iloc[:,col[1]]\n",
    "\n",
    "# Shape of the data.\n",
    "print(\"Total Rows and Columns in DataFrame is :\", X_train_mi_10.shape) \n",
    "\n",
    "X_train_mi_50 = X_train.iloc[:,col[2]]\n",
    "X_test_mi_50 = X_test.iloc[:,col[2]]\n",
    "\n",
    "# Shape of the data.\n",
    "print(\"Total Rows and Columns in DataFrame is :\", X_train_mi_50.shape) "
   ]
  },
  {
   "cell_type": "markdown",
   "metadata": {
    "id": "um0CQ3Qv86Jz"
   },
   "source": [
    "## 2.2 Modelos de clasificación\n",
    "\n",
    "Primero entrenaremos el modelo Naïve Bayes con los conjuntos de datos de entrenamiento generados en el punto 2.1, luego entrenaremos otros clasificadores utilizando como conjunto de entrenamiento la mejor representación de los datos según las metricas de clasificación obtenidas con el modelo Naïve Bayes."
   ]
  },
  {
   "cell_type": "markdown",
   "metadata": {
    "id": "uP7cUph-H4_p"
   },
   "source": [
    "### 2.2.1 Naïve Bayes\n",
    "\n",
    "Naïve Bayes es un modelo generativo clásico para la clasificación en el aprendizaje automático. En el contexto de la clasificación de hongos, puede utilizar Naïve Bayes para modelar la distribución de probabilidad de cada característica dada la etiqueta de clase (comestible o venenosa) y utilizar la regla de Bayes para calcular la probabilidad posterior de cada etiqueta de clase dadas las características observadas.\n",
    "\n",
    "Al utilizar Naïve Bayes para la clasificación, se puede conseguir un buen rendimiento con cantidades relativamente pequeñas de datos de entrenamiento y modelos relativamente sencillos. Sin embargo, Naïve Bayes asume que las características son condicionalmente independientes dada la etiqueta de clase, lo que puede no ser cierto en la práctica. No obstante, Naïve Bayes puede ser un modelo _baseline_ útil para comparar con modelos más complejos.\n",
    "\n",
    "Dado el conjuntos de entrenamiento con características observadas, se utiliza la regla de Bayes para calcular la probabilidad a posteriori de cada etiqueta de clase dadas las características observadas. La etiqueta de clase con la probabilidad a posteriori más alta sería la etiqueta de clase predicha para la muestra de hongos.\n",
    "\n",
    "Si consideramos que $P(x_1, \\dots, x_n)$ es constante, entonces:\n",
    "\n",
    "\\begin{align}\\begin{aligned}P(y \\mid x_1, \\dots, x_n) \\propto P(y) \\prod_{i=1}^{n} P(x_i \\mid y)\\\\\\Downarrow\\\\\\hat{y} = \\arg\\max_y P(y) \\prod_{i=1}^{n} P(x_i \\mid y).\\end{aligned}\\end{align}\n",
    "\n",
    "Usted deberá utilizar la estimación Máxima A Posteriori (MAP) para estimar $P(y)$ y $P(x_i \\mid y)$, donde $P(y)$ es la frecuancia relativa de la clase $y$ y $P(x_i \\mid y)$ asumiremos que se distribuye de forma Gaussiana, es decir:\n",
    "\n",
    "\\begin{align}\\begin{aligned}P(x_i \\mid y) = \\frac{1}{\\sqrt{2\\pi\\sigma^2_y}} \\exp\\left(-\\frac{(x_i - \\mu_y)^2}{2\\sigma^2_y}\\right)\\end{aligned}\\end{align}\n",
    "\n",
    "> a) ¿Qué otras distribuciones de probabilidad se pueden asumir para este problema considerando los valores posibles de las _features_ y del target en el conjunto de datos? Nombre mínimo 2.\n",
    "\n",
    "`Respuesta`: bernoulli, multimonomial (justificar)\n",
    "\n",
    "Para las preguntas b) y c) considere que los datos siguen una distribución de probabilidad Gaussiana y entrene el clasificador utilizando el módulo _GaussianNB_ de la librería _sklearn_.\n",
    "\n",
    "> b) Entrene el clasificador Naïve Bayes con los datos en _bruto_, es decir, tal cual como vienen, sin haber aplicado ninguna extracción o selección de características.\n",
    "\n",
    "> c) Entrene el clasificador Naïve Bayes con cada una de las representaciones obtenidas en el punto 2.1."
   ]
  },
  {
   "cell_type": "code",
   "execution_count": null,
   "metadata": {
    "id": "Xf1Dtw5HPc3D"
   },
   "outputs": [],
   "source": [
    "def bayes_modelo(X_train,y_train,X_test):\n",
    "    clf = GaussianNB()\n",
    "    bayes = clf.fit(X_train, y_train)\n",
    "    y_pred = clf.predict(X_test)\n",
    "    return y_pred\n",
    "    \n",
    "y_pred_bruto = bayes_modelo(X_train, y_train, X_test)\n",
    "\n",
    "#pca\n",
    "y_pred_pca_1 = bayes_modelo(X_train_pca_1, y_train, X_test_pca_1)\n",
    "y_pred_pca_10 = bayes_modelo(X_train_pca_10, y_train, X_test_pca_10)\n",
    "y_pred_pca_50 = bayes_modelo(X_train_pca_50, y_train, X_test_pca_50)\n",
    "\n",
    "#MI\n",
    "y_pred_mi_1 = bayes_modelo(X_train_mi_1, y_train, X_test_mi_1)\n",
    "y_pred_mi_10 = bayes_modelo(X_train_mi_10, y_train, X_test_mi_10)\n",
    "y_pred_mi_50 = bayes_modelo(X_train_mi_50, y_train, X_test_mi_50)"
   ]
  },
  {
   "cell_type": "markdown",
   "metadata": {
    "id": "reBuUAOAZRji"
   },
   "source": [
    "> d) Para cada representación de los datos del punto 2.1, obtenga las metricas de clasificación utilizando *classification_report* de la librería sklearn"
   ]
  },
  {
   "cell_type": "markdown",
   "metadata": {},
   "source": [
    "Veamos las métricas de forma general"
   ]
  },
  {
   "cell_type": "code",
   "execution_count": null,
   "metadata": {},
   "outputs": [],
   "source": [
    "def cla_report(y_test,y_pred):\n",
    "    return classification_report(y_test.tolist(), y_pred, target_names = ['edible', 'poisonous'])\n",
    "\n",
    "print('PCA: ')\n",
    "print(cla_report(y_test, y_pred_pca_1))\n",
    "print(cla_report(y_test, y_pred_pca_10))\n",
    "print(cla_report(y_test, y_pred_pca_50))"
   ]
  },
  {
   "cell_type": "code",
   "execution_count": null,
   "metadata": {},
   "outputs": [],
   "source": [
    "print('MI: ')\n",
    "print(cla_report(y_test, y_pred_mi_1))\n",
    "print(cla_report(y_test, y_pred_mi_10))\n",
    "print(cla_report(y_test, y_pred_mi_50))"
   ]
  },
  {
   "cell_type": "code",
   "execution_count": null,
   "metadata": {},
   "outputs": [],
   "source": [
    "print('BRUTO: ')\n",
    "print(cla_report(y_test, y_pred_bruto))"
   ]
  },
  {
   "cell_type": "markdown",
   "metadata": {},
   "source": [
    "Notamos que en general no hay métricas bajo 0.75, por lo que utilizaremos los siguientes 2 approach para escoger el mejor modelo.\n",
    "1. Mejor recall venenoso (para así disminuir el error de clasificar como comestible algo venenoso). En caso de empate, se escoge el de mayor f1-score venenoso.\n",
    "2. Al revés de 1."
   ]
  },
  {
   "cell_type": "code",
   "execution_count": null,
   "metadata": {
    "id": "gil4sig8bTLq"
   },
   "outputs": [],
   "source": [
    "def cla_report_dic(y_test,y_pred):\n",
    "    return classification_report(y_test.tolist(), y_pred, target_names = ['edible', 'poisonous'], output_dict=True)\n",
    "\n",
    "def metrics(reports): # Nos devuelve la mejor representación dentro de reports según el approach 1 y 2\n",
    "    accuracys = []\n",
    "    recall_pois = []\n",
    "    recall_edib = []\n",
    "    f1_pois = []\n",
    "    f1_edib = []\n",
    "\n",
    "    # Para cada representación de datos del punto 2.1 obtenemos métricas respectivas y las mostramos en pantalla\n",
    "    for name, y_pred in reports:\n",
    "        accuracys.append(cla_report_dic(y_test, y_pred)['accuracy'])\n",
    "        recall_pois.append(cla_report_dic(y_test, y_pred)['poisonous']['recall'])\n",
    "        recall_edib.append(cla_report_dic(y_test, y_pred)['edible']['recall'])\n",
    "        f1_pois.append(cla_report_dic(y_test, y_pred)['poisonous']['f1-score'])\n",
    "        f1_edib.append(cla_report_dic(y_test, y_pred)['edible']['f1-score'])\n",
    "        print(f'Report {name} Accuracy: {accuracys[-1]:.3f}')\n",
    "        print(f'Report {name} Recall Poisonous: {recall_pois[-1]:.3f}')\n",
    "        print(f'Report {name} Recall Edible: {recall_edib[-1]:.3f}')\n",
    "        print(f'Report {name} F1-Score Poisonous: {f1_pois[-1]:.3f}')\n",
    "        print(f'Report {name} F1-Score Edible: {f1_edib[-1]:.3f}\\n')\n",
    "\n",
    "    print('-----------------------------------------------')\n",
    "\n",
    "    ################# APPROACH 1 ####################\n",
    "    # Tomamos los índices de las representaciones con mejor métrica de recall venenoso\n",
    "    indices_best_recall_pois = np.where(np.array(recall_pois) == max(recall_pois))\n",
    "    # Si hay más de un índice con el mejor recall venenoso, comparamos f1-score venenoso\n",
    "    if len(indices_best_recall_pois[0]) > 1:\n",
    "        a1 = reports[f1_pois.index(max([f1_pois[i] for i in list(indices_best_recall_pois[0])[::-1]]))]\n",
    "    else:\n",
    "        a1 = reports[recall_pois.index(max(recall_pois))]\n",
    "    print(f'Mejor Approach 1: {a1[0]}')\n",
    "\n",
    "    ################# APPROACH 2 ####################\n",
    "    # Tomamos los índices de las representaciones con mejor métrica de f1-score venenoso\n",
    "    indices_best_f1_pois = np.where(np.array(f1_pois) == max(f1_pois))\n",
    "    # Si hay más de un índice con el mejor f1-score venenoso, comparamos recall venenoso\n",
    "    if len(indices_best_f1_pois[0]) > 1:\n",
    "        a2 = reports[recall_pois.index(max([recall_pois[i] for i in list(indices_best_f1_pois[0])[::-1]]))]\n",
    "    else:\n",
    "        a2 = reports[f1_pois.index(max(f1_pois))]\n",
    "    print(f'Mejor Approach 2: {a2[0]}')\n",
    "\n",
    "    a1[1] = list(a1[1])\n",
    "    a2[1] = list(a2[1])\n",
    "    return [a1,a2]\n",
    "\n",
    "reports = [['PCA 1', y_pred_pca_1], ['PCA 10', y_pred_pca_10], ['PCA 50', y_pred_pca_50]]\n",
    "bests_pca = metrics(reports)"
   ]
  },
  {
   "cell_type": "code",
   "execution_count": null,
   "metadata": {},
   "outputs": [],
   "source": [
    "reports = [['MI 1', y_pred_mi_1], ['MI 10', y_pred_mi_10], ['MI 50', y_pred_mi_50]]\n",
    "\n",
    "bests_mi = metrics(reports)"
   ]
  },
  {
   "cell_type": "code",
   "execution_count": null,
   "metadata": {},
   "outputs": [],
   "source": [
    "help = cla_report_dic(y_test, y_pred_bruto)\n",
    "print(f'Report BRUTO Accuracy: {help[\"accuracy\"]:.2f}')\n",
    "print(f'Report BRUTO Recall Poisonous: {help[\"poisonous\"][\"recall\"]:.2f}')\n",
    "print(f'Report BRUTO F1-Score Poisonous: {help[\"poisonous\"][\"f1-score\"]:.2f}')"
   ]
  },
  {
   "cell_type": "markdown",
   "metadata": {
    "id": "zSbWWmEGdl0Q"
   },
   "source": [
    "> e) Determine la mejor representación de los datos según las metricas obtenidas en la pregunta anterior y utilice esa representación de aquí en adelante para entrenar a los otros clasificadores."
   ]
  },
  {
   "cell_type": "code",
   "execution_count": null,
   "metadata": {},
   "outputs": [],
   "source": [
    "bests = []\n",
    "\n",
    "for a in [0,1]:\n",
    "    reports = [bests_pca[a], bests_mi[a], ['BRUTO', y_pred_bruto]]\n",
    "    best = metrics(reports)\n",
    "    print('-----------------------------------------------')"
   ]
  },
  {
   "cell_type": "code",
   "execution_count": null,
   "metadata": {},
   "outputs": [],
   "source": [
    "y_pred_1 = y_pred_mi_10\n",
    "X_train_1 = X_train_mi_10\n",
    "X_test_1 = X_test_mi_10\n",
    "\n",
    "y_pred_2 = y_pred_mi_50\n",
    "X_train_2 = X_train_mi_50\n",
    "X_test_2 = X_test_mi_50"
   ]
  },
  {
   "cell_type": "markdown",
   "metadata": {},
   "source": [
    "\n",
    "> f) Muestre los errores tipo 1 y tipo 2."
   ]
  },
  {
   "cell_type": "code",
   "execution_count": null,
   "metadata": {
    "id": "YxBQ4ho8pL3S"
   },
   "outputs": [],
   "source": [
    "# Función para mostrar matriz de confusión y así el error tipo 1 y tipo 2.\n",
    "def plot_cm(y_test, y_pred):\n",
    "    # Calcula la matriz de confusión\n",
    "    cm = confusion_matrix(y_test, y_pred)\n",
    "\n",
    "    # Define los nombres de las clases\n",
    "    class_names = ['edible', 'poisonous']\n",
    "\n",
    "    # Crea el heatmap con los números\n",
    "    sns.heatmap(cm, annot=True, cmap=plt.cm.Blues, fmt='d', xticklabels=class_names, yticklabels=class_names)\n",
    "\n",
    "    # Ajusta las etiquetas del eje\n",
    "    plt.xlabel('Predicted label')\n",
    "    plt.ylabel('True label')\n",
    "    plt.show()  "
   ]
  },
  {
   "cell_type": "code",
   "execution_count": null,
   "metadata": {},
   "outputs": [],
   "source": [
    "print('Representación app 1:')\n",
    "plot_cm(y_test, y_pred_1)\n",
    "print('Representación app 2:')\n",
    "plot_cm(y_test, y_pred_2)"
   ]
  },
  {
   "cell_type": "markdown",
   "metadata": {
    "id": "VBsq1Fz79PYq"
   },
   "source": [
    "### 2.2.2 Linear Discriminant Analisis\n",
    "\n",
    "El análisis discriminante lineal (LDA) es un algoritmo clásico de clasificación lineal, y su objetivo es encontrar una combinación lineal de características que maximice la separación entre las dos clases (setas comestibles y venenosas). En otras palabras, el LDA intenta proyectar los datos en un espacio de menor dimensión, preservando al mismo tiempo la mayor discriminación de clases posible.\n",
    "\n",
    "La etiqueta de clase con la media más cercana en el espacio transformado sería la etiqueta de clase predicha para la muestra de setas.\n",
    "\n",
    "> a) ¿Qué es lo que asume el modelo LDA sobre la distribución condicional de las clases?\n",
    "\n",
    "a) `Respuesta`: Asume que todas las clases siguen una distribución gaussiana multivariante, es decir, que las distribuciones condicionales son gaussianas multivariadas.\n",
    "\n",
    "> b) ¿Qué es lo que asume el modelo LDA sobre las matrices de covarianza de la distribución condicional?\n",
    "\n",
    "b) `Respuesta`: Asume que cada una de esas distribuciones tiene igual matriz de covarianza.\n",
    "\n",
    "> c) Entrene este clasificador con el mejor dataset del punto 2.1 según los resultados obtenidos con el clasificador Naïve Bayes en el punto 2.2.1."
   ]
  },
  {
   "cell_type": "code",
   "execution_count": null,
   "metadata": {
    "id": "jxrmNpGNWWoS"
   },
   "outputs": [],
   "source": [
    "clf = LinearDiscriminantAnalysis()\n",
    "clf.fit(X_train_1, y_train)\n",
    "y_pred_lda_1 = clf.predict(X_test_1)\n",
    "\n",
    "len(y_pred_lda_1)\n",
    "\n",
    "clf = LinearDiscriminantAnalysis()\n",
    "clf.fit(X_train_2, y_train)\n",
    "y_pred_lda_2 = clf.predict(X_test_2)\n",
    "\n",
    "len(y_pred_lda_2)"
   ]
  },
  {
   "cell_type": "markdown",
   "metadata": {
    "id": "iLo4nrTbgoZh"
   },
   "source": [
    "> d) Obtenga las metricas de clasificación utilizando *classification_report* de la librería sklearn"
   ]
  },
  {
   "cell_type": "code",
   "execution_count": null,
   "metadata": {
    "id": "P-6ME0RNgq-g"
   },
   "outputs": [],
   "source": [
    "print(f'Report LDA app1:\\n{cla_report(y_test, y_pred_lda_1)}')\n",
    "print(f'Report LDA app2:\\n{cla_report(y_test, y_pred_lda_2)}')"
   ]
  },
  {
   "cell_type": "markdown",
   "metadata": {
    "id": "9J1Rk1aApr84"
   },
   "source": [
    "> e) Muestre los errores tipo 1 y tipo 2."
   ]
  },
  {
   "cell_type": "code",
   "execution_count": null,
   "metadata": {
    "id": "sX4iJOCBpwQj"
   },
   "outputs": [],
   "source": [
    "print('LDA app1')\n",
    "plot_cm(y_test, y_pred_lda_1)\n",
    "print('LDA app2')\n",
    "plot_cm(y_test, y_pred_lda_2)"
   ]
  },
  {
   "cell_type": "markdown",
   "metadata": {
    "id": "lgXLc7RX8-8k"
   },
   "source": [
    "### 2.2.3 Regresión logística\n",
    "\n",
    "La regresión logística es un modelo discriminativo de clasificación clásico que puede utilizarse para la clasificación de hongos. El objetivo de la regresión logística es encontrar el modelo lineal que mejor se ajuste y que pueda predecir la probabilidad de que cada muestra de hongo pertenezca a una clase determinada (comestible o venenosa).\n",
    "\n",
    "> a) ¿En qué consiste la estimación de máxima verosimilitud de coeficientes?\n",
    "\n",
    "a) `Respuesta`: Consiste en encontrar los valores de los coeficientes que maximizan la probabilidad de que los datos observados se ajusten al modelo asumido, es decir, se busca encontrar los valores de los coeficientes que hacen que los datos observados sean más probables según el modelo.\n",
    "\n",
    "> b) ¿Qué asume este modelo de la relación entre las características y la variable objetivo?\n",
    "\n",
    "b) `Respuesta`: que su relación es logarítmica\n",
    "\n",
    "> c) ¿Qué se hace para evitar el sobreajuste de este modelo?\n",
    "\n",
    "c) `Respuesta`: **Regularización** (penalización a la función costo). **Ajuste del parámetro de regularización**, mientras más grande, se tiende a subajustar. **Validación cruzada**. **Selección de características**.\n",
    "\n",
    "> d) Entrene este clasificador con el mejor dataset del punto 2.1 según los resultados obtenidos con el clasificador Naïve Bayes en el punto 2.2.1.\n",
    "\n",
    "**Nota:** Usted puede variar o probar con distintos hiperparámetros siempre y cuando se utilizen de forma correcta el modelo y los datos para que pueda obtener predicciones comparables con los otros modelos. Puede basarse en los hiperparámetros probados con el regresor logistico y en la documentación de la librería."
   ]
  },
  {
   "cell_type": "code",
   "execution_count": null,
   "metadata": {
    "id": "faocESHchCK_"
   },
   "outputs": [],
   "source": [
    "clf = LogisticRegression()\n",
    "clf.fit(X_train_1,y_train)\n",
    "\n",
    "y_pred_rl_1 = clf.predict(X_test_1)\n",
    "\n",
    "clf = LogisticRegression()\n",
    "clf.fit(X_train_2,y_train)\n",
    "\n",
    "y_pred_rl_2 = clf.predict(X_test_2)"
   ]
  },
  {
   "cell_type": "markdown",
   "metadata": {
    "id": "_Gk5_iFrhE-r"
   },
   "source": [
    "> e) Obtenga las metricas de clasificación utilizando *classification_report* de la librería sklearn"
   ]
  },
  {
   "cell_type": "code",
   "execution_count": null,
   "metadata": {
    "id": "US3MfxZGhHQN"
   },
   "outputs": [],
   "source": [
    "print(f'Report RL app1:\\n{cla_report(y_test, y_pred_rl_1)}')\n",
    "print(f'Report RL app2:\\n{cla_report(y_test, y_pred_rl_2)}')"
   ]
  },
  {
   "cell_type": "markdown",
   "metadata": {
    "id": "kqY0jMAHpyB0"
   },
   "source": [
    "> f) Muestre los errores tipo 1 y tipo 2."
   ]
  },
  {
   "cell_type": "code",
   "execution_count": null,
   "metadata": {
    "id": "Uz2Wy17up2SU"
   },
   "outputs": [],
   "source": [
    "print('LDA app1')\n",
    "plot_cm(y_test, y_pred_rl_1)\n",
    "print('LDA app2')\n",
    "plot_cm(y_test, y_pred_rl_2)"
   ]
  },
  {
   "cell_type": "markdown",
   "metadata": {
    "id": "DwRKRvP_9KIs"
   },
   "source": [
    "### 2.2.4 Support Vector Machines\n",
    "\n",
    "Las máquinas de vectores soporte (SVM) son un algoritmo de aprendizaje automático potente y versátil que puede utilizarse para la clasificación de hongos. La idea principal detrás de SVM es encontrar el hiperplano que mejor separa las diferentes clases en el conjunto de datos.\n",
    "\n",
    "Utilice los datos de entrenamiento para ajustar un modelo SVM a los datos. Esto implica encontrar el hiperplano que maximice el margen entre las muestras positivas y negativas. El margen es la distancia entre el hiperplano y las muestras más cercanas de cada clase.\n",
    "\n",
    "Si los datos no se pueden separar linealmente, utilice funciones de kernel para transformar los datos en un espacio de mayor dimensión en el que se puedan separar. Las funciones kernel más comunes incluyen funciones polinómicas, de base radial (RBF) y sigmoidales.\n",
    "\n",
    "Entrene un clasificador SVM con el mejor dataset del punto 2.1 según los resultados obtenidos con el clasificador Naïve Bayes en el punto 2.2.1.\n",
    "\n",
    "Entrene el clasificador con los siguientes tipos de kernel:\n",
    "\n",
    "a) Lineal, con 2 valores del coeficiente gamma distintos.\n",
    "\n",
    "b) Polinómico, con 2 valores del coeficiente gamma distintos.\n",
    "\n",
    "c) rbf, con 2 valores del coeficiente gamma distintos."
   ]
  },
  {
   "cell_type": "code",
   "execution_count": null,
   "metadata": {},
   "outputs": [],
   "source": [
    "def set_gammas(X_train, y_train, approach):\n",
    "    from sklearn.metrics import make_scorer\n",
    "    from sklearn.metrics import recall_score, f1_score\n",
    "    # Definir los parámetros que se quieren probar en la validación cruzada\n",
    "    param_grid = {'gamma': [0.001, 0.01, 0.1, 1, 10]}\n",
    "    kernels = ['linear', 'poly', 'rbf']\n",
    "    dic_gammas = {}\n",
    "\n",
    "    # Definir métricas de venenoso\n",
    "    recall_neg = make_scorer(recall_score, pos_label=1)\n",
    "    f1_neg = make_scorer(f1_score, pos_label=1)\n",
    "    scoring = [recall_neg, f1_neg]\n",
    "\n",
    "    for kernel in kernels:\n",
    "        # Definir el modelo\n",
    "        clf = NuSVC(kernel=kernel)\n",
    "\n",
    "        # Definir el objeto GridSearchCV y ajustar los datos\n",
    "        grid_search = GridSearchCV(clf, param_grid=param_grid, cv=5, scoring=scoring[approach-1])\n",
    "        grid_search.fit(X_train, y_train)\n",
    "\n",
    "        print(f'Kernel: {kernel}')\n",
    "\n",
    "        # Encontrar el mejor valor de gamma y su puntaje\n",
    "        best_gamma = grid_search.best_params_['gamma']\n",
    "        best_score = grid_search.best_score_\n",
    "        print(\"Mejor valor de gamma: \", best_gamma)\n",
    "        print(\"Mejor puntaje de validación cruzada: {:.2f}\".format(best_score))\n",
    "\n",
    "        # Encontrar el peor valor de gamma y su puntaje\n",
    "        worst_gamma = min(grid_search.cv_results_['params'], key=lambda x: grid_search.cv_results_['mean_test_score'][grid_search.cv_results_['params'].index(x)])['gamma']\n",
    "        worst_score = min(grid_search.cv_results_['mean_test_score'])\n",
    "        print(\"Peor valor de gamma: \", worst_gamma)\n",
    "        print(\"Peor puntaje de validación cruzada: {:.2f}\".format(worst_score))\n",
    "\n",
    "        dic_gammas[kernel] = [best_gamma, worst_gamma]\n",
    "        print('-------------------------------------------------------')\n",
    "\n",
    "    return dic_gammas\n",
    "\n",
    "print('APPROACH 1:')\n",
    "dic_gammas_1 = set_gammas(X_train_1, y_train, 1)\n",
    "\n",
    "print('APPROACH 2:')\n",
    "dic_gammas_2 = set_gammas(X_train_2, y_train, 2)"
   ]
  },
  {
   "cell_type": "markdown",
   "metadata": {},
   "source": [
    "Hay que agregar why en lineal no mejora :)"
   ]
  },
  {
   "cell_type": "code",
   "execution_count": null,
   "metadata": {},
   "outputs": [],
   "source": [
    "def get_y_pred(X_train, y_train, X_test, dic_gammas):\n",
    "    kernels = ['linear', 'poly', 'rbf']\n",
    "    y_pred = {}\n",
    "\n",
    "    for kernel in kernels:\n",
    "        for gamma in dic_gammas[kernel]:\n",
    "            clf = NuSVC(kernel=kernel, gamma = gamma)\n",
    "            clf.fit(X_train, y_train)\n",
    "\n",
    "            if kernel not in y_pred:\n",
    "                y_pred[kernel] = []\n",
    "\n",
    "            y_pred[kernel].append(clf.predict(X_test))\n",
    "    return y_pred\n",
    "\n",
    "y_pred_1 = get_y_pred(X_train_1, y_train, X_test_1, dic_gammas_1)   # [[],[],[]]\n",
    "y_pred_2 = get_y_pred(X_train_2, y_train, X_test_2, dic_gammas_2)"
   ]
  },
  {
   "cell_type": "markdown",
   "metadata": {
    "id": "qQJhlgd3mUS3"
   },
   "source": [
    "> d) Obtenga las metricas de clasificación utilizando *classification_report* de la librería sklearn"
   ]
  },
  {
   "cell_type": "code",
   "execution_count": null,
   "metadata": {
    "id": "nYGDlhIXmah5"
   },
   "outputs": [],
   "source": [
    "print('APPROACH 1:')\n",
    "for y_predicted in y_pred_1['linear']:\n",
    "    print(cla_report(y_test, y_predicted))\n",
    "print('------------------------------------------------------')\n",
    "print('APPROACH 2:')\n",
    "for y_predicted in y_pred_2['linear']:\n",
    "    print(cla_report(y_test, y_predicted))"
   ]
  },
  {
   "cell_type": "code",
   "execution_count": null,
   "metadata": {},
   "outputs": [],
   "source": [
    "print('APPROACH 1:')\n",
    "for y_predicted in y_pred_1['poly']:\n",
    "    print(cla_report(y_test, y_predicted)) \n",
    "print('------------------------------------------------------')\n",
    "print('APPROACH 2:')\n",
    "for y_predicted in y_pred_2['poly']:\n",
    "    print(cla_report(y_test, y_predicted)) "
   ]
  },
  {
   "cell_type": "code",
   "execution_count": null,
   "metadata": {},
   "outputs": [],
   "source": [
    "print('APPROACH 1:')\n",
    "for y_predicted in y_pred_1['rbf']:\n",
    "    print(classification_report(y_test, y_predicted))\n",
    "print('------------------------------------------------------')\n",
    "print('APPROACH 2:')\n",
    "for y_predicted in y_pred_2['rbf']:\n",
    "    print(classification_report(y_test, y_predicted))"
   ]
  },
  {
   "cell_type": "markdown",
   "metadata": {
    "id": "i8kgyvVIp4Q-"
   },
   "source": [
    "> e) Muestre los errores tipo 1 y tipo 2."
   ]
  },
  {
   "cell_type": "markdown",
   "metadata": {},
   "source": [
    "Mostraremos los errores tipo 1 y 2 de los mejores parámetros de cada kernel."
   ]
  },
  {
   "cell_type": "code",
   "execution_count": null,
   "metadata": {
    "id": "iosBy5v1p70p"
   },
   "outputs": [],
   "source": [
    "kernels = ['linear', 'poly', 'rbf']\n",
    "for kernel in kernels:\n",
    "    print(f'{kernel.upper()}')\n",
    "    plot_cm(y_test, y_pred_1[kernel][0])\n",
    "    plot_cm(y_test, y_pred_2[kernel][0])\n",
    "    print('----------------------------------------------------------------------')"
   ]
  },
  {
   "cell_type": "markdown",
   "metadata": {},
   "source": [
    "Ahora vemos los errores tipo 1 y 2 de los peores parámetros de cada kernel."
   ]
  },
  {
   "cell_type": "code",
   "execution_count": null,
   "metadata": {},
   "outputs": [],
   "source": [
    "kernels = ['linear', 'poly', 'rbf']\n",
    "for kernel in kernels:\n",
    "    print(f'{kernel.upper()}')\n",
    "    plot_cm(y_test, y_pred_1[kernel][1])\n",
    "    plot_cm(y_test, y_pred_2[kernel][1])\n",
    "    print('----------------------------------------------------------------------')"
   ]
  },
  {
   "cell_type": "markdown",
   "metadata": {
    "id": "7owu3oyXp8Zf"
   },
   "source": [
    "## 2.3 Conclusiones:\n",
    "\n",
    "(Escriba aquí sus conclusiones de la pregunta 2: Clasificación de hongos)"
   ]
  },
  {
   "cell_type": "markdown",
   "metadata": {},
   "source": [
    "felicidades llegaste al final owo WUJUUU"
   ]
  }
 ],
 "metadata": {
  "colab": {
   "provenance": [],
   "toc_visible": true
  },
  "kernelspec": {
   "display_name": "Python 3 (ipykernel)",
   "language": "python",
   "name": "python3"
  },
  "language_info": {
   "codemirror_mode": {
    "name": "ipython",
    "version": 3
   },
   "file_extension": ".py",
   "mimetype": "text/x-python",
   "name": "python",
   "nbconvert_exporter": "python",
   "pygments_lexer": "ipython3",
   "version": "3.10.9"
  },
  "vscode": {
   "interpreter": {
    "hash": "824ba6cfad49aa6f0e47bda43095e0cfa67343d4e5eb0577714e8db97409c7f2"
   }
  }
 },
 "nbformat": 4,
 "nbformat_minor": 1
}
